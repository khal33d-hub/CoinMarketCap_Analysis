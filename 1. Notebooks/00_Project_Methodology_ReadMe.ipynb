{
 "cells": [
  {
   "cell_type": "markdown",
   "metadata": {},
   "source": [
    "### Welcome. This notebook will discuss the methodology for the project."
   ]
  },
  {
   "cell_type": "markdown",
   "metadata": {},
   "source": [
    "# Methodology\n",
    "\n",
    "## This project is structured in three sections\n",
    "### Section 1:Download data\n",
    "### Section 2:Visualize\n",
    "### Section 3:Plot"
   ]
  },
  {
   "cell_type": "markdown",
   "metadata": {},
   "source": [
    "## Section 1: Download data\n",
    "In this case, \n",
    "- using the top 20 coin from coinmarket website [here](https://coinmarketcap.com/coins/)\n",
    "- python was the choice of programming language\n",
    "- Collect data from 20 assets from coinmarketcap into a single table.\n",
    "- The columns collected are Source, Pairs, Price, +2% Depth, -2% Depth, Volume, Volume %, Confidence, Liquidity, Updated."
   ]
  },
  {
   "cell_type": "markdown",
   "metadata": {},
   "source": [
    "## Section 2: Visualize\n",
    "1. Create a table \n",
    "> where, \n",
    ">- for each tradingpair(symbol), its top most liquid exchanges are measured by the column \"Volume\"\n",
    ">- columns: symbol, ex, volume, volume%, +2% depth, -2% depth\n",
    ">- title: volume on the selected markets yyyy-mm-dd (cmc).\n",
    ">- replace yyyy-mm-dd with the date grabbed the data was grabbed\n",
    "\n",
    "2. Display 'volume' column in scientific notation(float) in the table if possible using two decimals e.g. 1.23E6 since we want to look at size, not its precision."
   ]
  },
  {
   "cell_type": "markdown",
   "metadata": {},
   "source": [
    "## Section 3: Plot\n",
    ">title: volume on the selected markets yyyy-mm-dd (cmc)\n",
    "\n",
    ">a stacked bar chart of corresponding table in section 2.\n",
    "\n",
    ">x axis: 'quote' column.\n",
    "\n",
    ">y axis: sum of 'volume' column\n",
    "\n",
    ">color by: 'exchange' column\n",
    "\n",
    ">legend: name of 'exchange'\n",
    "\n",
    "> graph all quotes including /USD and /USDT.\n",
    "\n",
    "- Save one .png for each asset\n",
    "\n",
    "- Create one plot for each asset \n",
    "\n",
    "- put all asset inside a 5 by 4 matrix."
   ]
  },
  {
   "cell_type": "markdown",
   "metadata": {},
   "source": [
    " # Next, move to [01_Challenges Notebook]"
   ]
  },
  {
   "cell_type": "code",
   "execution_count": null,
   "metadata": {},
   "outputs": [],
   "source": []
  }
 ],
 "metadata": {
  "kernelspec": {
   "display_name": "Python 3",
   "language": "python",
   "name": "python3"
  },
  "language_info": {
   "codemirror_mode": {
    "name": "ipython",
    "version": 3
   },
   "file_extension": ".py",
   "mimetype": "text/x-python",
   "name": "python",
   "nbconvert_exporter": "python",
   "pygments_lexer": "ipython3",
   "version": "3.7.6"
  }
 },
 "nbformat": 4,
 "nbformat_minor": 4
}
