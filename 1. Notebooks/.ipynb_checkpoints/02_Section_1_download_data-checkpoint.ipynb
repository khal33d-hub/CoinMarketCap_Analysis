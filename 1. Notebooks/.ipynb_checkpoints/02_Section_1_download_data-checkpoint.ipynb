{
 "cells": [
  {
   "cell_type": "markdown",
   "metadata": {},
   "source": [
    "# Welcome to Section 1: Download data"
   ]
  },
  {
   "cell_type": "markdown",
   "metadata": {},
   "source": [
    "# COLLECTION OF TOP 20 DATA AT 2021/10/07\n",
    "---"
   ]
  },
  {
   "cell_type": "markdown",
   "metadata": {},
   "source": [
    "# Table of Contents\n",
    "### [1. Introduction](#intro)\n",
    "### [2. Import packages and modules](#import)\n",
    "### [3. Bitcoin](#first)\n",
    "### [4. Etherium](#second)\n",
    "### [5. Binance coin](#third)\n",
    "### [6. Cardano ](#fourth)\n",
    "### [7. Tether](#fifth)\n",
    "### [8. XRP](#sixth)\n",
    "### [9. Solana](#seventh)\n",
    "### [10. Polkadot](#eighth)\n",
    "### [11. USD coin](#ninth)\n",
    "### [12. Dogecoin](#tenth)\n",
    "### [13. Terra](#eleventh)\n",
    "### [14. Uniswap ](#twelfth)\n",
    "### [15. Avalanche](#thirteenth)\n",
    "### [16. Binance USD](#fourteenth)\n",
    "### [17. Chainlink ](#fiftheenth)\n",
    "### [18. Litecoin](#sixteenth)\n",
    "### [19. Algorand](#seventeenth)\n",
    "### [20. Bitcoin cash](#eighteenth)\n",
    "### [21. Wrapped Bitcoin](#nineteenth)\n",
    "### [22. SHIBA INU](#twentieth)\n",
    "\n",
    "---"
   ]
  },
  {
   "cell_type": "markdown",
   "metadata": {},
   "source": [
    "### 1. Introduction"
   ]
  },
  {
   "cell_type": "markdown",
   "metadata": {},
   "source": [
    "#### Step 1: Download data\n",
    "In this Notebook:\n",
    "- Collected data from top 20 assets from coinmarketcap.\n",
    "- The columns collected are Source, Pairs, Price, +2% Depth, -2% Depth, Volume, Volume %, Confidence, Liquidity, Updated.\n",
    "- The combination of Selenium and Beautifulsoup was used for webscraping"
   ]
  },
  {
   "cell_type": "markdown",
   "metadata": {},
   "source": [
    "### 2. Import packages and modules"
   ]
  },
  {
   "cell_type": "code",
   "execution_count": 3,
   "metadata": {},
   "outputs": [],
   "source": [
    "# importing libraries\n",
    "from selenium import webdriver\n",
    "import pandas as pd\n",
    "\n",
    "\n",
    "from bs4 import BeautifulSoup\n",
    "import requests"
   ]
  },
  {
   "cell_type": "markdown",
   "metadata": {},
   "source": [
    "### 3. Bitcoin"
   ]
  },
  {
   "cell_type": "code",
   "execution_count": 459,
   "metadata": {},
   "outputs": [],
   "source": [
    "# using selenium\n",
    "# Establish chrome driver and go to report site URL\n",
    "url = 'https://coinmarketcap.com/currencies/bitcoin/markets/'\n",
    "driver = webdriver.Chrome()\n",
    "driver.get(url)"
   ]
  },
  {
   "cell_type": "code",
   "execution_count": 460,
   "metadata": {},
   "outputs": [],
   "source": [
    "#using beautiful soup\n",
    "#Selenium hands the page source to Beautiful Soup\n",
    "soup = BeautifulSoup(driver.page_source, 'lxml')"
   ]
  },
  {
   "cell_type": "code",
   "execution_count": 461,
   "metadata": {},
   "outputs": [],
   "source": [
    "# scraping the table needed from the website page\n",
    "table = soup.find('table', {'class':'h7vnx2-2 ecUULi cmc-table'})"
   ]
  },
  {
   "cell_type": "markdown",
   "metadata": {},
   "source": [
    "#### Scraping the market table and its columns - Source, Pairs, Price, +2% Depth, -2% Depth, Volume, Volume %, Confidence, Liquidity, Updated.\n",
    "---"
   ]
  },
  {
   "cell_type": "code",
   "execution_count": 462,
   "metadata": {
    "scrolled": true
   },
   "outputs": [],
   "source": [
    "table_rows = table.find_all('tr')"
   ]
  },
  {
   "cell_type": "code",
   "execution_count": 463,
   "metadata": {},
   "outputs": [
    {
     "name": "stdout",
     "output_type": "stream",
     "text": [
      "16\n",
      "['Binance', 'Coinbase Exchange', 'FTX', 'Huobi Global', 'Binance', 'KuCoin', 'Binance', 'Gate.io', 'Bitfinex', 'FTX', 'Coincheck', 'Kraken', 'bitFlyer', 'Kraken', 'Binance', 'Binance']\n"
     ]
    }
   ],
   "source": [
    "query = table.find_all('p', {'class': 'sc-1eb5slv-0 iworPT'})\n",
    "source=[]\n",
    "\n",
    "for x in query:\n",
    "    try:\n",
    "        source.append(x.text)\n",
    "    except AttributeError:\n",
    "        break    \n",
    "        \n",
    "print(len(source))\n",
    "print(source)"
   ]
  },
  {
   "cell_type": "code",
   "execution_count": 464,
   "metadata": {},
   "outputs": [
    {
     "name": "stdout",
     "output_type": "stream",
     "text": [
      "16\n",
      "['BTC/USDT', 'BTC/USD', 'BTC/USD', 'BTC/USDT', 'BTC/BUSD', 'BTC/USDT', 'ETH/BTC', 'BTC/USDT', 'BTC/USD', 'BTC/USDT', 'BTC/JPY', 'XBT/USD', 'BTC/JPY', 'XBT/EUR', 'FTM/BTC', 'BTC/EUR']\n"
     ]
    }
   ],
   "source": [
    "query = table.find_all('a', {'class': 'qh9zi5-0 bGASOe cmc-link'})\n",
    "pairs=[]\n",
    "\n",
    "for x in query:\n",
    "    try:\n",
    "        pairs.append(x.text)\n",
    "    except AttributeError:\n",
    "        break    \n",
    "        \n",
    "print(len(pairs))\n",
    "print(pairs)"
   ]
  },
  {
   "cell_type": "code",
   "execution_count": 465,
   "metadata": {},
   "outputs": [
    {
     "name": "stdout",
     "output_type": "stream",
     "text": [
      "16\n",
      "['$54,176.97', '$54,192.24', '$54,206.00', '$54,180.86', '$54,170.22', '$54,177.23', '$54,153.77', '$54,175.85', '$54,194.00', '$54,187.33', '$54,133.56', '$54,181.40', '$54,162.05', '$54,106.69', '$54,153.77', '$53,598.48']\n"
     ]
    }
   ],
   "source": [
    "price=[]\n",
    "\n",
    "for row in table_rows[1:]:\n",
    "    try:\n",
    "        \n",
    "        price.append(row.find_all('td')[3].text)\n",
    "    except AttributeError:\n",
    "        break\n",
    "    except IndexError:\n",
    "        break\n",
    "                \n",
    "print(len(price))\n",
    "print(price)"
   ]
  },
  {
   "cell_type": "code",
   "execution_count": 466,
   "metadata": {},
   "outputs": [
    {
     "name": "stdout",
     "output_type": "stream",
     "text": [
      "16\n",
      "['$32,765,052.19', '$15,566,600.74', '$32,582,316.58', '$12,851,257.48', '$10,465,988.97', '$16,394,320.39', '$8,014,812.58', '$2,009,221.75', '$12,843,396.75', '$19,324,433.97', '$2,768,519.10', '$43,477,625.07', '$7,692,080.87', '$32,141,217.74', '$219,798.72', '$2,228,529.36']\n"
     ]
    }
   ],
   "source": [
    "plus_2_Depth=[]\n",
    "\n",
    "for row in table_rows[1:]:\n",
    "    try:\n",
    "        \n",
    "        plus_2_Depth.append(row.find_all('td')[4].text)\n",
    "    except AttributeError:\n",
    "        break\n",
    "    except IndexError:\n",
    "        break\n",
    "                \n",
    "print(len(plus_2_Depth))\n",
    "print(plus_2_Depth)"
   ]
  },
  {
   "cell_type": "code",
   "execution_count": 467,
   "metadata": {},
   "outputs": [
    {
     "name": "stdout",
     "output_type": "stream",
     "text": [
      "16\n",
      "['$22,878,508.04', '$12,963,925.83', '$34,453,757.36', '$10,516,856.39', '$10,621,280.85', '$9,115,899.32', '$3,388,725.58', '$2,521,215.00', '$26,009,444.38', '$43,089,123.68', '$1,594,436.67', '$39,626,961.69', '$3,532,870.59', '$31,870,007.67', '$450,674.01', '$1,638,032.34']\n"
     ]
    }
   ],
   "source": [
    "minus_2_Depth=[]\n",
    "\n",
    "for row in table_rows[1:]:\n",
    "    try:\n",
    "        \n",
    "        minus_2_Depth.append(row.find_all('td')[5].text)\n",
    "    except AttributeError:\n",
    "        break\n",
    "    except IndexError:\n",
    "        break\n",
    "                \n",
    "print(len(minus_2_Depth))\n",
    "print(minus_2_Depth)"
   ]
  },
  {
   "cell_type": "code",
   "execution_count": 468,
   "metadata": {},
   "outputs": [
    {
     "name": "stdout",
     "output_type": "stream",
     "text": [
      "16\n",
      "['$3,087,910,337', '$938,243,056', '$823,296,173', '$722,588,633', '$695,095,015', '$588,563,339', '$379,749,614', '$318,720,195', '$289,880,956', '$276,588,938', '$221,315,203', '$188,879,135', '$162,104,251', '$159,793,217', '$143,516,756', '$133,274,604']\n"
     ]
    }
   ],
   "source": [
    "volume=[]\n",
    "\n",
    "for row in table_rows[1:]:\n",
    "    try:\n",
    "        \n",
    "        volume.append(row.find_all('td')[6].text)\n",
    "    except AttributeError:\n",
    "        break\n",
    "    except IndexError:\n",
    "        break\n",
    "                \n",
    "print(len(volume))\n",
    "print(volume)"
   ]
  },
  {
   "cell_type": "code",
   "execution_count": 469,
   "metadata": {},
   "outputs": [
    {
     "name": "stdout",
     "output_type": "stream",
     "text": [
      "16\n",
      "['8.19%', '2.49%', '2.18%', '1.92%', '1.84%', '1.56%', '1.01%', '0.85%', '0.77%', '0.73%', '0.59%', '0.50%', '0.43%', '0.42%', '0.38%', '0.35%']\n"
     ]
    }
   ],
   "source": [
    "volume_perc=[]\n",
    "\n",
    "for row in table_rows[1:]:\n",
    "    try:\n",
    "        \n",
    "        volume_perc.append(row.find_all('td')[7].text)\n",
    "    except AttributeError:\n",
    "        break\n",
    "    except IndexError:\n",
    "        break\n",
    "                \n",
    "print(len(volume_perc))\n",
    "print(volume_perc)"
   ]
  },
  {
   "cell_type": "code",
   "execution_count": 470,
   "metadata": {},
   "outputs": [
    {
     "name": "stdout",
     "output_type": "stream",
     "text": [
      "16\n",
      "['High', 'High', 'Low', 'Low', 'High', 'High', 'High', 'High', 'High', 'High', 'High', 'High', 'High', 'High', 'High', 'High']\n"
     ]
    }
   ],
   "source": [
    "confidence=[]\n",
    "\n",
    "for row in table_rows[1:]:\n",
    "    try:\n",
    "        \n",
    "        confidence.append(row.find_all('td')[8].text)\n",
    "    except AttributeError:\n",
    "        break\n",
    "    except IndexError:\n",
    "        break\n",
    "                \n",
    "print(len(confidence))\n",
    "print(confidence)"
   ]
  },
  {
   "cell_type": "code",
   "execution_count": 471,
   "metadata": {},
   "outputs": [
    {
     "name": "stdout",
     "output_type": "stream",
     "text": [
      "16\n",
      "['897', '883', '929', '934', '874', '931', '865', '790', '802', '870', '553', '874', '396', '829', '925', '840']\n"
     ]
    }
   ],
   "source": [
    "liquidity=[]\n",
    "\n",
    "for row in table_rows[1:]:\n",
    "    try:\n",
    "        \n",
    "        liquidity.append(row.find_all('td')[9].text)\n",
    "    except AttributeError:\n",
    "        break\n",
    "    except IndexError:\n",
    "        break\n",
    "                \n",
    "print(len(liquidity))\n",
    "print(liquidity)"
   ]
  },
  {
   "cell_type": "code",
   "execution_count": 472,
   "metadata": {},
   "outputs": [
    {
     "name": "stdout",
     "output_type": "stream",
     "text": [
      "16\n",
      "['Recently', 'Recently', 'Recently', 'Recently', 'Recently', 'Recently', 'Recently', 'Recently', 'Recently', 'Recently', 'Recently', 'Recently', 'Recently', 'Recently', 'Recently', 'Recently']\n"
     ]
    }
   ],
   "source": [
    "updated=[]\n",
    "\n",
    "for row in table_rows[1:]:\n",
    "    try:\n",
    "        \n",
    "        updated.append(row.find_all('td')[10].text)\n",
    "    except AttributeError:\n",
    "        break\n",
    "    except IndexError:\n",
    "        break\n",
    "                \n",
    "print(len(updated))\n",
    "print(updated)"
   ]
  },
  {
   "cell_type": "markdown",
   "metadata": {},
   "source": [
    "#### Combining all our columns into pandas Dataframe and viewing it"
   ]
  },
  {
   "cell_type": "code",
   "execution_count": 473,
   "metadata": {},
   "outputs": [
    {
     "data": {
      "text/html": [
       "<div>\n",
       "<style scoped>\n",
       "    .dataframe tbody tr th:only-of-type {\n",
       "        vertical-align: middle;\n",
       "    }\n",
       "\n",
       "    .dataframe tbody tr th {\n",
       "        vertical-align: top;\n",
       "    }\n",
       "\n",
       "    .dataframe thead th {\n",
       "        text-align: right;\n",
       "    }\n",
       "</style>\n",
       "<table border=\"1\" class=\"dataframe\">\n",
       "  <thead>\n",
       "    <tr style=\"text-align: right;\">\n",
       "      <th></th>\n",
       "      <th>source</th>\n",
       "      <th>pairs</th>\n",
       "      <th>price</th>\n",
       "      <th>plus_2_Depth</th>\n",
       "      <th>minus_2_Depth</th>\n",
       "      <th>volume</th>\n",
       "      <th>volume_perc</th>\n",
       "      <th>confidence</th>\n",
       "      <th>liquidity</th>\n",
       "      <th>updated</th>\n",
       "    </tr>\n",
       "  </thead>\n",
       "  <tbody>\n",
       "    <tr>\n",
       "      <th>0</th>\n",
       "      <td>Binance</td>\n",
       "      <td>BTC/USDT</td>\n",
       "      <td>$54,176.97</td>\n",
       "      <td>$32,765,052.19</td>\n",
       "      <td>$22,878,508.04</td>\n",
       "      <td>$3,087,910,337</td>\n",
       "      <td>8.19%</td>\n",
       "      <td>High</td>\n",
       "      <td>897</td>\n",
       "      <td>Recently</td>\n",
       "    </tr>\n",
       "    <tr>\n",
       "      <th>1</th>\n",
       "      <td>Coinbase Exchange</td>\n",
       "      <td>BTC/USD</td>\n",
       "      <td>$54,192.24</td>\n",
       "      <td>$15,566,600.74</td>\n",
       "      <td>$12,963,925.83</td>\n",
       "      <td>$938,243,056</td>\n",
       "      <td>2.49%</td>\n",
       "      <td>High</td>\n",
       "      <td>883</td>\n",
       "      <td>Recently</td>\n",
       "    </tr>\n",
       "    <tr>\n",
       "      <th>2</th>\n",
       "      <td>FTX</td>\n",
       "      <td>BTC/USD</td>\n",
       "      <td>$54,206.00</td>\n",
       "      <td>$32,582,316.58</td>\n",
       "      <td>$34,453,757.36</td>\n",
       "      <td>$823,296,173</td>\n",
       "      <td>2.18%</td>\n",
       "      <td>Low</td>\n",
       "      <td>929</td>\n",
       "      <td>Recently</td>\n",
       "    </tr>\n",
       "    <tr>\n",
       "      <th>3</th>\n",
       "      <td>Huobi Global</td>\n",
       "      <td>BTC/USDT</td>\n",
       "      <td>$54,180.86</td>\n",
       "      <td>$12,851,257.48</td>\n",
       "      <td>$10,516,856.39</td>\n",
       "      <td>$722,588,633</td>\n",
       "      <td>1.92%</td>\n",
       "      <td>Low</td>\n",
       "      <td>934</td>\n",
       "      <td>Recently</td>\n",
       "    </tr>\n",
       "    <tr>\n",
       "      <th>4</th>\n",
       "      <td>Binance</td>\n",
       "      <td>BTC/BUSD</td>\n",
       "      <td>$54,170.22</td>\n",
       "      <td>$10,465,988.97</td>\n",
       "      <td>$10,621,280.85</td>\n",
       "      <td>$695,095,015</td>\n",
       "      <td>1.84%</td>\n",
       "      <td>High</td>\n",
       "      <td>874</td>\n",
       "      <td>Recently</td>\n",
       "    </tr>\n",
       "  </tbody>\n",
       "</table>\n",
       "</div>"
      ],
      "text/plain": [
       "              source     pairs       price    plus_2_Depth   minus_2_Depth  \\\n",
       "0            Binance  BTC/USDT  $54,176.97  $32,765,052.19  $22,878,508.04   \n",
       "1  Coinbase Exchange   BTC/USD  $54,192.24  $15,566,600.74  $12,963,925.83   \n",
       "2                FTX   BTC/USD  $54,206.00  $32,582,316.58  $34,453,757.36   \n",
       "3       Huobi Global  BTC/USDT  $54,180.86  $12,851,257.48  $10,516,856.39   \n",
       "4            Binance  BTC/BUSD  $54,170.22  $10,465,988.97  $10,621,280.85   \n",
       "\n",
       "           volume volume_perc confidence liquidity   updated  \n",
       "0  $3,087,910,337       8.19%       High       897  Recently  \n",
       "1    $938,243,056       2.49%       High       883  Recently  \n",
       "2    $823,296,173       2.18%        Low       929  Recently  \n",
       "3    $722,588,633       1.92%        Low       934  Recently  \n",
       "4    $695,095,015       1.84%       High       874  Recently  "
      ]
     },
     "execution_count": 473,
     "metadata": {},
     "output_type": "execute_result"
    }
   ],
   "source": [
    "df1 = pd.DataFrame()\n",
    "df1['source'] = source\n",
    "df1['pairs'] = pairs\n",
    "df1['price'] = price\n",
    "df1['plus_2_Depth'] = plus_2_Depth\n",
    "df1['minus_2_Depth'] = minus_2_Depth\n",
    "df1['volume'] = volume\n",
    "df1['volume_perc'] = volume_perc\n",
    "df1['confidence'] = confidence\n",
    "df1['liquidity'] = liquidity\n",
    "df1['updated'] = updated\n",
    "\n",
    "df1.head()"
   ]
  },
  {
   "cell_type": "code",
   "execution_count": 474,
   "metadata": {},
   "outputs": [],
   "source": [
    "# saving the pandas dataframe locally as csv format\n",
    "df1.to_csv(\"Bitcoin.csv\")"
   ]
  },
  {
   "cell_type": "markdown",
   "metadata": {},
   "source": [
    "### 4. Ethereum"
   ]
  },
  {
   "cell_type": "code",
   "execution_count": 475,
   "metadata": {},
   "outputs": [],
   "source": [
    "# Establish chrome driver and go to report site URL\n",
    "url2 = 'https://coinmarketcap.com/currencies/ethereum/markets/'\n",
    "driver = webdriver.Chrome()\n",
    "driver.implicitly_wait(30)\n",
    "driver.get(url2)"
   ]
  },
  {
   "cell_type": "code",
   "execution_count": 476,
   "metadata": {},
   "outputs": [],
   "source": [
    "#Selenium hands the page source to Beautiful Soup\n",
    "soup = BeautifulSoup(driver.page_source, 'lxml')\n",
    "table = soup.find('table', {'class':'h7vnx2-2 ecUULi cmc-table'})"
   ]
  },
  {
   "cell_type": "markdown",
   "metadata": {},
   "source": [
    "#### Scraping the market table and its columns - Source, Pairs, Price, +2% Depth, -2% Depth, Volume, Volume %, Confidence, Liquidity, Updated.\n",
    "---"
   ]
  },
  {
   "cell_type": "code",
   "execution_count": 477,
   "metadata": {
    "scrolled": true
   },
   "outputs": [],
   "source": [
    "table_rows = table.find_all('tr')"
   ]
  },
  {
   "cell_type": "code",
   "execution_count": 478,
   "metadata": {},
   "outputs": [
    {
     "name": "stdout",
     "output_type": "stream",
     "text": [
      "15\n",
      "['Binance', 'Coinbase Exchange', 'Huobi Global', 'Binance', 'KuCoin', 'FTX', 'Binance', 'Gate.io', 'Binance', 'FTX', 'Bithumb', 'Bitfinex', 'Kraken', 'Binance.US', 'bitFlyer']\n"
     ]
    }
   ],
   "source": [
    "query = table.find_all('p', {'class': 'sc-1eb5slv-0 iworPT'})\n",
    "source=[]\n",
    "\n",
    "for x in query:\n",
    "    try:\n",
    "        source.append(x.text)\n",
    "    except AttributeError:\n",
    "        break    \n",
    "        \n",
    "print(len(source))\n",
    "print(source)"
   ]
  },
  {
   "cell_type": "code",
   "execution_count": 479,
   "metadata": {},
   "outputs": [
    {
     "name": "stdout",
     "output_type": "stream",
     "text": [
      "15\n",
      "['ETH/USDT', 'ETH/USD', 'ETH/USDT', 'ETH/BUSD', 'ETH/USDT', 'ETH/USD', 'ETH/BTC', 'ETH/USDT', 'ETH/EUR', 'ETH/USDT', 'ETH/KRW', 'ETH/USD', 'ETH/USD', 'ETH/USD', 'ETH/JPY']\n"
     ]
    }
   ],
   "source": [
    "query = table.find_all('a', {'class': 'qh9zi5-0 bGASOe cmc-link'})\n",
    "pairs=[]\n",
    "\n",
    "for x in query:\n",
    "    try:\n",
    "        pairs.append(x.text)\n",
    "    except AttributeError:\n",
    "        break    \n",
    "        \n",
    "print(len(pairs))\n",
    "print(pairs)"
   ]
  },
  {
   "cell_type": "code",
   "execution_count": 480,
   "metadata": {},
   "outputs": [
    {
     "name": "stdout",
     "output_type": "stream",
     "text": [
      "15\n",
      "['$3,623.20', '$3,623.85', '$3,622.43', '$3,623.37', '$3,621.86', '$3,622.80', '$3,621.97', '$3,622.43', '$3,584.95', '$3,622.05', '$3,690.86', '$3,622.90', '$3,624.27', '$3,624.62', '$3,614.53']\n"
     ]
    }
   ],
   "source": [
    "price=[]\n",
    "\n",
    "for row in table_rows[1:]:\n",
    "    try:\n",
    "        \n",
    "        price.append(row.find_all('td')[3].text)\n",
    "    except AttributeError:\n",
    "        break\n",
    "    except IndexError:\n",
    "        break\n",
    "                \n",
    "print(len(price))\n",
    "print(price)"
   ]
  },
  {
   "cell_type": "code",
   "execution_count": 481,
   "metadata": {},
   "outputs": [
    {
     "name": "stdout",
     "output_type": "stream",
     "text": [
      "15\n",
      "['$20,845,383.77', '$18,448,539.30', '$6,788,393.98', '$7,248,389.84', '$7,443,777.44', '$6,732,702.83', '$7,778,229.48', '$1,974,723.03', '$1,764,272.15', '$2,321,873.40', '$3,442,615.34', '$17,437,520.79', '$25,017,416.26', '$2,739,542.69', '$3,079,693.82']\n"
     ]
    }
   ],
   "source": [
    "plus_2_Depth=[]\n",
    "\n",
    "for row in table_rows[1:]:\n",
    "    try:\n",
    "        \n",
    "        plus_2_Depth.append(row.find_all('td')[4].text)\n",
    "    except AttributeError:\n",
    "        break\n",
    "    except IndexError:\n",
    "        break\n",
    "                \n",
    "print(len(plus_2_Depth))\n",
    "print(plus_2_Depth)"
   ]
  },
  {
   "cell_type": "code",
   "execution_count": 482,
   "metadata": {},
   "outputs": [
    {
     "name": "stdout",
     "output_type": "stream",
     "text": [
      "15\n",
      "['$10,308,998.30', '$10,674,239.66', '$7,592,518.36', '$4,176,977.84', '$4,726,888.85', '$5,727,247.12', '$4,022,190.77', '$1,973,786.70', '$1,100,127.50', '$1,931,449.60', '$2,400,280.66', '$14,988,055.54', '$23,839,785.85', '$2,847,233.73', '$1,611,101.98']\n"
     ]
    }
   ],
   "source": [
    "minus_2_Depth=[]\n",
    "\n",
    "for row in table_rows[1:]:\n",
    "    try:\n",
    "        \n",
    "        minus_2_Depth.append(row.find_all('td')[5].text)\n",
    "    except AttributeError:\n",
    "        break\n",
    "    except IndexError:\n",
    "        break\n",
    "                \n",
    "print(len(minus_2_Depth))\n",
    "print(minus_2_Depth)"
   ]
  },
  {
   "cell_type": "code",
   "execution_count": 483,
   "metadata": {},
   "outputs": [
    {
     "name": "stdout",
     "output_type": "stream",
     "text": [
      "15\n",
      "['$1,759,607,382', '$689,267,994', '$680,514,210', '$600,983,988', '$424,328,692', '$384,282,281', '$379,975,922', '$255,028,633', '$130,305,356', '$103,389,299', '$87,903,843', '$85,858,063', '$84,713,064', '$81,072,235', '$66,871,989']\n"
     ]
    }
   ],
   "source": [
    "volume=[]\n",
    "\n",
    "for row in table_rows[1:]:\n",
    "    try:\n",
    "        \n",
    "        volume.append(row.find_all('td')[6].text)\n",
    "    except AttributeError:\n",
    "        break\n",
    "    except IndexError:\n",
    "        break\n",
    "                \n",
    "print(len(volume))\n",
    "print(volume)"
   ]
  },
  {
   "cell_type": "code",
   "execution_count": 484,
   "metadata": {},
   "outputs": [
    {
     "name": "stdout",
     "output_type": "stream",
     "text": [
      "15\n",
      "['9.25%', '3.62%', '3.58%', '3.16%', '2.23%', '2.02%', '2.00%', '1.34%', '0.69%', '0.54%', '0.46%', '0.45%', '0.45%', '0.43%', '0.35%']\n"
     ]
    }
   ],
   "source": [
    "volume_perc=[]\n",
    "\n",
    "for row in table_rows[1:]:\n",
    "    try:\n",
    "        \n",
    "        volume_perc.append(row.find_all('td')[7].text)\n",
    "    except AttributeError:\n",
    "        break\n",
    "    except IndexError:\n",
    "        break\n",
    "                \n",
    "print(len(volume_perc))\n",
    "print(volume_perc)"
   ]
  },
  {
   "cell_type": "code",
   "execution_count": 485,
   "metadata": {},
   "outputs": [
    {
     "name": "stdout",
     "output_type": "stream",
     "text": [
      "15\n",
      "['High', 'High', 'Low', 'High', 'High', 'Moderate', 'High', 'High', 'High', 'High', 'High', 'High', 'High', 'High', 'High']\n"
     ]
    }
   ],
   "source": [
    "confidence=[]\n",
    "\n",
    "for row in table_rows[1:]:\n",
    "    try:\n",
    "        \n",
    "        confidence.append(row.find_all('td')[8].text)\n",
    "    except AttributeError:\n",
    "        break\n",
    "    except IndexError:\n",
    "        break\n",
    "                \n",
    "print(len(confidence))\n",
    "print(confidence)"
   ]
  },
  {
   "cell_type": "code",
   "execution_count": 486,
   "metadata": {},
   "outputs": [
    {
     "name": "stdout",
     "output_type": "stream",
     "text": [
      "15\n",
      "['860', '862', '877', '838', '869', '863', '870', '768', '646', '854', '344', '669', '763', '629', '310']\n"
     ]
    }
   ],
   "source": [
    "liquidity=[]\n",
    "\n",
    "for row in table_rows[1:]:\n",
    "    try:\n",
    "        \n",
    "        liquidity.append(row.find_all('td')[9].text)\n",
    "    except AttributeError:\n",
    "        break\n",
    "    except IndexError:\n",
    "        break\n",
    "                \n",
    "print(len(liquidity))\n",
    "print(liquidity)"
   ]
  },
  {
   "cell_type": "code",
   "execution_count": 487,
   "metadata": {},
   "outputs": [
    {
     "name": "stdout",
     "output_type": "stream",
     "text": [
      "15\n",
      "['Recently', 'Recently', 'Recently', 'Recently', 'Recently', 'Recently', 'Recently', 'Recently', 'Recently', 'Recently', 'Recently', 'Recently', 'Recently', 'Recently', 'Recently']\n"
     ]
    }
   ],
   "source": [
    "updated=[]\n",
    "\n",
    "for row in table_rows[1:]:\n",
    "    try:\n",
    "        \n",
    "        updated.append(row.find_all('td')[10].text)\n",
    "    except AttributeError:\n",
    "        break\n",
    "    except IndexError:\n",
    "        break\n",
    "                \n",
    "print(len(updated))\n",
    "print(updated)"
   ]
  },
  {
   "cell_type": "markdown",
   "metadata": {},
   "source": [
    "#### Combining all our columns into pandas Dataframe and viewing it"
   ]
  },
  {
   "cell_type": "code",
   "execution_count": 488,
   "metadata": {},
   "outputs": [
    {
     "data": {
      "text/html": [
       "<div>\n",
       "<style scoped>\n",
       "    .dataframe tbody tr th:only-of-type {\n",
       "        vertical-align: middle;\n",
       "    }\n",
       "\n",
       "    .dataframe tbody tr th {\n",
       "        vertical-align: top;\n",
       "    }\n",
       "\n",
       "    .dataframe thead th {\n",
       "        text-align: right;\n",
       "    }\n",
       "</style>\n",
       "<table border=\"1\" class=\"dataframe\">\n",
       "  <thead>\n",
       "    <tr style=\"text-align: right;\">\n",
       "      <th></th>\n",
       "      <th>source</th>\n",
       "      <th>pairs</th>\n",
       "      <th>price</th>\n",
       "      <th>plus_2_Depth</th>\n",
       "      <th>minus_2_Depth</th>\n",
       "      <th>volume</th>\n",
       "      <th>volume_perc</th>\n",
       "      <th>confidence</th>\n",
       "      <th>liquidity</th>\n",
       "      <th>updated</th>\n",
       "    </tr>\n",
       "  </thead>\n",
       "  <tbody>\n",
       "    <tr>\n",
       "      <th>0</th>\n",
       "      <td>Binance</td>\n",
       "      <td>ETH/USDT</td>\n",
       "      <td>$3,623.20</td>\n",
       "      <td>$20,845,383.77</td>\n",
       "      <td>$10,308,998.30</td>\n",
       "      <td>$1,759,607,382</td>\n",
       "      <td>9.25%</td>\n",
       "      <td>High</td>\n",
       "      <td>860</td>\n",
       "      <td>Recently</td>\n",
       "    </tr>\n",
       "    <tr>\n",
       "      <th>1</th>\n",
       "      <td>Coinbase Exchange</td>\n",
       "      <td>ETH/USD</td>\n",
       "      <td>$3,623.85</td>\n",
       "      <td>$18,448,539.30</td>\n",
       "      <td>$10,674,239.66</td>\n",
       "      <td>$689,267,994</td>\n",
       "      <td>3.62%</td>\n",
       "      <td>High</td>\n",
       "      <td>862</td>\n",
       "      <td>Recently</td>\n",
       "    </tr>\n",
       "    <tr>\n",
       "      <th>2</th>\n",
       "      <td>Huobi Global</td>\n",
       "      <td>ETH/USDT</td>\n",
       "      <td>$3,622.43</td>\n",
       "      <td>$6,788,393.98</td>\n",
       "      <td>$7,592,518.36</td>\n",
       "      <td>$680,514,210</td>\n",
       "      <td>3.58%</td>\n",
       "      <td>Low</td>\n",
       "      <td>877</td>\n",
       "      <td>Recently</td>\n",
       "    </tr>\n",
       "    <tr>\n",
       "      <th>3</th>\n",
       "      <td>Binance</td>\n",
       "      <td>ETH/BUSD</td>\n",
       "      <td>$3,623.37</td>\n",
       "      <td>$7,248,389.84</td>\n",
       "      <td>$4,176,977.84</td>\n",
       "      <td>$600,983,988</td>\n",
       "      <td>3.16%</td>\n",
       "      <td>High</td>\n",
       "      <td>838</td>\n",
       "      <td>Recently</td>\n",
       "    </tr>\n",
       "    <tr>\n",
       "      <th>4</th>\n",
       "      <td>KuCoin</td>\n",
       "      <td>ETH/USDT</td>\n",
       "      <td>$3,621.86</td>\n",
       "      <td>$7,443,777.44</td>\n",
       "      <td>$4,726,888.85</td>\n",
       "      <td>$424,328,692</td>\n",
       "      <td>2.23%</td>\n",
       "      <td>High</td>\n",
       "      <td>869</td>\n",
       "      <td>Recently</td>\n",
       "    </tr>\n",
       "  </tbody>\n",
       "</table>\n",
       "</div>"
      ],
      "text/plain": [
       "              source     pairs      price    plus_2_Depth   minus_2_Depth  \\\n",
       "0            Binance  ETH/USDT  $3,623.20  $20,845,383.77  $10,308,998.30   \n",
       "1  Coinbase Exchange   ETH/USD  $3,623.85  $18,448,539.30  $10,674,239.66   \n",
       "2       Huobi Global  ETH/USDT  $3,622.43   $6,788,393.98   $7,592,518.36   \n",
       "3            Binance  ETH/BUSD  $3,623.37   $7,248,389.84   $4,176,977.84   \n",
       "4             KuCoin  ETH/USDT  $3,621.86   $7,443,777.44   $4,726,888.85   \n",
       "\n",
       "           volume volume_perc confidence liquidity   updated  \n",
       "0  $1,759,607,382       9.25%       High       860  Recently  \n",
       "1    $689,267,994       3.62%       High       862  Recently  \n",
       "2    $680,514,210       3.58%        Low       877  Recently  \n",
       "3    $600,983,988       3.16%       High       838  Recently  \n",
       "4    $424,328,692       2.23%       High       869  Recently  "
      ]
     },
     "execution_count": 488,
     "metadata": {},
     "output_type": "execute_result"
    }
   ],
   "source": [
    "df2 = pd.DataFrame()\n",
    "df2['source'] = source\n",
    "df2['pairs'] = pairs\n",
    "df2['price'] = price\n",
    "df2['plus_2_Depth'] = plus_2_Depth\n",
    "df2['minus_2_Depth'] = minus_2_Depth\n",
    "df2['volume'] = volume\n",
    "df2['volume_perc'] = volume_perc\n",
    "df2['confidence'] = confidence\n",
    "df2['liquidity'] = liquidity\n",
    "df2['updated'] = updated\n",
    "\n",
    "df2.head()"
   ]
  },
  {
   "cell_type": "code",
   "execution_count": 489,
   "metadata": {},
   "outputs": [],
   "source": [
    "# saving the pandas dataframe locally as csv file format\n",
    "df2.to_csv(\"Etherium.csv\")"
   ]
  },
  {
   "cell_type": "markdown",
   "metadata": {},
   "source": [
    "### 5. Binance coin"
   ]
  },
  {
   "cell_type": "code",
   "execution_count": 490,
   "metadata": {},
   "outputs": [],
   "source": [
    "# Establish chrome driver and go to report site URL\n",
    "url3 = 'https://coinmarketcap.com/currencies/binance-coin/markets/'\n",
    "driver = webdriver.Chrome()\n",
    "driver.get(url3)"
   ]
  },
  {
   "cell_type": "code",
   "execution_count": 491,
   "metadata": {},
   "outputs": [],
   "source": [
    "#Selenium hands the page source to Beautiful Soup\n",
    "soup = BeautifulSoup(driver.page_source, 'lxml')\n",
    "table = soup.find('table', {'class':'h7vnx2-2 ecUULi cmc-table'})"
   ]
  },
  {
   "cell_type": "markdown",
   "metadata": {},
   "source": [
    "#### Scraping the market table and its columns - Source, Pairs, Price, +2% Depth, -2% Depth, Volume, Volume %, Confidence, Liquidity, Updated.\n",
    "---"
   ]
  },
  {
   "cell_type": "code",
   "execution_count": 492,
   "metadata": {
    "scrolled": true
   },
   "outputs": [],
   "source": [
    "table_rows = table.find_all('tr')"
   ]
  },
  {
   "cell_type": "code",
   "execution_count": 493,
   "metadata": {},
   "outputs": [
    {
     "name": "stdout",
     "output_type": "stream",
     "text": [
      "15\n",
      "['Binance', 'Binance', 'Binance', 'FTX', 'Gate.io', 'Binance.US', 'FTX', 'KuCoin', 'Binance', 'Binance', 'Binance', 'Binance', 'Binance', 'Binance', 'Binance']\n"
     ]
    }
   ],
   "source": [
    "query = table.find_all('p', {'class': 'sc-1eb5slv-0 iworPT'})\n",
    "source=[]\n",
    "\n",
    "for x in query:\n",
    "    try:\n",
    "        source.append(x.text)\n",
    "    except AttributeError:\n",
    "        break    \n",
    "        \n",
    "print(len(source))\n",
    "print(source)"
   ]
  },
  {
   "cell_type": "code",
   "execution_count": 494,
   "metadata": {},
   "outputs": [
    {
     "name": "stdout",
     "output_type": "stream",
     "text": [
      "15\n",
      "['BNB/USDT', 'BNB/BUSD', 'BNB/BTC', 'BNB/USD', 'BNB/USDT', 'BNB/USD', 'BNB/USDT', 'BNB/USDT', 'BNB/ETH', 'DOT/BNB', 'LUNA/BNB', 'FTM/BNB', 'BNB/EUR', 'CAKE/BNB', 'SOL/BNB']\n"
     ]
    }
   ],
   "source": [
    "query = table.find_all('a', {'class': 'qh9zi5-0 bGASOe cmc-link'})\n",
    "pairs=[]\n",
    "\n",
    "for x in query:\n",
    "    try:\n",
    "        pairs.append(x.text)\n",
    "    except AttributeError:\n",
    "        break    \n",
    "        \n",
    "print(len(pairs))\n",
    "print(pairs)"
   ]
  },
  {
   "cell_type": "code",
   "execution_count": 495,
   "metadata": {},
   "outputs": [
    {
     "name": "stdout",
     "output_type": "stream",
     "text": [
      "15\n",
      "['$443.48', '$443.49', '$443.72', '$444.01', '$443.72', '$444.07', '$443.84', '$443.71', '$443.84', '$443.48', '$443.48', '$443.48', '$438.93', '$443.48', '$443.48']\n"
     ]
    }
   ],
   "source": [
    "price=[]\n",
    "\n",
    "for row in table_rows[1:]:\n",
    "    try:\n",
    "        \n",
    "        price.append(row.find_all('td')[3].text)\n",
    "    except AttributeError:\n",
    "        break\n",
    "    except IndexError:\n",
    "        break\n",
    "                \n",
    "print(len(price))\n",
    "print(price)"
   ]
  },
  {
   "cell_type": "code",
   "execution_count": 496,
   "metadata": {},
   "outputs": [
    {
     "name": "stdout",
     "output_type": "stream",
     "text": [
      "15\n",
      "['$8,859,345.83', '$3,491,539.90', '$1,030,163.68', '$2,524,834.74', '$739,558.15', '$1,053,272.82', '$2,047,894.57', '$1,575,721.68', '$303,082.56', '$133,815.82', '$30,698.39', '$64,027.07', '$297,733.63', '$172,884.76', '$114,388.16']\n"
     ]
    }
   ],
   "source": [
    "plus_2_Depth=[]\n",
    "\n",
    "for row in table_rows[1:]:\n",
    "    try:\n",
    "        \n",
    "        plus_2_Depth.append(row.find_all('td')[4].text)\n",
    "    except AttributeError:\n",
    "        break\n",
    "    except IndexError:\n",
    "        break\n",
    "                \n",
    "print(len(plus_2_Depth))\n",
    "print(plus_2_Depth)"
   ]
  },
  {
   "cell_type": "code",
   "execution_count": 497,
   "metadata": {},
   "outputs": [
    {
     "name": "stdout",
     "output_type": "stream",
     "text": [
      "15\n",
      "['$5,103,339.24', '$1,540,758.03', '$1,208,880.08', '$2,600,863.40', '$937,593.57', '$734,269.10', '$2,535,709.75', '$899,568.47', '$1,297,666.21', '$228,417.62', '$178,021.44', '$76,019.05', '$224,109.81', '$157,487.16', '$447,846.53']\n"
     ]
    }
   ],
   "source": [
    "minus_2_Depth=[]\n",
    "\n",
    "for row in table_rows[1:]:\n",
    "    try:\n",
    "        \n",
    "        minus_2_Depth.append(row.find_all('td')[5].text)\n",
    "    except AttributeError:\n",
    "        break\n",
    "    except IndexError:\n",
    "        break\n",
    "                \n",
    "print(len(minus_2_Depth))\n",
    "print(minus_2_Depth)"
   ]
  },
  {
   "cell_type": "code",
   "execution_count": 498,
   "metadata": {},
   "outputs": [
    {
     "name": "stdout",
     "output_type": "stream",
     "text": [
      "15\n",
      "['$516,453,082', '$154,262,927', '$88,314,357', '$69,034,122', '$54,784,693', '$40,554,826', '$36,021,135', '$26,995,802', '$24,122,834', '$16,068,429', '$12,698,266', '$11,878,317', '$11,399,426', '$9,177,463', '$7,594,427']\n"
     ]
    }
   ],
   "source": [
    "volume=[]\n",
    "\n",
    "for row in table_rows[1:]:\n",
    "    try:\n",
    "        \n",
    "        volume.append(row.find_all('td')[6].text)\n",
    "    except AttributeError:\n",
    "        break\n",
    "    except IndexError:\n",
    "        break\n",
    "                \n",
    "print(len(volume))\n",
    "print(volume)"
   ]
  },
  {
   "cell_type": "code",
   "execution_count": 499,
   "metadata": {},
   "outputs": [
    {
     "name": "stdout",
     "output_type": "stream",
     "text": [
      "15\n",
      "['25.94%', '7.75%', '4.44%', '3.47%', '2.75%', '2.04%', '1.81%', '1.36%', '1.21%', '0.81%', '0.64%', '0.60%', '0.57%', '0.46%', '0.38%']\n"
     ]
    }
   ],
   "source": [
    "volume_perc=[]\n",
    "\n",
    "for row in table_rows[1:]:\n",
    "    try:\n",
    "        \n",
    "        volume_perc.append(row.find_all('td')[7].text)\n",
    "    except AttributeError:\n",
    "        break\n",
    "    except IndexError:\n",
    "        break\n",
    "                \n",
    "print(len(volume_perc))\n",
    "print(volume_perc)"
   ]
  },
  {
   "cell_type": "code",
   "execution_count": 500,
   "metadata": {},
   "outputs": [
    {
     "name": "stdout",
     "output_type": "stream",
     "text": [
      "15\n",
      "['High', 'High', 'High', 'High', 'High', 'High', 'High', 'High', 'High', 'High', 'High', 'High', 'High', 'High', 'High']\n"
     ]
    }
   ],
   "source": [
    "confidence=[]\n",
    "\n",
    "for row in table_rows[1:]:\n",
    "    try:\n",
    "        \n",
    "        confidence.append(row.find_all('td')[8].text)\n",
    "    except AttributeError:\n",
    "        break\n",
    "    except IndexError:\n",
    "        break\n",
    "                \n",
    "print(len(confidence))\n",
    "print(confidence)"
   ]
  },
  {
   "cell_type": "code",
   "execution_count": 501,
   "metadata": {},
   "outputs": [
    {
     "name": "stdout",
     "output_type": "stream",
     "text": [
      "15\n",
      "['570', '525', '636', '713', '440', '647', '617', '552', '532', '658', '804', '890', '841', '734', '643']\n"
     ]
    }
   ],
   "source": [
    "liquidity=[]\n",
    "\n",
    "for row in table_rows[1:]:\n",
    "    try:\n",
    "        \n",
    "        liquidity.append(row.find_all('td')[9].text)\n",
    "    except AttributeError:\n",
    "        break\n",
    "    except IndexError:\n",
    "        break\n",
    "                \n",
    "print(len(liquidity))\n",
    "print(liquidity)"
   ]
  },
  {
   "cell_type": "code",
   "execution_count": 502,
   "metadata": {},
   "outputs": [
    {
     "name": "stdout",
     "output_type": "stream",
     "text": [
      "15\n",
      "['Recently', 'Recently', 'Recently', 'Recently', 'Recently', 'Recently', 'Recently', 'Recently', 'Recently', 'Recently', 'Recently', 'Recently', 'Recently', 'Recently', 'Recently']\n"
     ]
    }
   ],
   "source": [
    "updated=[]\n",
    "\n",
    "for row in table_rows[1:]:\n",
    "    try:\n",
    "        \n",
    "        updated.append(row.find_all('td')[10].text)\n",
    "    except AttributeError:\n",
    "        break\n",
    "    except IndexError:\n",
    "        break\n",
    "                \n",
    "print(len(updated))\n",
    "print(updated)"
   ]
  },
  {
   "cell_type": "markdown",
   "metadata": {},
   "source": [
    "#### Combining all our columns into pandas Dataframe and viewing it"
   ]
  },
  {
   "cell_type": "code",
   "execution_count": 503,
   "metadata": {},
   "outputs": [
    {
     "data": {
      "text/html": [
       "<div>\n",
       "<style scoped>\n",
       "    .dataframe tbody tr th:only-of-type {\n",
       "        vertical-align: middle;\n",
       "    }\n",
       "\n",
       "    .dataframe tbody tr th {\n",
       "        vertical-align: top;\n",
       "    }\n",
       "\n",
       "    .dataframe thead th {\n",
       "        text-align: right;\n",
       "    }\n",
       "</style>\n",
       "<table border=\"1\" class=\"dataframe\">\n",
       "  <thead>\n",
       "    <tr style=\"text-align: right;\">\n",
       "      <th></th>\n",
       "      <th>source</th>\n",
       "      <th>pairs</th>\n",
       "      <th>price</th>\n",
       "      <th>plus_2_Depth</th>\n",
       "      <th>minus_2_Depth</th>\n",
       "      <th>volume</th>\n",
       "      <th>volume_perc</th>\n",
       "      <th>confidence</th>\n",
       "      <th>liquidity</th>\n",
       "      <th>updated</th>\n",
       "    </tr>\n",
       "  </thead>\n",
       "  <tbody>\n",
       "    <tr>\n",
       "      <th>0</th>\n",
       "      <td>Binance</td>\n",
       "      <td>BNB/USDT</td>\n",
       "      <td>$443.48</td>\n",
       "      <td>$8,859,345.83</td>\n",
       "      <td>$5,103,339.24</td>\n",
       "      <td>$516,453,082</td>\n",
       "      <td>25.94%</td>\n",
       "      <td>High</td>\n",
       "      <td>570</td>\n",
       "      <td>Recently</td>\n",
       "    </tr>\n",
       "    <tr>\n",
       "      <th>1</th>\n",
       "      <td>Binance</td>\n",
       "      <td>BNB/BUSD</td>\n",
       "      <td>$443.49</td>\n",
       "      <td>$3,491,539.90</td>\n",
       "      <td>$1,540,758.03</td>\n",
       "      <td>$154,262,927</td>\n",
       "      <td>7.75%</td>\n",
       "      <td>High</td>\n",
       "      <td>525</td>\n",
       "      <td>Recently</td>\n",
       "    </tr>\n",
       "    <tr>\n",
       "      <th>2</th>\n",
       "      <td>Binance</td>\n",
       "      <td>BNB/BTC</td>\n",
       "      <td>$443.72</td>\n",
       "      <td>$1,030,163.68</td>\n",
       "      <td>$1,208,880.08</td>\n",
       "      <td>$88,314,357</td>\n",
       "      <td>4.44%</td>\n",
       "      <td>High</td>\n",
       "      <td>636</td>\n",
       "      <td>Recently</td>\n",
       "    </tr>\n",
       "    <tr>\n",
       "      <th>3</th>\n",
       "      <td>FTX</td>\n",
       "      <td>BNB/USD</td>\n",
       "      <td>$444.01</td>\n",
       "      <td>$2,524,834.74</td>\n",
       "      <td>$2,600,863.40</td>\n",
       "      <td>$69,034,122</td>\n",
       "      <td>3.47%</td>\n",
       "      <td>High</td>\n",
       "      <td>713</td>\n",
       "      <td>Recently</td>\n",
       "    </tr>\n",
       "    <tr>\n",
       "      <th>4</th>\n",
       "      <td>Gate.io</td>\n",
       "      <td>BNB/USDT</td>\n",
       "      <td>$443.72</td>\n",
       "      <td>$739,558.15</td>\n",
       "      <td>$937,593.57</td>\n",
       "      <td>$54,784,693</td>\n",
       "      <td>2.75%</td>\n",
       "      <td>High</td>\n",
       "      <td>440</td>\n",
       "      <td>Recently</td>\n",
       "    </tr>\n",
       "  </tbody>\n",
       "</table>\n",
       "</div>"
      ],
      "text/plain": [
       "    source     pairs    price   plus_2_Depth  minus_2_Depth        volume  \\\n",
       "0  Binance  BNB/USDT  $443.48  $8,859,345.83  $5,103,339.24  $516,453,082   \n",
       "1  Binance  BNB/BUSD  $443.49  $3,491,539.90  $1,540,758.03  $154,262,927   \n",
       "2  Binance   BNB/BTC  $443.72  $1,030,163.68  $1,208,880.08   $88,314,357   \n",
       "3      FTX   BNB/USD  $444.01  $2,524,834.74  $2,600,863.40   $69,034,122   \n",
       "4  Gate.io  BNB/USDT  $443.72    $739,558.15    $937,593.57   $54,784,693   \n",
       "\n",
       "  volume_perc confidence liquidity   updated  \n",
       "0      25.94%       High       570  Recently  \n",
       "1       7.75%       High       525  Recently  \n",
       "2       4.44%       High       636  Recently  \n",
       "3       3.47%       High       713  Recently  \n",
       "4       2.75%       High       440  Recently  "
      ]
     },
     "execution_count": 503,
     "metadata": {},
     "output_type": "execute_result"
    }
   ],
   "source": [
    "df3 = pd.DataFrame()\n",
    "df3['source'] = source\n",
    "df3['pairs'] = pairs\n",
    "df3['price'] = price\n",
    "df3['plus_2_Depth'] = plus_2_Depth\n",
    "df3['minus_2_Depth'] = minus_2_Depth\n",
    "df3['volume'] = volume\n",
    "df3['volume_perc'] = volume_perc\n",
    "df3['confidence'] = confidence\n",
    "df3['liquidity'] = liquidity\n",
    "df3['updated'] = updated\n",
    "\n",
    "df3.head()"
   ]
  },
  {
   "cell_type": "code",
   "execution_count": 504,
   "metadata": {},
   "outputs": [],
   "source": [
    "# saving the pandas dataframe locally as csv file format\n",
    "df3.to_csv(\"Binance_coin.csv\")"
   ]
  },
  {
   "cell_type": "markdown",
   "metadata": {},
   "source": [
    "### 6. Cardano "
   ]
  },
  {
   "cell_type": "code",
   "execution_count": 505,
   "metadata": {},
   "outputs": [],
   "source": [
    "# Establish chrome driver and go to report site URL\n",
    "url4 = 'https://coinmarketcap.com/currencies/cardano/markets/'\n",
    "driver = webdriver.Chrome()\n",
    "driver.get(url4)"
   ]
  },
  {
   "cell_type": "code",
   "execution_count": 506,
   "metadata": {},
   "outputs": [],
   "source": [
    "#Selenium hands the page source to Beautiful Soup\n",
    "soup = BeautifulSoup(driver.page_source, 'lxml')\n",
    "table = soup.find('table', {'class':'h7vnx2-2 ecUULi cmc-table'})"
   ]
  },
  {
   "cell_type": "markdown",
   "metadata": {},
   "source": [
    "#### Scraping the market table and its columns - Source, Pairs, Price, +2% Depth, -2% Depth, Volume, Volume %, Confidence, Liquidity, Updated.\n",
    "---"
   ]
  },
  {
   "cell_type": "code",
   "execution_count": 507,
   "metadata": {
    "scrolled": true
   },
   "outputs": [],
   "source": [
    "table_rows = table.find_all('tr')"
   ]
  },
  {
   "cell_type": "code",
   "execution_count": 508,
   "metadata": {},
   "outputs": [
    {
     "name": "stdout",
     "output_type": "stream",
     "text": [
      "14\n",
      "['Binance', 'Coinbase Exchange', 'Binance', 'Binance', 'Huobi Global', 'Binance.US', 'Gate.io', 'KuCoin', 'Kraken', 'Binance', 'Coinbase Exchange', 'Binance', 'Kraken', 'Coinbase Exchange']\n"
     ]
    }
   ],
   "source": [
    "query = table.find_all('p', {'class': 'sc-1eb5slv-0 iworPT'})\n",
    "source=[]\n",
    "\n",
    "for x in query:\n",
    "    try:\n",
    "        source.append(x.text)\n",
    "    except AttributeError:\n",
    "        break    \n",
    "        \n",
    "print(len(source))\n",
    "print(source)"
   ]
  },
  {
   "cell_type": "code",
   "execution_count": 509,
   "metadata": {},
   "outputs": [
    {
     "name": "stdout",
     "output_type": "stream",
     "text": [
      "14\n",
      "['ADA/USDT', 'ADA/USD', 'ADA/BTC', 'ADA/BUSD', 'ADA/USDT', 'ADA/USD', 'ADA/USDT', 'ADA/USDT', 'ADA/USD', 'ADA/EUR', 'ADA/BTC', 'ADA/TRY', 'ADA/EUR', 'ADA/EUR']\n"
     ]
    }
   ],
   "source": [
    "query = table.find_all('a', {'class': 'qh9zi5-0 bGASOe cmc-link'})\n",
    "pairs=[]\n",
    "\n",
    "for x in query:\n",
    "    try:\n",
    "        pairs.append(x.text)\n",
    "    except AttributeError:\n",
    "        break    \n",
    "        \n",
    "print(len(pairs))\n",
    "print(pairs)"
   ]
  },
  {
   "cell_type": "code",
   "execution_count": 510,
   "metadata": {},
   "outputs": [
    {
     "name": "stdout",
     "output_type": "stream",
     "text": [
      "14\n",
      "['$2.30', '$2.30', '$2.30', '$2.30', '$2.30', '$2.30', '$2.30', '$2.30', '$2.30', '$2.27', '$2.29', '$2.29', '$2.30', '$2.29']\n"
     ]
    }
   ],
   "source": [
    "price=[]\n",
    "\n",
    "for row in table_rows[1:]:\n",
    "    try:\n",
    "        \n",
    "        price.append(row.find_all('td')[3].text)\n",
    "    except AttributeError:\n",
    "        break\n",
    "    except IndexError:\n",
    "        break\n",
    "                \n",
    "print(len(price))\n",
    "print(price)"
   ]
  },
  {
   "cell_type": "code",
   "execution_count": 511,
   "metadata": {},
   "outputs": [
    {
     "name": "stdout",
     "output_type": "stream",
     "text": [
      "14\n",
      "['$3,735,825.24', '$2,579,600.52', '$1,027,921.18', '$1,303,067.28', '$1,710,224.01', '$1,442,610.87', '$800,027.47', '$2,533,413.80', '$2,395,283.23', '$720,424.14', '$445,230.69', '$261,518.64', '$1,395,610.36', '$504,546.35']\n"
     ]
    }
   ],
   "source": [
    "plus_2_Depth=[]\n",
    "\n",
    "for row in table_rows[1:]:\n",
    "    try:\n",
    "        \n",
    "        plus_2_Depth.append(row.find_all('td')[4].text)\n",
    "    except AttributeError:\n",
    "        break\n",
    "    except IndexError:\n",
    "        break\n",
    "                \n",
    "print(len(plus_2_Depth))\n",
    "print(plus_2_Depth)"
   ]
  },
  {
   "cell_type": "code",
   "execution_count": 512,
   "metadata": {},
   "outputs": [
    {
     "name": "stdout",
     "output_type": "stream",
     "text": [
      "14\n",
      "['$4,551,968.78', '$2,837,264.94', '$893,475.49', '$1,334,903.21', '$1,622,451.87', '$1,335,382.51', '$923,911.65', '$1,709,555.31', '$3,317,171.71', '$567,149.94', '$547,814.82', '$266,267.94', '$1,279,007.23', '$682,815.78']\n"
     ]
    }
   ],
   "source": [
    "minus_2_Depth=[]\n",
    "\n",
    "for row in table_rows[1:]:\n",
    "    try:\n",
    "        \n",
    "        minus_2_Depth.append(row.find_all('td')[5].text)\n",
    "    except AttributeError:\n",
    "        break\n",
    "    except IndexError:\n",
    "        break\n",
    "                \n",
    "print(len(minus_2_Depth))\n",
    "print(minus_2_Depth)"
   ]
  },
  {
   "cell_type": "code",
   "execution_count": 513,
   "metadata": {},
   "outputs": [
    {
     "name": "stdout",
     "output_type": "stream",
     "text": [
      "14\n",
      "['$587,962,066', '$309,190,148', '$122,837,715', '$120,301,123', '$111,400,165', '$66,761,768', '$64,765,152', '$61,630,529', '$36,112,523', '$31,509,004', '$24,905,914', '$22,858,707', '$22,670,110', '$21,694,152']\n"
     ]
    }
   ],
   "source": [
    "volume=[]\n",
    "\n",
    "for row in table_rows[1:]:\n",
    "    try:\n",
    "        \n",
    "        volume.append(row.find_all('td')[6].text)\n",
    "    except AttributeError:\n",
    "        break\n",
    "    except IndexError:\n",
    "        break\n",
    "                \n",
    "print(len(volume))\n",
    "print(volume)"
   ]
  },
  {
   "cell_type": "code",
   "execution_count": 514,
   "metadata": {},
   "outputs": [
    {
     "name": "stdout",
     "output_type": "stream",
     "text": [
      "14\n",
      "['17.82%', '9.37%', '3.72%', '3.65%', '3.38%', '2.02%', '1.96%', '1.87%', '1.09%', '0.95%', '0.75%', '0.69%', '0.69%', '0.66%']\n"
     ]
    }
   ],
   "source": [
    "volume_perc=[]\n",
    "\n",
    "for row in table_rows[1:]:\n",
    "    try:\n",
    "        \n",
    "        volume_perc.append(row.find_all('td')[7].text)\n",
    "    except AttributeError:\n",
    "        break\n",
    "    except IndexError:\n",
    "        break\n",
    "                \n",
    "print(len(volume_perc))\n",
    "print(volume_perc)"
   ]
  },
  {
   "cell_type": "code",
   "execution_count": 515,
   "metadata": {},
   "outputs": [
    {
     "name": "stdout",
     "output_type": "stream",
     "text": [
      "14\n",
      "['High', 'High', 'High', 'High', 'Low', 'High', 'High', 'High', 'High', 'High', 'High', 'High', 'High', 'High']\n"
     ]
    }
   ],
   "source": [
    "confidence=[]\n",
    "\n",
    "for row in table_rows[1:]:\n",
    "    try:\n",
    "        \n",
    "        confidence.append(row.find_all('td')[8].text)\n",
    "    except AttributeError:\n",
    "        break\n",
    "    except IndexError:\n",
    "        break\n",
    "                \n",
    "print(len(confidence))\n",
    "print(confidence)"
   ]
  },
  {
   "cell_type": "code",
   "execution_count": 516,
   "metadata": {},
   "outputs": [
    {
     "name": "stdout",
     "output_type": "stream",
     "text": [
      "14\n",
      "['901', '674', '670', '790', '572', '906', '391', '559', '650', '611', '394', '656', '632', '356']\n"
     ]
    }
   ],
   "source": [
    "liquidity=[]\n",
    "\n",
    "for row in table_rows[1:]:\n",
    "    try:\n",
    "        \n",
    "        liquidity.append(row.find_all('td')[9].text)\n",
    "    except AttributeError:\n",
    "        break\n",
    "    except IndexError:\n",
    "        break\n",
    "                \n",
    "print(len(liquidity))\n",
    "print(liquidity)"
   ]
  },
  {
   "cell_type": "code",
   "execution_count": 517,
   "metadata": {},
   "outputs": [
    {
     "name": "stdout",
     "output_type": "stream",
     "text": [
      "14\n",
      "['Recently', 'Recently', 'Recently', 'Recently', 'Recently', 'Recently', 'Recently', 'Recently', 'Recently', 'Recently', 'Recently', 'Recently', 'Recently', 'Recently']\n"
     ]
    }
   ],
   "source": [
    "updated=[]\n",
    "\n",
    "for row in table_rows[1:]:\n",
    "    try:\n",
    "        \n",
    "        updated.append(row.find_all('td')[10].text)\n",
    "    except AttributeError:\n",
    "        break\n",
    "    except IndexError:\n",
    "        break\n",
    "                \n",
    "print(len(updated))\n",
    "print(updated)"
   ]
  },
  {
   "cell_type": "markdown",
   "metadata": {},
   "source": [
    "#### Combining all our columns into pandas Dataframe and viewing it"
   ]
  },
  {
   "cell_type": "code",
   "execution_count": 518,
   "metadata": {},
   "outputs": [
    {
     "data": {
      "text/html": [
       "<div>\n",
       "<style scoped>\n",
       "    .dataframe tbody tr th:only-of-type {\n",
       "        vertical-align: middle;\n",
       "    }\n",
       "\n",
       "    .dataframe tbody tr th {\n",
       "        vertical-align: top;\n",
       "    }\n",
       "\n",
       "    .dataframe thead th {\n",
       "        text-align: right;\n",
       "    }\n",
       "</style>\n",
       "<table border=\"1\" class=\"dataframe\">\n",
       "  <thead>\n",
       "    <tr style=\"text-align: right;\">\n",
       "      <th></th>\n",
       "      <th>source</th>\n",
       "      <th>pairs</th>\n",
       "      <th>price</th>\n",
       "      <th>plus_2_Depth</th>\n",
       "      <th>minus_2_Depth</th>\n",
       "      <th>volume</th>\n",
       "      <th>volume_perc</th>\n",
       "      <th>confidence</th>\n",
       "      <th>liquidity</th>\n",
       "      <th>updated</th>\n",
       "    </tr>\n",
       "  </thead>\n",
       "  <tbody>\n",
       "    <tr>\n",
       "      <th>0</th>\n",
       "      <td>Binance</td>\n",
       "      <td>ADA/USDT</td>\n",
       "      <td>$2.30</td>\n",
       "      <td>$3,735,825.24</td>\n",
       "      <td>$4,551,968.78</td>\n",
       "      <td>$587,962,066</td>\n",
       "      <td>17.82%</td>\n",
       "      <td>High</td>\n",
       "      <td>901</td>\n",
       "      <td>Recently</td>\n",
       "    </tr>\n",
       "    <tr>\n",
       "      <th>1</th>\n",
       "      <td>Coinbase Exchange</td>\n",
       "      <td>ADA/USD</td>\n",
       "      <td>$2.30</td>\n",
       "      <td>$2,579,600.52</td>\n",
       "      <td>$2,837,264.94</td>\n",
       "      <td>$309,190,148</td>\n",
       "      <td>9.37%</td>\n",
       "      <td>High</td>\n",
       "      <td>674</td>\n",
       "      <td>Recently</td>\n",
       "    </tr>\n",
       "    <tr>\n",
       "      <th>2</th>\n",
       "      <td>Binance</td>\n",
       "      <td>ADA/BTC</td>\n",
       "      <td>$2.30</td>\n",
       "      <td>$1,027,921.18</td>\n",
       "      <td>$893,475.49</td>\n",
       "      <td>$122,837,715</td>\n",
       "      <td>3.72%</td>\n",
       "      <td>High</td>\n",
       "      <td>670</td>\n",
       "      <td>Recently</td>\n",
       "    </tr>\n",
       "    <tr>\n",
       "      <th>3</th>\n",
       "      <td>Binance</td>\n",
       "      <td>ADA/BUSD</td>\n",
       "      <td>$2.30</td>\n",
       "      <td>$1,303,067.28</td>\n",
       "      <td>$1,334,903.21</td>\n",
       "      <td>$120,301,123</td>\n",
       "      <td>3.65%</td>\n",
       "      <td>High</td>\n",
       "      <td>790</td>\n",
       "      <td>Recently</td>\n",
       "    </tr>\n",
       "    <tr>\n",
       "      <th>4</th>\n",
       "      <td>Huobi Global</td>\n",
       "      <td>ADA/USDT</td>\n",
       "      <td>$2.30</td>\n",
       "      <td>$1,710,224.01</td>\n",
       "      <td>$1,622,451.87</td>\n",
       "      <td>$111,400,165</td>\n",
       "      <td>3.38%</td>\n",
       "      <td>Low</td>\n",
       "      <td>572</td>\n",
       "      <td>Recently</td>\n",
       "    </tr>\n",
       "  </tbody>\n",
       "</table>\n",
       "</div>"
      ],
      "text/plain": [
       "              source     pairs  price   plus_2_Depth  minus_2_Depth  \\\n",
       "0            Binance  ADA/USDT  $2.30  $3,735,825.24  $4,551,968.78   \n",
       "1  Coinbase Exchange   ADA/USD  $2.30  $2,579,600.52  $2,837,264.94   \n",
       "2            Binance   ADA/BTC  $2.30  $1,027,921.18    $893,475.49   \n",
       "3            Binance  ADA/BUSD  $2.30  $1,303,067.28  $1,334,903.21   \n",
       "4       Huobi Global  ADA/USDT  $2.30  $1,710,224.01  $1,622,451.87   \n",
       "\n",
       "         volume volume_perc confidence liquidity   updated  \n",
       "0  $587,962,066      17.82%       High       901  Recently  \n",
       "1  $309,190,148       9.37%       High       674  Recently  \n",
       "2  $122,837,715       3.72%       High       670  Recently  \n",
       "3  $120,301,123       3.65%       High       790  Recently  \n",
       "4  $111,400,165       3.38%        Low       572  Recently  "
      ]
     },
     "execution_count": 518,
     "metadata": {},
     "output_type": "execute_result"
    }
   ],
   "source": [
    "df4 = pd.DataFrame()\n",
    "df4['source'] = source\n",
    "df4['pairs'] = pairs\n",
    "df4['price'] = price\n",
    "df4['plus_2_Depth'] = plus_2_Depth\n",
    "df4['minus_2_Depth'] = minus_2_Depth\n",
    "df4['volume'] = volume\n",
    "df4['volume_perc'] = volume_perc\n",
    "df4['confidence'] = confidence\n",
    "df4['liquidity'] = liquidity\n",
    "df4['updated'] = updated\n",
    "\n",
    "df4.head()"
   ]
  },
  {
   "cell_type": "code",
   "execution_count": 519,
   "metadata": {},
   "outputs": [],
   "source": [
    "# saving the pandas dataframe locally as csv file format\n",
    "df4.to_csv(\"Cardano.csv\")"
   ]
  },
  {
   "cell_type": "markdown",
   "metadata": {},
   "source": [
    "### 7. Tether"
   ]
  },
  {
   "cell_type": "code",
   "execution_count": 4,
   "metadata": {},
   "outputs": [],
   "source": [
    "# Establish chrome driver and go to report site URL\n",
    "url5 = 'https://coinmarketcap.com/currencies/tether/markets/'\n",
    "driver = webdriver.Chrome()\n",
    "driver.get(url5)"
   ]
  },
  {
   "cell_type": "code",
   "execution_count": 521,
   "metadata": {},
   "outputs": [],
   "source": [
    "#Selenium hands the page source to Beautiful Soup\n",
    "soup = BeautifulSoup(driver.page_source, 'lxml')\n",
    "table = soup.find('table', {'class':'h7vnx2-2 ecUULi cmc-table'})"
   ]
  },
  {
   "cell_type": "markdown",
   "metadata": {},
   "source": [
    "#### Scraping the market table and its columns - Source, Pairs, Price, +2% Depth, -2% Depth, Volume, Volume %, Confidence, Liquidity, Updated.\n",
    "---"
   ]
  },
  {
   "cell_type": "code",
   "execution_count": 522,
   "metadata": {
    "scrolled": true
   },
   "outputs": [],
   "source": [
    "table_rows = table.find_all('tr')"
   ]
  },
  {
   "cell_type": "code",
   "execution_count": 523,
   "metadata": {},
   "outputs": [
    {
     "name": "stdout",
     "output_type": "stream",
     "text": [
      "12\n",
      "['Binance', 'Binance', 'Binance', 'Huobi Global', 'Binance', 'Binance', 'Binance', 'Huobi Global', 'Binance', 'Huobi Global', 'Binance', 'KuCoin']\n"
     ]
    }
   ],
   "source": [
    "query = table.find_all('p', {'class': 'sc-1eb5slv-0 iworPT'})\n",
    "source=[]\n",
    "\n",
    "for x in query:\n",
    "    try:\n",
    "        source.append(x.text)\n",
    "    except AttributeError:\n",
    "        break    \n",
    "        \n",
    "print(len(source))\n",
    "print(source)"
   ]
  },
  {
   "cell_type": "code",
   "execution_count": 524,
   "metadata": {},
   "outputs": [
    {
     "name": "stdout",
     "output_type": "stream",
     "text": [
      "12\n",
      "['SHIB/USDT', 'BTC/USDT', 'ETH/USDT', 'SHIB/USDT', 'BUSD/USDT', 'BTCST/USDT', 'FTM/USDT', 'BTC/USDT', 'DOT/USDT', 'ETH/USDT', 'ADA/USDT', 'BTC/USDT']\n"
     ]
    }
   ],
   "source": [
    "query = table.find_all('a', {'class': 'qh9zi5-0 bGASOe cmc-link'})\n",
    "pairs=[]\n",
    "\n",
    "for x in query:\n",
    "    try:\n",
    "        pairs.append(x.text)\n",
    "    except AttributeError:\n",
    "        break    \n",
    "        \n",
    "print(len(pairs))\n",
    "print(pairs)"
   ]
  },
  {
   "cell_type": "code",
   "execution_count": 525,
   "metadata": {},
   "outputs": [
    {
     "name": "stdout",
     "output_type": "stream",
     "text": [
      "12\n",
      "['$1.00', '$1.00', '$1.00', '$1.00', '$1.00', '$1.00', '$1.00', '$1.00', '$1.00', '$1.00', '$1.00', '$1.00']\n"
     ]
    }
   ],
   "source": [
    "price=[]\n",
    "\n",
    "for row in table_rows[1:]:\n",
    "    try:\n",
    "        \n",
    "        price.append(row.find_all('td')[3].text)\n",
    "    except AttributeError:\n",
    "        break\n",
    "    except IndexError:\n",
    "        break\n",
    "                \n",
    "print(len(price))\n",
    "print(price)"
   ]
  },
  {
   "cell_type": "code",
   "execution_count": 526,
   "metadata": {},
   "outputs": [
    {
     "name": "stdout",
     "output_type": "stream",
     "text": [
      "12\n",
      "['$783,575.72', '$33,356,054.70', '$20,845,383.77', '$335,595.19', '$56,408,764.33', '$178,456.37', '$1,115,692.52', '$13,951,076.67', '$2,108,189.13', '$6,788,393.98', '$3,730,993.68', '$9,798,968.95']\n"
     ]
    }
   ],
   "source": [
    "plus_2_Depth=[]\n",
    "\n",
    "for row in table_rows[1:]:\n",
    "    try:\n",
    "        \n",
    "        plus_2_Depth.append(row.find_all('td')[4].text)\n",
    "    except AttributeError:\n",
    "        break\n",
    "    except IndexError:\n",
    "        break\n",
    "                \n",
    "print(len(plus_2_Depth))\n",
    "print(plus_2_Depth)"
   ]
  },
  {
   "cell_type": "code",
   "execution_count": 527,
   "metadata": {},
   "outputs": [
    {
     "name": "stdout",
     "output_type": "stream",
     "text": [
      "12\n",
      "['$910,094.68', '$22,191,694.81', '$10,308,998.30', '$511,395.63', '$59,194,305.24', '$297,970.03', '$1,332,985.84', '$12,869,701.74', '$2,053,608.18', '$7,592,518.36', '$4,546,081.70', '$10,802,601.92']\n"
     ]
    }
   ],
   "source": [
    "minus_2_Depth=[]\n",
    "\n",
    "for row in table_rows[1:]:\n",
    "    try:\n",
    "        \n",
    "        minus_2_Depth.append(row.find_all('td')[5].text)\n",
    "    except AttributeError:\n",
    "        break\n",
    "    except IndexError:\n",
    "        break\n",
    "                \n",
    "print(len(minus_2_Depth))\n",
    "print(minus_2_Depth)"
   ]
  },
  {
   "cell_type": "code",
   "execution_count": 528,
   "metadata": {},
   "outputs": [
    {
     "name": "stdout",
     "output_type": "stream",
     "text": [
      "12\n",
      "['$6,110,680,673', '$3,086,793,068', '$1,759,607,382', '$1,486,774,602', '$1,198,213,384', '$1,093,044,827', '$1,087,603,813', '$723,912,497', '$696,906,036', '$680,514,210', '$589,618,475', '$588,729,159']\n"
     ]
    }
   ],
   "source": [
    "volume=[]\n",
    "\n",
    "for row in table_rows[1:]:\n",
    "    try:\n",
    "        \n",
    "        volume.append(row.find_all('td')[6].text)\n",
    "    except AttributeError:\n",
    "        break\n",
    "    except IndexError:\n",
    "        break\n",
    "                \n",
    "print(len(volume))\n",
    "print(volume)"
   ]
  },
  {
   "cell_type": "code",
   "execution_count": 529,
   "metadata": {},
   "outputs": [
    {
     "name": "stdout",
     "output_type": "stream",
     "text": [
      "12\n",
      "['6.58%', '3.32%', '1.89%', '1.60%', '1.29%', '1.18%', '1.17%', '0.78%', '0.75%', '0.73%', '0.63%', '0.63%']\n"
     ]
    }
   ],
   "source": [
    "volume_perc=[]\n",
    "\n",
    "for row in table_rows[1:]:\n",
    "    try:\n",
    "        \n",
    "        volume_perc.append(row.find_all('td')[7].text)\n",
    "    except AttributeError:\n",
    "        break\n",
    "    except IndexError:\n",
    "        break\n",
    "                \n",
    "print(len(volume_perc))\n",
    "print(volume_perc)"
   ]
  },
  {
   "cell_type": "code",
   "execution_count": 530,
   "metadata": {},
   "outputs": [
    {
     "name": "stdout",
     "output_type": "stream",
     "text": [
      "12\n",
      "['High', 'High', 'High', 'Low', 'High', 'High', 'High', 'Low', 'High', 'Low', 'High', 'High']\n"
     ]
    }
   ],
   "source": [
    "confidence=[]\n",
    "\n",
    "for row in table_rows[1:]:\n",
    "    try:\n",
    "        \n",
    "        confidence.append(row.find_all('td')[8].text)\n",
    "    except AttributeError:\n",
    "        break\n",
    "    except IndexError:\n",
    "        break\n",
    "                \n",
    "print(len(confidence))\n",
    "print(confidence)"
   ]
  },
  {
   "cell_type": "code",
   "execution_count": 531,
   "metadata": {},
   "outputs": [
    {
     "name": "stdout",
     "output_type": "stream",
     "text": [
      "12\n",
      "['874', '892', '860', '274', '960', '800', '692', '939', '525', '877', '893', '900']\n"
     ]
    }
   ],
   "source": [
    "liquidity=[]\n",
    "\n",
    "for row in table_rows[1:]:\n",
    "    try:\n",
    "        \n",
    "        liquidity.append(row.find_all('td')[9].text)\n",
    "    except AttributeError:\n",
    "        break\n",
    "    except IndexError:\n",
    "        break\n",
    "                \n",
    "print(len(liquidity))\n",
    "print(liquidity)"
   ]
  },
  {
   "cell_type": "code",
   "execution_count": 532,
   "metadata": {},
   "outputs": [
    {
     "name": "stdout",
     "output_type": "stream",
     "text": [
      "12\n",
      "['Recently', 'Recently', 'Recently', 'Recently', 'Recently', 'Recently', 'Recently', 'Recently', 'Recently', 'Recently', 'Recently', 'Recently']\n"
     ]
    }
   ],
   "source": [
    "updated=[]\n",
    "\n",
    "for row in table_rows[1:]:\n",
    "    try:\n",
    "        \n",
    "        updated.append(row.find_all('td')[10].text)\n",
    "    except AttributeError:\n",
    "        break\n",
    "    except IndexError:\n",
    "        break\n",
    "                \n",
    "print(len(updated))\n",
    "print(updated)"
   ]
  },
  {
   "cell_type": "markdown",
   "metadata": {},
   "source": [
    "#### Combining all our columns into pandas Dataframe and viewing it"
   ]
  },
  {
   "cell_type": "code",
   "execution_count": 533,
   "metadata": {},
   "outputs": [
    {
     "data": {
      "text/html": [
       "<div>\n",
       "<style scoped>\n",
       "    .dataframe tbody tr th:only-of-type {\n",
       "        vertical-align: middle;\n",
       "    }\n",
       "\n",
       "    .dataframe tbody tr th {\n",
       "        vertical-align: top;\n",
       "    }\n",
       "\n",
       "    .dataframe thead th {\n",
       "        text-align: right;\n",
       "    }\n",
       "</style>\n",
       "<table border=\"1\" class=\"dataframe\">\n",
       "  <thead>\n",
       "    <tr style=\"text-align: right;\">\n",
       "      <th></th>\n",
       "      <th>source</th>\n",
       "      <th>pairs</th>\n",
       "      <th>price</th>\n",
       "      <th>plus_2_Depth</th>\n",
       "      <th>minus_2_Depth</th>\n",
       "      <th>volume</th>\n",
       "      <th>volume_perc</th>\n",
       "      <th>confidence</th>\n",
       "      <th>liquidity</th>\n",
       "      <th>updated</th>\n",
       "    </tr>\n",
       "  </thead>\n",
       "  <tbody>\n",
       "    <tr>\n",
       "      <th>0</th>\n",
       "      <td>Binance</td>\n",
       "      <td>SHIB/USDT</td>\n",
       "      <td>$1.00</td>\n",
       "      <td>$783,575.72</td>\n",
       "      <td>$910,094.68</td>\n",
       "      <td>$6,110,680,673</td>\n",
       "      <td>6.58%</td>\n",
       "      <td>High</td>\n",
       "      <td>874</td>\n",
       "      <td>Recently</td>\n",
       "    </tr>\n",
       "    <tr>\n",
       "      <th>1</th>\n",
       "      <td>Binance</td>\n",
       "      <td>BTC/USDT</td>\n",
       "      <td>$1.00</td>\n",
       "      <td>$33,356,054.70</td>\n",
       "      <td>$22,191,694.81</td>\n",
       "      <td>$3,086,793,068</td>\n",
       "      <td>3.32%</td>\n",
       "      <td>High</td>\n",
       "      <td>892</td>\n",
       "      <td>Recently</td>\n",
       "    </tr>\n",
       "    <tr>\n",
       "      <th>2</th>\n",
       "      <td>Binance</td>\n",
       "      <td>ETH/USDT</td>\n",
       "      <td>$1.00</td>\n",
       "      <td>$20,845,383.77</td>\n",
       "      <td>$10,308,998.30</td>\n",
       "      <td>$1,759,607,382</td>\n",
       "      <td>1.89%</td>\n",
       "      <td>High</td>\n",
       "      <td>860</td>\n",
       "      <td>Recently</td>\n",
       "    </tr>\n",
       "    <tr>\n",
       "      <th>3</th>\n",
       "      <td>Huobi Global</td>\n",
       "      <td>SHIB/USDT</td>\n",
       "      <td>$1.00</td>\n",
       "      <td>$335,595.19</td>\n",
       "      <td>$511,395.63</td>\n",
       "      <td>$1,486,774,602</td>\n",
       "      <td>1.60%</td>\n",
       "      <td>Low</td>\n",
       "      <td>274</td>\n",
       "      <td>Recently</td>\n",
       "    </tr>\n",
       "    <tr>\n",
       "      <th>4</th>\n",
       "      <td>Binance</td>\n",
       "      <td>BUSD/USDT</td>\n",
       "      <td>$1.00</td>\n",
       "      <td>$56,408,764.33</td>\n",
       "      <td>$59,194,305.24</td>\n",
       "      <td>$1,198,213,384</td>\n",
       "      <td>1.29%</td>\n",
       "      <td>High</td>\n",
       "      <td>960</td>\n",
       "      <td>Recently</td>\n",
       "    </tr>\n",
       "  </tbody>\n",
       "</table>\n",
       "</div>"
      ],
      "text/plain": [
       "         source      pairs  price    plus_2_Depth   minus_2_Depth  \\\n",
       "0       Binance  SHIB/USDT  $1.00     $783,575.72     $910,094.68   \n",
       "1       Binance   BTC/USDT  $1.00  $33,356,054.70  $22,191,694.81   \n",
       "2       Binance   ETH/USDT  $1.00  $20,845,383.77  $10,308,998.30   \n",
       "3  Huobi Global  SHIB/USDT  $1.00     $335,595.19     $511,395.63   \n",
       "4       Binance  BUSD/USDT  $1.00  $56,408,764.33  $59,194,305.24   \n",
       "\n",
       "           volume volume_perc confidence liquidity   updated  \n",
       "0  $6,110,680,673       6.58%       High       874  Recently  \n",
       "1  $3,086,793,068       3.32%       High       892  Recently  \n",
       "2  $1,759,607,382       1.89%       High       860  Recently  \n",
       "3  $1,486,774,602       1.60%        Low       274  Recently  \n",
       "4  $1,198,213,384       1.29%       High       960  Recently  "
      ]
     },
     "execution_count": 533,
     "metadata": {},
     "output_type": "execute_result"
    }
   ],
   "source": [
    "df5 = pd.DataFrame()\n",
    "df5['source'] = source\n",
    "df5['pairs'] = pairs\n",
    "df5['price'] = price\n",
    "df5['plus_2_Depth'] = plus_2_Depth\n",
    "df5['minus_2_Depth'] = minus_2_Depth\n",
    "df5['volume'] = volume\n",
    "df5['volume_perc'] = volume_perc\n",
    "df5['confidence'] = confidence\n",
    "df5['liquidity'] = liquidity\n",
    "df5['updated'] = updated\n",
    "\n",
    "df5.head()"
   ]
  },
  {
   "cell_type": "code",
   "execution_count": 534,
   "metadata": {},
   "outputs": [],
   "source": [
    "# saving the pandas dataframe locally as csv file format\n",
    "df5.to_csv(\"Tether.csv\")"
   ]
  },
  {
   "cell_type": "markdown",
   "metadata": {},
   "source": [
    "### 8. XRP"
   ]
  },
  {
   "cell_type": "code",
   "execution_count": 535,
   "metadata": {},
   "outputs": [],
   "source": [
    "# Establish chrome driver and go to report site URL\n",
    "url6 = 'https://coinmarketcap.com/currencies/xrp/markets/'\n",
    "driver = webdriver.Chrome()\n",
    "driver.get(url6)"
   ]
  },
  {
   "cell_type": "code",
   "execution_count": 536,
   "metadata": {},
   "outputs": [],
   "source": [
    "#Selenium hands the page source to Beautiful Soup\n",
    "soup = BeautifulSoup(driver.page_source, 'lxml')\n",
    "table = soup.find('table', {'class':'h7vnx2-2 ecUULi cmc-table'})"
   ]
  },
  {
   "cell_type": "markdown",
   "metadata": {},
   "source": [
    "#### Scraping the market table and its columns - Source, Pairs, Price, +2% Depth, -2% Depth, Volume, Volume %, Confidence, Liquidity, Updated.\n",
    "---"
   ]
  },
  {
   "cell_type": "code",
   "execution_count": 537,
   "metadata": {
    "scrolled": true
   },
   "outputs": [],
   "source": [
    "table_rows = table.find_all('tr')"
   ]
  },
  {
   "cell_type": "code",
   "execution_count": 538,
   "metadata": {},
   "outputs": [
    {
     "name": "stdout",
     "output_type": "stream",
     "text": [
      "14\n",
      "['Binance', 'Huobi Global', 'Bithumb', 'KuCoin', 'Gate.io', 'Binance', 'Binance', 'FTX', 'Bitstamp', 'Bitstamp', 'Kraken', 'Binance', 'Bitfinex', 'Huobi Global']\n"
     ]
    }
   ],
   "source": [
    "query = table.find_all('p', {'class': 'sc-1eb5slv-0 iworPT'})\n",
    "source=[]\n",
    "\n",
    "for x in query:\n",
    "    try:\n",
    "        source.append(x.text)\n",
    "    except AttributeError:\n",
    "        break    \n",
    "        \n",
    "print(len(source))\n",
    "print(source)"
   ]
  },
  {
   "cell_type": "code",
   "execution_count": 539,
   "metadata": {},
   "outputs": [
    {
     "name": "stdout",
     "output_type": "stream",
     "text": [
      "14\n",
      "['XRP/USDT', 'XRP/USDT', 'XRP/KRW', 'XRP/USDT', 'XRP/USDT', 'XRP/BUSD', 'XRP/BTC', 'XRP/USD', 'XRP/USD', 'XRP/EUR', 'XRP/EUR', 'XRP/TRY', 'XRP/USD', 'XRP/BTC']\n"
     ]
    }
   ],
   "source": [
    "query = table.find_all('a', {'class': 'qh9zi5-0 bGASOe cmc-link'})\n",
    "pairs=[]\n",
    "\n",
    "for x in query:\n",
    "    try:\n",
    "        pairs.append(x.text)\n",
    "    except AttributeError:\n",
    "        break    \n",
    "        \n",
    "print(len(pairs))\n",
    "print(pairs)"
   ]
  },
  {
   "cell_type": "code",
   "execution_count": 540,
   "metadata": {},
   "outputs": [
    {
     "name": "stdout",
     "output_type": "stream",
     "text": [
      "14\n",
      "['$1.07', '$1.07', '$1.10', '$1.07', '$1.07', '$1.08', '$1.07', '$1.08', '$1.07', '$1.07', '$1.07', '$1.07', '$1.07', '$1.07']\n"
     ]
    }
   ],
   "source": [
    "price=[]\n",
    "\n",
    "for row in table_rows[1:]:\n",
    "    try:\n",
    "        \n",
    "        price.append(row.find_all('td')[3].text)\n",
    "    except AttributeError:\n",
    "        break\n",
    "    except IndexError:\n",
    "        break\n",
    "                \n",
    "print(len(price))\n",
    "print(price)"
   ]
  },
  {
   "cell_type": "code",
   "execution_count": 541,
   "metadata": {},
   "outputs": [
    {
     "name": "stdout",
     "output_type": "stream",
     "text": [
      "14\n",
      "['$4,202,205.01', '$2,747,179.83', '$1,585,585.75', '$1,994,537.91', '$687,228.41', '$782,105.75', '$589,073.65', '$3,647,320.21', '$1,986,408.73', '$799,756.13', '$1,383,249.95', '$254,758.26', '$1,467,711.73', '$294,068.38']\n"
     ]
    }
   ],
   "source": [
    "plus_2_Depth=[]\n",
    "\n",
    "for row in table_rows[1:]:\n",
    "    try:\n",
    "        \n",
    "        plus_2_Depth.append(row.find_all('td')[4].text)\n",
    "    except AttributeError:\n",
    "        break\n",
    "    except IndexError:\n",
    "        break\n",
    "                \n",
    "print(len(plus_2_Depth))\n",
    "print(plus_2_Depth)"
   ]
  },
  {
   "cell_type": "code",
   "execution_count": 542,
   "metadata": {},
   "outputs": [
    {
     "name": "stdout",
     "output_type": "stream",
     "text": [
      "14\n",
      "['$3,796,986.21', '$1,278,106.34', '$1,710,575.24', '$1,639,920.24', '$882,520.98', '$886,628.54', '$993,907.24', '$7,352,858.71', '$2,043,011.06', '$707,599.97', '$1,797,224.19', '$193,412.06', '$2,128,561.25', '$337,801.76']\n"
     ]
    }
   ],
   "source": [
    "minus_2_Depth=[]\n",
    "\n",
    "for row in table_rows[1:]:\n",
    "    try:\n",
    "        \n",
    "        minus_2_Depth.append(row.find_all('td')[5].text)\n",
    "    except AttributeError:\n",
    "        break\n",
    "    except IndexError:\n",
    "        break\n",
    "                \n",
    "print(len(minus_2_Depth))\n",
    "print(minus_2_Depth)"
   ]
  },
  {
   "cell_type": "code",
   "execution_count": 543,
   "metadata": {},
   "outputs": [
    {
     "name": "stdout",
     "output_type": "stream",
     "text": [
      "14\n",
      "['$450,194,634', '$117,153,899', '$82,697,977', '$68,999,637', '$61,235,020', '$46,460,111', '$43,093,416', '$39,714,176', '$20,585,984', '$10,923,189', '$9,928,767', '$9,896,935', '$9,852,696', '$8,428,167']\n"
     ]
    }
   ],
   "source": [
    "volume=[]\n",
    "\n",
    "for row in table_rows[1:]:\n",
    "    try:\n",
    "        \n",
    "        volume.append(row.find_all('td')[6].text)\n",
    "    except AttributeError:\n",
    "        break\n",
    "    except IndexError:\n",
    "        break\n",
    "                \n",
    "print(len(volume))\n",
    "print(volume)"
   ]
  },
  {
   "cell_type": "code",
   "execution_count": 544,
   "metadata": {},
   "outputs": [
    {
     "name": "stdout",
     "output_type": "stream",
     "text": [
      "14\n",
      "['13.94%', '3.63%', '2.56%', '2.14%', '1.90%', '1.44%', '1.33%', '1.23%', '0.64%', '0.34%', '0.31%', '0.31%', '0.31%', '0.26%']\n"
     ]
    }
   ],
   "source": [
    "volume_perc=[]\n",
    "\n",
    "for row in table_rows[1:]:\n",
    "    try:\n",
    "        \n",
    "        volume_perc.append(row.find_all('td')[7].text)\n",
    "    except AttributeError:\n",
    "        break\n",
    "    except IndexError:\n",
    "        break\n",
    "                \n",
    "print(len(volume_perc))\n",
    "print(volume_perc)"
   ]
  },
  {
   "cell_type": "code",
   "execution_count": 545,
   "metadata": {},
   "outputs": [
    {
     "name": "stdout",
     "output_type": "stream",
     "text": [
      "14\n",
      "['High', 'Low', 'High', 'High', 'High', 'High', 'High', 'High', 'High', 'High', 'High', 'High', 'High', 'High']\n"
     ]
    }
   ],
   "source": [
    "confidence=[]\n",
    "\n",
    "for row in table_rows[1:]:\n",
    "    try:\n",
    "        \n",
    "        confidence.append(row.find_all('td')[8].text)\n",
    "    except AttributeError:\n",
    "        break\n",
    "    except IndexError:\n",
    "        break\n",
    "                \n",
    "print(len(confidence))\n",
    "print(confidence)"
   ]
  },
  {
   "cell_type": "code",
   "execution_count": 546,
   "metadata": {},
   "outputs": [
    {
     "name": "stdout",
     "output_type": "stream",
     "text": [
      "14\n",
      "['763', '621', '285', '714', '534', '511', '614', '743', '351', '305', '485', '840', '427', '395']\n"
     ]
    }
   ],
   "source": [
    "liquidity=[]\n",
    "\n",
    "for row in table_rows[1:]:\n",
    "    try:\n",
    "        \n",
    "        liquidity.append(row.find_all('td')[9].text)\n",
    "    except AttributeError:\n",
    "        break\n",
    "    except IndexError:\n",
    "        break\n",
    "                \n",
    "print(len(liquidity))\n",
    "print(liquidity)"
   ]
  },
  {
   "cell_type": "code",
   "execution_count": 547,
   "metadata": {},
   "outputs": [
    {
     "name": "stdout",
     "output_type": "stream",
     "text": [
      "14\n",
      "['Recently', 'Recently', 'Recently', 'Recently', 'Recently', 'Recently', 'Recently', 'Recently', 'Recently', 'Recently', 'Recently', 'Recently', 'Recently', 'Recently']\n"
     ]
    }
   ],
   "source": [
    "updated=[]\n",
    "\n",
    "for row in table_rows[1:]:\n",
    "    try:\n",
    "        \n",
    "        updated.append(row.find_all('td')[10].text)\n",
    "    except AttributeError:\n",
    "        break\n",
    "    except IndexError:\n",
    "        break\n",
    "                \n",
    "print(len(updated))\n",
    "print(updated)"
   ]
  },
  {
   "cell_type": "markdown",
   "metadata": {},
   "source": [
    "#### Combining all our columns into pandas Dataframe and viewing it"
   ]
  },
  {
   "cell_type": "code",
   "execution_count": 548,
   "metadata": {},
   "outputs": [
    {
     "data": {
      "text/html": [
       "<div>\n",
       "<style scoped>\n",
       "    .dataframe tbody tr th:only-of-type {\n",
       "        vertical-align: middle;\n",
       "    }\n",
       "\n",
       "    .dataframe tbody tr th {\n",
       "        vertical-align: top;\n",
       "    }\n",
       "\n",
       "    .dataframe thead th {\n",
       "        text-align: right;\n",
       "    }\n",
       "</style>\n",
       "<table border=\"1\" class=\"dataframe\">\n",
       "  <thead>\n",
       "    <tr style=\"text-align: right;\">\n",
       "      <th></th>\n",
       "      <th>source</th>\n",
       "      <th>pairs</th>\n",
       "      <th>price</th>\n",
       "      <th>plus_2_Depth</th>\n",
       "      <th>minus_2_Depth</th>\n",
       "      <th>volume</th>\n",
       "      <th>volume_perc</th>\n",
       "      <th>confidence</th>\n",
       "      <th>liquidity</th>\n",
       "      <th>updated</th>\n",
       "    </tr>\n",
       "  </thead>\n",
       "  <tbody>\n",
       "    <tr>\n",
       "      <th>0</th>\n",
       "      <td>Binance</td>\n",
       "      <td>XRP/USDT</td>\n",
       "      <td>$1.07</td>\n",
       "      <td>$4,202,205.01</td>\n",
       "      <td>$3,796,986.21</td>\n",
       "      <td>$450,194,634</td>\n",
       "      <td>13.94%</td>\n",
       "      <td>High</td>\n",
       "      <td>763</td>\n",
       "      <td>Recently</td>\n",
       "    </tr>\n",
       "    <tr>\n",
       "      <th>1</th>\n",
       "      <td>Huobi Global</td>\n",
       "      <td>XRP/USDT</td>\n",
       "      <td>$1.07</td>\n",
       "      <td>$2,747,179.83</td>\n",
       "      <td>$1,278,106.34</td>\n",
       "      <td>$117,153,899</td>\n",
       "      <td>3.63%</td>\n",
       "      <td>Low</td>\n",
       "      <td>621</td>\n",
       "      <td>Recently</td>\n",
       "    </tr>\n",
       "    <tr>\n",
       "      <th>2</th>\n",
       "      <td>Bithumb</td>\n",
       "      <td>XRP/KRW</td>\n",
       "      <td>$1.10</td>\n",
       "      <td>$1,585,585.75</td>\n",
       "      <td>$1,710,575.24</td>\n",
       "      <td>$82,697,977</td>\n",
       "      <td>2.56%</td>\n",
       "      <td>High</td>\n",
       "      <td>285</td>\n",
       "      <td>Recently</td>\n",
       "    </tr>\n",
       "    <tr>\n",
       "      <th>3</th>\n",
       "      <td>KuCoin</td>\n",
       "      <td>XRP/USDT</td>\n",
       "      <td>$1.07</td>\n",
       "      <td>$1,994,537.91</td>\n",
       "      <td>$1,639,920.24</td>\n",
       "      <td>$68,999,637</td>\n",
       "      <td>2.14%</td>\n",
       "      <td>High</td>\n",
       "      <td>714</td>\n",
       "      <td>Recently</td>\n",
       "    </tr>\n",
       "    <tr>\n",
       "      <th>4</th>\n",
       "      <td>Gate.io</td>\n",
       "      <td>XRP/USDT</td>\n",
       "      <td>$1.07</td>\n",
       "      <td>$687,228.41</td>\n",
       "      <td>$882,520.98</td>\n",
       "      <td>$61,235,020</td>\n",
       "      <td>1.90%</td>\n",
       "      <td>High</td>\n",
       "      <td>534</td>\n",
       "      <td>Recently</td>\n",
       "    </tr>\n",
       "  </tbody>\n",
       "</table>\n",
       "</div>"
      ],
      "text/plain": [
       "         source     pairs  price   plus_2_Depth  minus_2_Depth        volume  \\\n",
       "0       Binance  XRP/USDT  $1.07  $4,202,205.01  $3,796,986.21  $450,194,634   \n",
       "1  Huobi Global  XRP/USDT  $1.07  $2,747,179.83  $1,278,106.34  $117,153,899   \n",
       "2       Bithumb   XRP/KRW  $1.10  $1,585,585.75  $1,710,575.24   $82,697,977   \n",
       "3        KuCoin  XRP/USDT  $1.07  $1,994,537.91  $1,639,920.24   $68,999,637   \n",
       "4       Gate.io  XRP/USDT  $1.07    $687,228.41    $882,520.98   $61,235,020   \n",
       "\n",
       "  volume_perc confidence liquidity   updated  \n",
       "0      13.94%       High       763  Recently  \n",
       "1       3.63%        Low       621  Recently  \n",
       "2       2.56%       High       285  Recently  \n",
       "3       2.14%       High       714  Recently  \n",
       "4       1.90%       High       534  Recently  "
      ]
     },
     "execution_count": 548,
     "metadata": {},
     "output_type": "execute_result"
    }
   ],
   "source": [
    "df6 = pd.DataFrame()\n",
    "df6['source'] = source\n",
    "df6['pairs'] = pairs\n",
    "df6['price'] = price\n",
    "df6['plus_2_Depth'] = plus_2_Depth\n",
    "df6['minus_2_Depth'] = minus_2_Depth\n",
    "df6['volume'] = volume\n",
    "df6['volume_perc'] = volume_perc\n",
    "df6['confidence'] = confidence\n",
    "df6['liquidity'] = liquidity\n",
    "df6['updated'] = updated\n",
    "\n",
    "df6.head()"
   ]
  },
  {
   "cell_type": "code",
   "execution_count": 549,
   "metadata": {},
   "outputs": [],
   "source": [
    "# saving the pandas dataframe locally as csv file format\n",
    "df6.to_csv(\"XRP.csv\")"
   ]
  },
  {
   "cell_type": "markdown",
   "metadata": {},
   "source": [
    "### 9. Solana"
   ]
  },
  {
   "cell_type": "code",
   "execution_count": 550,
   "metadata": {},
   "outputs": [],
   "source": [
    "# Establish chrome driver and go to report site URL\n",
    "url7 = 'https://coinmarketcap.com/currencies/solana/markets/'\n",
    "driver = webdriver.Chrome()\n",
    "driver.get(url7)"
   ]
  },
  {
   "cell_type": "code",
   "execution_count": 551,
   "metadata": {},
   "outputs": [],
   "source": [
    "#Selenium hands the page source to Beautiful Soup\n",
    "soup = BeautifulSoup(driver.page_source, 'lxml')\n",
    "table = soup.find('table', {'class':'h7vnx2-2 ecUULi cmc-table'})"
   ]
  },
  {
   "cell_type": "markdown",
   "metadata": {},
   "source": [
    "#### Scraping the market table and its columns - Source, Pairs, Price, +2% Depth, -2% Depth, Volume, Volume %, Confidence, Liquidity, Updated.\n",
    "---"
   ]
  },
  {
   "cell_type": "code",
   "execution_count": 552,
   "metadata": {
    "scrolled": true
   },
   "outputs": [],
   "source": [
    "table_rows = table.find_all('tr')"
   ]
  },
  {
   "cell_type": "code",
   "execution_count": 553,
   "metadata": {},
   "outputs": [
    {
     "name": "stdout",
     "output_type": "stream",
     "text": [
      "15\n",
      "['Binance', 'Coinbase Exchange', 'FTX', 'Binance', 'Binance', 'Huobi Global', 'Binance.US', 'FTX', 'KuCoin', 'Binance', 'Bitfinex', 'Coinbase Exchange', 'Coinbase Exchange', 'FTX US', 'Gate.io']\n"
     ]
    }
   ],
   "source": [
    "query = table.find_all('p', {'class': 'sc-1eb5slv-0 iworPT'})\n",
    "source=[]\n",
    "\n",
    "for x in query:\n",
    "    try:\n",
    "        source.append(x.text)\n",
    "    except AttributeError:\n",
    "        break    \n",
    "        \n",
    "print(len(source))\n",
    "print(source)"
   ]
  },
  {
   "cell_type": "code",
   "execution_count": 554,
   "metadata": {},
   "outputs": [
    {
     "name": "stdout",
     "output_type": "stream",
     "text": [
      "15\n",
      "['SOL/USDT', 'SOL/USD', 'SOL/USD', 'SOL/BUSD', 'SOL/BTC', 'SOL/USDT', 'SOL/USD', 'SOL/USDT', 'SOL/USDT', 'SOL/TRY', 'SOL/USD', 'SOL/BTC', 'SOL/EUR', 'SOL/USD', 'SOL/USDT']\n"
     ]
    }
   ],
   "source": [
    "query = table.find_all('a', {'class': 'qh9zi5-0 bGASOe cmc-link'})\n",
    "pairs=[]\n",
    "\n",
    "for x in query:\n",
    "    try:\n",
    "        pairs.append(x.text)\n",
    "    except AttributeError:\n",
    "        break    \n",
    "        \n",
    "print(len(pairs))\n",
    "print(pairs)"
   ]
  },
  {
   "cell_type": "code",
   "execution_count": 555,
   "metadata": {},
   "outputs": [
    {
     "name": "stdout",
     "output_type": "stream",
     "text": [
      "15\n",
      "['$157.44', '$157.66', '$157.60', '$157.40', '$157.38', '$157.58', '$157.53', '$157.59', '$157.56', '$156.89', '$157.64', '$157.19', '$157.18', '$157.04', '$157.36']\n"
     ]
    }
   ],
   "source": [
    "price=[]\n",
    "\n",
    "for row in table_rows[1:]:\n",
    "    try:\n",
    "        \n",
    "        price.append(row.find_all('td')[3].text)\n",
    "    except AttributeError:\n",
    "        break\n",
    "    except IndexError:\n",
    "        break\n",
    "                \n",
    "print(len(price))\n",
    "print(price)"
   ]
  },
  {
   "cell_type": "code",
   "execution_count": 556,
   "metadata": {},
   "outputs": [
    {
     "name": "stdout",
     "output_type": "stream",
     "text": [
      "15\n",
      "['$4,323,442.43', '$2,216,139.61', '$2,344,805.54', '$1,529,574.68', '$545,179.21', '$678,688.70', '$888,588.33', '$1,348,330.21', '$1,461,641.60', '$369,059.07', '$1,623,062.32', '$631,809.44', '$554,834.18', '$1,317,730.52', '$1,031,442.68']\n"
     ]
    }
   ],
   "source": [
    "plus_2_Depth=[]\n",
    "\n",
    "for row in table_rows[1:]:\n",
    "    try:\n",
    "        \n",
    "        plus_2_Depth.append(row.find_all('td')[4].text)\n",
    "    except AttributeError:\n",
    "        break\n",
    "    except IndexError:\n",
    "        break\n",
    "                \n",
    "print(len(plus_2_Depth))\n",
    "print(plus_2_Depth)"
   ]
  },
  {
   "cell_type": "code",
   "execution_count": 557,
   "metadata": {},
   "outputs": [
    {
     "name": "stdout",
     "output_type": "stream",
     "text": [
      "15\n",
      "['$2,387,636.58', '$2,166,895.31', '$1,978,666.58', '$1,157,004.68', '$853,931.50', '$1,458,035.45', '$1,483,710.89', '$1,123,542.60', '$927,677.55', '$113,005.25', '$3,111,314.72', '$778,845.66', '$545,682.03', '$1,244,013.67', '$969,241.32']\n"
     ]
    }
   ],
   "source": [
    "minus_2_Depth=[]\n",
    "\n",
    "for row in table_rows[1:]:\n",
    "    try:\n",
    "        \n",
    "        minus_2_Depth.append(row.find_all('td')[5].text)\n",
    "    except AttributeError:\n",
    "        break\n",
    "    except IndexError:\n",
    "        break\n",
    "                \n",
    "print(len(minus_2_Depth))\n",
    "print(minus_2_Depth)"
   ]
  },
  {
   "cell_type": "code",
   "execution_count": 558,
   "metadata": {},
   "outputs": [
    {
     "name": "stdout",
     "output_type": "stream",
     "text": [
      "15\n",
      "['$525,883,948', '$277,461,684', '$150,728,766', '$133,099,983', '$111,368,368', '$64,666,533', '$64,369,217', '$38,916,628', '$31,979,160', '$29,678,544', '$27,624,288', '$21,912,921', '$21,053,671', '$16,423,727', '$15,096,427']\n"
     ]
    }
   ],
   "source": [
    "volume=[]\n",
    "\n",
    "for row in table_rows[1:]:\n",
    "    try:\n",
    "        \n",
    "        volume.append(row.find_all('td')[6].text)\n",
    "    except AttributeError:\n",
    "        break\n",
    "    except IndexError:\n",
    "        break\n",
    "                \n",
    "print(len(volume))\n",
    "print(volume)"
   ]
  },
  {
   "cell_type": "code",
   "execution_count": 559,
   "metadata": {},
   "outputs": [
    {
     "name": "stdout",
     "output_type": "stream",
     "text": [
      "15\n",
      "['19.80%', '10.45%', '5.68%', '5.01%', '4.19%', '2.43%', '2.42%', '1.47%', '1.20%', '1.12%', '1.04%', '0.83%', '0.79%', '0.62%', '0.57%']\n"
     ]
    }
   ],
   "source": [
    "volume_perc=[]\n",
    "\n",
    "for row in table_rows[1:]:\n",
    "    try:\n",
    "        \n",
    "        volume_perc.append(row.find_all('td')[7].text)\n",
    "    except AttributeError:\n",
    "        break\n",
    "    except IndexError:\n",
    "        break\n",
    "                \n",
    "print(len(volume_perc))\n",
    "print(volume_perc)"
   ]
  },
  {
   "cell_type": "code",
   "execution_count": 560,
   "metadata": {},
   "outputs": [
    {
     "name": "stdout",
     "output_type": "stream",
     "text": [
      "15\n",
      "['High', 'High', 'Moderate', 'High', 'High', 'Low', 'High', 'High', 'High', 'High', 'High', 'High', 'High', 'Moderate', 'High']\n"
     ]
    }
   ],
   "source": [
    "confidence=[]\n",
    "\n",
    "for row in table_rows[1:]:\n",
    "    try:\n",
    "        \n",
    "        confidence.append(row.find_all('td')[8].text)\n",
    "    except AttributeError:\n",
    "        break\n",
    "    except IndexError:\n",
    "        break\n",
    "                \n",
    "print(len(confidence))\n",
    "print(confidence)"
   ]
  },
  {
   "cell_type": "code",
   "execution_count": 561,
   "metadata": {},
   "outputs": [
    {
     "name": "stdout",
     "output_type": "stream",
     "text": [
      "15\n",
      "['622', '575', '493', '760', '552', '469', '782', '430', '418', '765', '335', '350', '372', '223', '346']\n"
     ]
    }
   ],
   "source": [
    "liquidity=[]\n",
    "\n",
    "for row in table_rows[1:]:\n",
    "    try:\n",
    "        \n",
    "        liquidity.append(row.find_all('td')[9].text)\n",
    "    except AttributeError:\n",
    "        break\n",
    "    except IndexError:\n",
    "        break\n",
    "                \n",
    "print(len(liquidity))\n",
    "print(liquidity)"
   ]
  },
  {
   "cell_type": "code",
   "execution_count": 562,
   "metadata": {},
   "outputs": [
    {
     "name": "stdout",
     "output_type": "stream",
     "text": [
      "15\n",
      "['Recently', 'Recently', 'Recently', 'Recently', 'Recently', 'Recently', 'Recently', 'Recently', 'Recently', 'Recently', 'Recently', 'Recently', 'Recently', 'Recently', 'Recently']\n"
     ]
    }
   ],
   "source": [
    "updated=[]\n",
    "\n",
    "for row in table_rows[1:]:\n",
    "    try:\n",
    "        \n",
    "        updated.append(row.find_all('td')[10].text)\n",
    "    except AttributeError:\n",
    "        break\n",
    "    except IndexError:\n",
    "        break\n",
    "                \n",
    "print(len(updated))\n",
    "print(updated)"
   ]
  },
  {
   "cell_type": "markdown",
   "metadata": {},
   "source": [
    "#### Combining all our columns into pandas Dataframe and viewing it"
   ]
  },
  {
   "cell_type": "code",
   "execution_count": 563,
   "metadata": {},
   "outputs": [
    {
     "data": {
      "text/html": [
       "<div>\n",
       "<style scoped>\n",
       "    .dataframe tbody tr th:only-of-type {\n",
       "        vertical-align: middle;\n",
       "    }\n",
       "\n",
       "    .dataframe tbody tr th {\n",
       "        vertical-align: top;\n",
       "    }\n",
       "\n",
       "    .dataframe thead th {\n",
       "        text-align: right;\n",
       "    }\n",
       "</style>\n",
       "<table border=\"1\" class=\"dataframe\">\n",
       "  <thead>\n",
       "    <tr style=\"text-align: right;\">\n",
       "      <th></th>\n",
       "      <th>source</th>\n",
       "      <th>pairs</th>\n",
       "      <th>price</th>\n",
       "      <th>plus_2_Depth</th>\n",
       "      <th>minus_2_Depth</th>\n",
       "      <th>volume</th>\n",
       "      <th>volume_perc</th>\n",
       "      <th>confidence</th>\n",
       "      <th>liquidity</th>\n",
       "      <th>updated</th>\n",
       "    </tr>\n",
       "  </thead>\n",
       "  <tbody>\n",
       "    <tr>\n",
       "      <th>0</th>\n",
       "      <td>Binance</td>\n",
       "      <td>SOL/USDT</td>\n",
       "      <td>$157.44</td>\n",
       "      <td>$4,323,442.43</td>\n",
       "      <td>$2,387,636.58</td>\n",
       "      <td>$525,883,948</td>\n",
       "      <td>19.80%</td>\n",
       "      <td>High</td>\n",
       "      <td>622</td>\n",
       "      <td>Recently</td>\n",
       "    </tr>\n",
       "    <tr>\n",
       "      <th>1</th>\n",
       "      <td>Coinbase Exchange</td>\n",
       "      <td>SOL/USD</td>\n",
       "      <td>$157.66</td>\n",
       "      <td>$2,216,139.61</td>\n",
       "      <td>$2,166,895.31</td>\n",
       "      <td>$277,461,684</td>\n",
       "      <td>10.45%</td>\n",
       "      <td>High</td>\n",
       "      <td>575</td>\n",
       "      <td>Recently</td>\n",
       "    </tr>\n",
       "    <tr>\n",
       "      <th>2</th>\n",
       "      <td>FTX</td>\n",
       "      <td>SOL/USD</td>\n",
       "      <td>$157.60</td>\n",
       "      <td>$2,344,805.54</td>\n",
       "      <td>$1,978,666.58</td>\n",
       "      <td>$150,728,766</td>\n",
       "      <td>5.68%</td>\n",
       "      <td>Moderate</td>\n",
       "      <td>493</td>\n",
       "      <td>Recently</td>\n",
       "    </tr>\n",
       "    <tr>\n",
       "      <th>3</th>\n",
       "      <td>Binance</td>\n",
       "      <td>SOL/BUSD</td>\n",
       "      <td>$157.40</td>\n",
       "      <td>$1,529,574.68</td>\n",
       "      <td>$1,157,004.68</td>\n",
       "      <td>$133,099,983</td>\n",
       "      <td>5.01%</td>\n",
       "      <td>High</td>\n",
       "      <td>760</td>\n",
       "      <td>Recently</td>\n",
       "    </tr>\n",
       "    <tr>\n",
       "      <th>4</th>\n",
       "      <td>Binance</td>\n",
       "      <td>SOL/BTC</td>\n",
       "      <td>$157.38</td>\n",
       "      <td>$545,179.21</td>\n",
       "      <td>$853,931.50</td>\n",
       "      <td>$111,368,368</td>\n",
       "      <td>4.19%</td>\n",
       "      <td>High</td>\n",
       "      <td>552</td>\n",
       "      <td>Recently</td>\n",
       "    </tr>\n",
       "  </tbody>\n",
       "</table>\n",
       "</div>"
      ],
      "text/plain": [
       "              source     pairs    price   plus_2_Depth  minus_2_Depth  \\\n",
       "0            Binance  SOL/USDT  $157.44  $4,323,442.43  $2,387,636.58   \n",
       "1  Coinbase Exchange   SOL/USD  $157.66  $2,216,139.61  $2,166,895.31   \n",
       "2                FTX   SOL/USD  $157.60  $2,344,805.54  $1,978,666.58   \n",
       "3            Binance  SOL/BUSD  $157.40  $1,529,574.68  $1,157,004.68   \n",
       "4            Binance   SOL/BTC  $157.38    $545,179.21    $853,931.50   \n",
       "\n",
       "         volume volume_perc confidence liquidity   updated  \n",
       "0  $525,883,948      19.80%       High       622  Recently  \n",
       "1  $277,461,684      10.45%       High       575  Recently  \n",
       "2  $150,728,766       5.68%   Moderate       493  Recently  \n",
       "3  $133,099,983       5.01%       High       760  Recently  \n",
       "4  $111,368,368       4.19%       High       552  Recently  "
      ]
     },
     "execution_count": 563,
     "metadata": {},
     "output_type": "execute_result"
    }
   ],
   "source": [
    "df7 = pd.DataFrame()\n",
    "df7['source'] = source\n",
    "df7['pairs'] = pairs\n",
    "df7['price'] = price\n",
    "df7['plus_2_Depth'] = plus_2_Depth\n",
    "df7['minus_2_Depth'] = minus_2_Depth\n",
    "df7['volume'] = volume\n",
    "df7['volume_perc'] = volume_perc\n",
    "df7['confidence'] = confidence\n",
    "df7['liquidity'] = liquidity\n",
    "df7['updated'] = updated\n",
    "\n",
    "df7.head()"
   ]
  },
  {
   "cell_type": "code",
   "execution_count": 564,
   "metadata": {},
   "outputs": [],
   "source": [
    "# saving the pandas dataframe locally as csv file format\n",
    "df7.to_csv(\"Solana.csv\")"
   ]
  },
  {
   "cell_type": "markdown",
   "metadata": {},
   "source": [
    "### 10. Polkadot"
   ]
  },
  {
   "cell_type": "code",
   "execution_count": 565,
   "metadata": {},
   "outputs": [],
   "source": [
    "# Establish chrome driver and go to report site URL\n",
    "url8 = 'https://coinmarketcap.com/currencies/polkadot-new/markets/'\n",
    "driver = webdriver.Chrome()\n",
    "driver.get(url8)"
   ]
  },
  {
   "cell_type": "code",
   "execution_count": 566,
   "metadata": {},
   "outputs": [],
   "source": [
    "#Selenium hands the page source to Beautiful Soup\n",
    "soup = BeautifulSoup(driver.page_source, 'lxml')\n",
    "table = soup.find('table', {'class':'h7vnx2-2 ecUULi cmc-table'})"
   ]
  },
  {
   "cell_type": "markdown",
   "metadata": {},
   "source": [
    "#### Scraping the market table and its columns - Source, Pairs, Price, +2% Depth, -2% Depth, Volume, Volume %, Confidence, Liquidity, Updated.\n",
    "---"
   ]
  },
  {
   "cell_type": "code",
   "execution_count": 567,
   "metadata": {
    "scrolled": true
   },
   "outputs": [],
   "source": [
    "table_rows = table.find_all('tr')"
   ]
  },
  {
   "cell_type": "code",
   "execution_count": 568,
   "metadata": {},
   "outputs": [
    {
     "name": "stdout",
     "output_type": "stream",
     "text": [
      "13\n",
      "['Binance', 'Huobi Global', 'Coinbase Exchange', 'Binance', 'Binance', 'Gate.io', 'KuCoin', 'Kraken', 'Bithumb', 'Kraken', 'Bitfinex', 'Binance', 'Huobi Global']\n"
     ]
    }
   ],
   "source": [
    "query = table.find_all('p', {'class': 'sc-1eb5slv-0 iworPT'})\n",
    "source=[]\n",
    "\n",
    "for x in query:\n",
    "    try:\n",
    "        source.append(x.text)\n",
    "    except AttributeError:\n",
    "        break    \n",
    "        \n",
    "print(len(source))\n",
    "print(source)"
   ]
  },
  {
   "cell_type": "code",
   "execution_count": 569,
   "metadata": {},
   "outputs": [
    {
     "name": "stdout",
     "output_type": "stream",
     "text": [
      "13\n",
      "['DOT/USDT', 'DOT/USDT', 'DOT/USD', 'DOT/BTC', 'DOT/BUSD', 'DOT/USDT', 'DOT/USDT', 'DOT/USD', 'DOT/KRW', 'DOT/EUR', 'DOT/USD', 'DOT/BNB', 'DOT/BTC']\n"
     ]
    }
   ],
   "source": [
    "query = table.find_all('a', {'class': 'qh9zi5-0 bGASOe cmc-link'})\n",
    "pairs=[]\n",
    "\n",
    "for x in query:\n",
    "    try:\n",
    "        pairs.append(x.text)\n",
    "    except AttributeError:\n",
    "        break    \n",
    "        \n",
    "print(len(pairs))\n",
    "print(pairs)"
   ]
  },
  {
   "cell_type": "code",
   "execution_count": 570,
   "metadata": {},
   "outputs": [
    {
     "name": "stdout",
     "output_type": "stream",
     "text": [
      "13\n",
      "['$34.55', '$34.54', '$34.65', '$34.54', '$34.55', '$34.57', '$34.55', '$34.58', '$35.17', '$34.54', '$34.58', '$34.61', '$34.55']\n"
     ]
    }
   ],
   "source": [
    "price=[]\n",
    "\n",
    "for row in table_rows[1:]:\n",
    "    try:\n",
    "        \n",
    "        price.append(row.find_all('td')[3].text)\n",
    "    except AttributeError:\n",
    "        break\n",
    "    except IndexError:\n",
    "        break\n",
    "                \n",
    "print(len(price))\n",
    "print(price)"
   ]
  },
  {
   "cell_type": "code",
   "execution_count": 571,
   "metadata": {},
   "outputs": [
    {
     "name": "stdout",
     "output_type": "stream",
     "text": [
      "13\n",
      "['$2,986,592.29', '$1,748,038.25', '$1,817,750.16', '$482,656.15', '$778,122.28', '$503,359.78', '$978,174.63', '$3,478,708.08', '$618,892.51', '$1,744,139.37', '$786,568.99', '$113,433.61', '$372,110.93']\n"
     ]
    }
   ],
   "source": [
    "plus_2_Depth=[]\n",
    "\n",
    "for row in table_rows[1:]:\n",
    "    try:\n",
    "        \n",
    "        plus_2_Depth.append(row.find_all('td')[4].text)\n",
    "    except AttributeError:\n",
    "        break\n",
    "    except IndexError:\n",
    "        break\n",
    "                \n",
    "print(len(plus_2_Depth))\n",
    "print(plus_2_Depth)"
   ]
  },
  {
   "cell_type": "code",
   "execution_count": 572,
   "metadata": {},
   "outputs": [
    {
     "name": "stdout",
     "output_type": "stream",
     "text": [
      "13\n",
      "['$1,742,932.41', '$1,308,780.93', '$1,501,383.80', '$433,445.62', '$658,418.44', '$737,838.78', '$1,035,254.69', '$2,946,949.57', '$758,753.75', '$1,072,554.66', '$6,188,264.23', '$166,143.77', '$405,872.33']\n"
     ]
    }
   ],
   "source": [
    "minus_2_Depth=[]\n",
    "\n",
    "for row in table_rows[1:]:\n",
    "    try:\n",
    "        \n",
    "        minus_2_Depth.append(row.find_all('td')[5].text)\n",
    "    except AttributeError:\n",
    "        break\n",
    "    except IndexError:\n",
    "        break\n",
    "                \n",
    "print(len(minus_2_Depth))\n",
    "print(minus_2_Depth)"
   ]
  },
  {
   "cell_type": "code",
   "execution_count": 573,
   "metadata": {},
   "outputs": [
    {
     "name": "stdout",
     "output_type": "stream",
     "text": [
      "13\n",
      "['$702,466,645', '$198,078,721', '$115,483,690', '$110,191,228', '$80,508,484', '$72,666,015', '$57,222,507', '$53,126,474', '$50,549,750', '$19,970,912', '$19,253,611', '$16,183,245', '$15,810,555']\n"
     ]
    }
   ],
   "source": [
    "volume=[]\n",
    "\n",
    "for row in table_rows[1:]:\n",
    "    try:\n",
    "        \n",
    "        volume.append(row.find_all('td')[6].text)\n",
    "    except AttributeError:\n",
    "        break\n",
    "    except IndexError:\n",
    "        break\n",
    "                \n",
    "print(len(volume))\n",
    "print(volume)"
   ]
  },
  {
   "cell_type": "code",
   "execution_count": 574,
   "metadata": {},
   "outputs": [
    {
     "name": "stdout",
     "output_type": "stream",
     "text": [
      "13\n",
      "['25.62%', '7.22%', '4.21%', '4.02%', '2.94%', '2.65%', '2.09%', '1.94%', '1.84%', '0.73%', '0.70%', '0.59%', '0.58%']\n"
     ]
    }
   ],
   "source": [
    "volume_perc=[]\n",
    "\n",
    "for row in table_rows[1:]:\n",
    "    try:\n",
    "        \n",
    "        volume_perc.append(row.find_all('td')[7].text)\n",
    "    except AttributeError:\n",
    "        break\n",
    "    except IndexError:\n",
    "        break\n",
    "                \n",
    "print(len(volume_perc))\n",
    "print(volume_perc)"
   ]
  },
  {
   "cell_type": "code",
   "execution_count": 575,
   "metadata": {},
   "outputs": [
    {
     "name": "stdout",
     "output_type": "stream",
     "text": [
      "13\n",
      "['High', 'Low', 'High', 'High', 'High', 'High', 'High', 'High', 'High', 'High', 'High', 'High', 'Moderate']\n"
     ]
    }
   ],
   "source": [
    "confidence=[]\n",
    "\n",
    "for row in table_rows[1:]:\n",
    "    try:\n",
    "        \n",
    "        confidence.append(row.find_all('td')[8].text)\n",
    "    except AttributeError:\n",
    "        break\n",
    "    except IndexError:\n",
    "        break\n",
    "                \n",
    "print(len(confidence))\n",
    "print(confidence)"
   ]
  },
  {
   "cell_type": "code",
   "execution_count": 576,
   "metadata": {},
   "outputs": [
    {
     "name": "stdout",
     "output_type": "stream",
     "text": [
      "13\n",
      "['842', '570', '499', '801', '846', '396', '493', '569', '215', '508', '351', '754', '359']\n"
     ]
    }
   ],
   "source": [
    "liquidity=[]\n",
    "\n",
    "for row in table_rows[1:]:\n",
    "    try:\n",
    "        \n",
    "        liquidity.append(row.find_all('td')[9].text)\n",
    "    except AttributeError:\n",
    "        break\n",
    "    except IndexError:\n",
    "        break\n",
    "                \n",
    "print(len(liquidity))\n",
    "print(liquidity)"
   ]
  },
  {
   "cell_type": "code",
   "execution_count": 577,
   "metadata": {},
   "outputs": [
    {
     "name": "stdout",
     "output_type": "stream",
     "text": [
      "13\n",
      "['Recently', 'Recently', 'Recently', 'Recently', 'Recently', 'Recently', 'Recently', 'Recently', 'Recently', 'Recently', 'Recently', 'Recently', 'Recently']\n"
     ]
    }
   ],
   "source": [
    "updated=[]\n",
    "\n",
    "for row in table_rows[1:]:\n",
    "    try:\n",
    "        \n",
    "        updated.append(row.find_all('td')[10].text)\n",
    "    except AttributeError:\n",
    "        break\n",
    "    except IndexError:\n",
    "        break\n",
    "                \n",
    "print(len(updated))\n",
    "print(updated)"
   ]
  },
  {
   "cell_type": "markdown",
   "metadata": {},
   "source": [
    "#### Combining all our columns into pandas Dataframe and viewing it"
   ]
  },
  {
   "cell_type": "code",
   "execution_count": 578,
   "metadata": {},
   "outputs": [
    {
     "data": {
      "text/html": [
       "<div>\n",
       "<style scoped>\n",
       "    .dataframe tbody tr th:only-of-type {\n",
       "        vertical-align: middle;\n",
       "    }\n",
       "\n",
       "    .dataframe tbody tr th {\n",
       "        vertical-align: top;\n",
       "    }\n",
       "\n",
       "    .dataframe thead th {\n",
       "        text-align: right;\n",
       "    }\n",
       "</style>\n",
       "<table border=\"1\" class=\"dataframe\">\n",
       "  <thead>\n",
       "    <tr style=\"text-align: right;\">\n",
       "      <th></th>\n",
       "      <th>source</th>\n",
       "      <th>pairs</th>\n",
       "      <th>price</th>\n",
       "      <th>plus_2_Depth</th>\n",
       "      <th>minus_2_Depth</th>\n",
       "      <th>volume</th>\n",
       "      <th>volume_perc</th>\n",
       "      <th>confidence</th>\n",
       "      <th>liquidity</th>\n",
       "      <th>updated</th>\n",
       "    </tr>\n",
       "  </thead>\n",
       "  <tbody>\n",
       "    <tr>\n",
       "      <th>0</th>\n",
       "      <td>Binance</td>\n",
       "      <td>DOT/USDT</td>\n",
       "      <td>$34.55</td>\n",
       "      <td>$2,986,592.29</td>\n",
       "      <td>$1,742,932.41</td>\n",
       "      <td>$702,466,645</td>\n",
       "      <td>25.62%</td>\n",
       "      <td>High</td>\n",
       "      <td>842</td>\n",
       "      <td>Recently</td>\n",
       "    </tr>\n",
       "    <tr>\n",
       "      <th>1</th>\n",
       "      <td>Huobi Global</td>\n",
       "      <td>DOT/USDT</td>\n",
       "      <td>$34.54</td>\n",
       "      <td>$1,748,038.25</td>\n",
       "      <td>$1,308,780.93</td>\n",
       "      <td>$198,078,721</td>\n",
       "      <td>7.22%</td>\n",
       "      <td>Low</td>\n",
       "      <td>570</td>\n",
       "      <td>Recently</td>\n",
       "    </tr>\n",
       "    <tr>\n",
       "      <th>2</th>\n",
       "      <td>Coinbase Exchange</td>\n",
       "      <td>DOT/USD</td>\n",
       "      <td>$34.65</td>\n",
       "      <td>$1,817,750.16</td>\n",
       "      <td>$1,501,383.80</td>\n",
       "      <td>$115,483,690</td>\n",
       "      <td>4.21%</td>\n",
       "      <td>High</td>\n",
       "      <td>499</td>\n",
       "      <td>Recently</td>\n",
       "    </tr>\n",
       "    <tr>\n",
       "      <th>3</th>\n",
       "      <td>Binance</td>\n",
       "      <td>DOT/BTC</td>\n",
       "      <td>$34.54</td>\n",
       "      <td>$482,656.15</td>\n",
       "      <td>$433,445.62</td>\n",
       "      <td>$110,191,228</td>\n",
       "      <td>4.02%</td>\n",
       "      <td>High</td>\n",
       "      <td>801</td>\n",
       "      <td>Recently</td>\n",
       "    </tr>\n",
       "    <tr>\n",
       "      <th>4</th>\n",
       "      <td>Binance</td>\n",
       "      <td>DOT/BUSD</td>\n",
       "      <td>$34.55</td>\n",
       "      <td>$778,122.28</td>\n",
       "      <td>$658,418.44</td>\n",
       "      <td>$80,508,484</td>\n",
       "      <td>2.94%</td>\n",
       "      <td>High</td>\n",
       "      <td>846</td>\n",
       "      <td>Recently</td>\n",
       "    </tr>\n",
       "  </tbody>\n",
       "</table>\n",
       "</div>"
      ],
      "text/plain": [
       "              source     pairs   price   plus_2_Depth  minus_2_Depth  \\\n",
       "0            Binance  DOT/USDT  $34.55  $2,986,592.29  $1,742,932.41   \n",
       "1       Huobi Global  DOT/USDT  $34.54  $1,748,038.25  $1,308,780.93   \n",
       "2  Coinbase Exchange   DOT/USD  $34.65  $1,817,750.16  $1,501,383.80   \n",
       "3            Binance   DOT/BTC  $34.54    $482,656.15    $433,445.62   \n",
       "4            Binance  DOT/BUSD  $34.55    $778,122.28    $658,418.44   \n",
       "\n",
       "         volume volume_perc confidence liquidity   updated  \n",
       "0  $702,466,645      25.62%       High       842  Recently  \n",
       "1  $198,078,721       7.22%        Low       570  Recently  \n",
       "2  $115,483,690       4.21%       High       499  Recently  \n",
       "3  $110,191,228       4.02%       High       801  Recently  \n",
       "4   $80,508,484       2.94%       High       846  Recently  "
      ]
     },
     "execution_count": 578,
     "metadata": {},
     "output_type": "execute_result"
    }
   ],
   "source": [
    "df8 = pd.DataFrame()\n",
    "df8['source'] = source\n",
    "df8['pairs'] = pairs\n",
    "df8['price'] = price\n",
    "df8['plus_2_Depth'] = plus_2_Depth\n",
    "df8['minus_2_Depth'] = minus_2_Depth\n",
    "df8['volume'] = volume\n",
    "df8['volume_perc'] = volume_perc\n",
    "df8['confidence'] = confidence\n",
    "df8['liquidity'] = liquidity\n",
    "df8['updated'] = updated\n",
    "\n",
    "df8.head()"
   ]
  },
  {
   "cell_type": "code",
   "execution_count": 579,
   "metadata": {},
   "outputs": [],
   "source": [
    "# saving the pandas dataframe locally as csv file format\n",
    "df8.to_csv(\"Polkadot.csv\")"
   ]
  },
  {
   "cell_type": "markdown",
   "metadata": {},
   "source": [
    "### 11. USD coin"
   ]
  },
  {
   "cell_type": "code",
   "execution_count": 580,
   "metadata": {},
   "outputs": [],
   "source": [
    "# Establish chrome driver and go to report site URL\n",
    "url9 = 'https://coinmarketcap.com/currencies/usd-coin/markets/'\n",
    "driver = webdriver.Chrome()\n",
    "driver.get(url9)"
   ]
  },
  {
   "cell_type": "code",
   "execution_count": 581,
   "metadata": {},
   "outputs": [],
   "source": [
    "#Selenium hands the page source to Beautiful Soup\n",
    "soup = BeautifulSoup(driver.page_source, 'lxml')\n",
    "table = soup.find('table', {'class':'h7vnx2-2 ecUULi cmc-table'})"
   ]
  },
  {
   "cell_type": "markdown",
   "metadata": {},
   "source": [
    "#### Scraping the market table and its columns - Source, Pairs, Price, +2% Depth, -2% Depth, Volume, Volume %, Confidence, Liquidity, Updated.\n",
    "---"
   ]
  },
  {
   "cell_type": "code",
   "execution_count": 582,
   "metadata": {
    "scrolled": true
   },
   "outputs": [],
   "source": [
    "table_rows = table.find_all('tr')"
   ]
  },
  {
   "cell_type": "code",
   "execution_count": 583,
   "metadata": {},
   "outputs": [
    {
     "name": "stdout",
     "output_type": "stream",
     "text": [
      "12\n",
      "['Binance', 'Binance', 'Binance', 'Binance', 'Uniswap (V2)', 'Coinbase Exchange', 'Uniswap (V2)', 'Coinbase Exchange', 'Coinbase Exchange', 'Kraken', 'Coinbase Exchange', 'Kraken']\n"
     ]
    }
   ],
   "source": [
    "query = table.find_all('p', {'class': 'sc-1eb5slv-0 iworPT'})\n",
    "source=[]\n",
    "\n",
    "for x in query:\n",
    "    try:\n",
    "        source.append(x.text)\n",
    "    except AttributeError:\n",
    "        break    \n",
    "        \n",
    "print(len(source))\n",
    "print(source)"
   ]
  },
  {
   "cell_type": "code",
   "execution_count": 584,
   "metadata": {},
   "outputs": [
    {
     "name": "stdout",
     "output_type": "stream",
     "text": [
      "12\n",
      "['USDC/USDT', 'BTC/USDC', 'USDC/BUSD', 'ETH/USDC', 'USDC/WETH', 'USDC/EUR', 'RAD/USDC', 'BTC/USDC', 'ETH/USDC', 'USDC/USD', 'USDT/USDC', 'USDC/EUR']\n"
     ]
    }
   ],
   "source": [
    "query = table.find_all('a', {'class': 'qh9zi5-0 bGASOe cmc-link'})\n",
    "pairs=[]\n",
    "\n",
    "for x in query:\n",
    "    try:\n",
    "        pairs.append(x.text)\n",
    "    except AttributeError:\n",
    "        break    \n",
    "        \n",
    "print(len(pairs))\n",
    "print(pairs)"
   ]
  },
  {
   "cell_type": "code",
   "execution_count": 585,
   "metadata": {},
   "outputs": [
    {
     "name": "stdout",
     "output_type": "stream",
     "text": [
      "12\n",
      "['$1.00', '$1', '$1', '$1', '$0.9985', '$0.997', '$0.9999', '$1', '$1', '$1.00', '$0.9999', '$0.9987']\n"
     ]
    }
   ],
   "source": [
    "price=[]\n",
    "\n",
    "for row in table_rows[1:]:\n",
    "    try:\n",
    "        \n",
    "        price.append(row.find_all('td')[3].text)\n",
    "    except AttributeError:\n",
    "        break\n",
    "    except IndexError:\n",
    "        break\n",
    "                \n",
    "print(len(price))\n",
    "print(price)"
   ]
  },
  {
   "cell_type": "code",
   "execution_count": 586,
   "metadata": {},
   "outputs": [
    {
     "name": "stdout",
     "output_type": "stream",
     "text": [
      "12\n",
      "['$33,912,931.66', '$2,942,350.36', '$5,795,698.50', '$1,671,912.63', '-', '$1,762,362.21', '-', '$2,037,882.61', '$2,452,428.87', '$19,727,584.00', '$472,972.10', '$1,297,166.66']\n"
     ]
    }
   ],
   "source": [
    "plus_2_Depth=[]\n",
    "\n",
    "for row in table_rows[1:]:\n",
    "    try:\n",
    "        \n",
    "        plus_2_Depth.append(row.find_all('td')[4].text)\n",
    "    except AttributeError:\n",
    "        break\n",
    "    except IndexError:\n",
    "        break\n",
    "                \n",
    "print(len(plus_2_Depth))\n",
    "print(plus_2_Depth)"
   ]
  },
  {
   "cell_type": "code",
   "execution_count": 587,
   "metadata": {},
   "outputs": [
    {
     "name": "stdout",
     "output_type": "stream",
     "text": [
      "12\n",
      "['$9,654,717.91', '$1,714,302.51', '$5,151,305.43', '$1,208,167.94', '-', '$626,598.36', '-', '$1,859,489.57', '$2,750,949.15', '$3,456,481.56', '$626,999.09', '$1,031,438.70']\n"
     ]
    }
   ],
   "source": [
    "minus_2_Depth=[]\n",
    "\n",
    "for row in table_rows[1:]:\n",
    "    try:\n",
    "        \n",
    "        minus_2_Depth.append(row.find_all('td')[5].text)\n",
    "    except AttributeError:\n",
    "        break\n",
    "    except IndexError:\n",
    "        break\n",
    "                \n",
    "print(len(minus_2_Depth))\n",
    "print(minus_2_Depth)"
   ]
  },
  {
   "cell_type": "code",
   "execution_count": 588,
   "metadata": {},
   "outputs": [
    {
     "name": "stdout",
     "output_type": "stream",
     "text": [
      "12\n",
      "['$199,687,097', '$83,633,683', '$67,866,566', '$45,849,966', '$40,198,255', '$37,631,285', '$32,376,960', '$31,532,443', '$26,475,428', '$22,714,392', '$12,914,106', '$12,109,947']\n"
     ]
    }
   ],
   "source": [
    "volume=[]\n",
    "\n",
    "for row in table_rows[1:]:\n",
    "    try:\n",
    "        \n",
    "        volume.append(row.find_all('td')[6].text)\n",
    "    except AttributeError:\n",
    "        break\n",
    "    except IndexError:\n",
    "        break\n",
    "                \n",
    "print(len(volume))\n",
    "print(volume)"
   ]
  },
  {
   "cell_type": "code",
   "execution_count": 589,
   "metadata": {},
   "outputs": [
    {
     "name": "stdout",
     "output_type": "stream",
     "text": [
      "12\n",
      "['6.33%', '2.65%', '2.15%', '1.45%', '1.27%', '1.19%', '1.03%', '1.00%', '0.84%', '0.72%', '0.41%', '0.38%']\n"
     ]
    }
   ],
   "source": [
    "volume_perc=[]\n",
    "\n",
    "for row in table_rows[1:]:\n",
    "    try:\n",
    "        \n",
    "        volume_perc.append(row.find_all('td')[7].text)\n",
    "    except AttributeError:\n",
    "        break\n",
    "    except IndexError:\n",
    "        break\n",
    "                \n",
    "print(len(volume_perc))\n",
    "print(volume_perc)"
   ]
  },
  {
   "cell_type": "code",
   "execution_count": 590,
   "metadata": {},
   "outputs": [
    {
     "name": "stdout",
     "output_type": "stream",
     "text": [
      "12\n",
      "['High', 'High', 'High', 'High', 'High', 'High', 'High', 'High', 'High', 'High', 'High', 'High']\n"
     ]
    }
   ],
   "source": [
    "confidence=[]\n",
    "\n",
    "for row in table_rows[1:]:\n",
    "    try:\n",
    "        \n",
    "        confidence.append(row.find_all('td')[8].text)\n",
    "    except AttributeError:\n",
    "        break\n",
    "    except IndexError:\n",
    "        break\n",
    "                \n",
    "print(len(confidence))\n",
    "print(confidence)"
   ]
  },
  {
   "cell_type": "code",
   "execution_count": 591,
   "metadata": {},
   "outputs": [
    {
     "name": "stdout",
     "output_type": "stream",
     "text": [
      "12\n",
      "['983', '656', '984', '508', '916', '272', '-', '632', '506', '900', '845', '678']\n"
     ]
    }
   ],
   "source": [
    "liquidity=[]\n",
    "\n",
    "for row in table_rows[1:]:\n",
    "    try:\n",
    "        \n",
    "        liquidity.append(row.find_all('td')[9].text)\n",
    "    except AttributeError:\n",
    "        break\n",
    "    except IndexError:\n",
    "        break\n",
    "                \n",
    "print(len(liquidity))\n",
    "print(liquidity)"
   ]
  },
  {
   "cell_type": "code",
   "execution_count": 592,
   "metadata": {},
   "outputs": [
    {
     "name": "stdout",
     "output_type": "stream",
     "text": [
      "12\n",
      "['Recently', 'Recently', 'Recently', 'Recently', 'Recently', 'Recently', 'Recently', 'Recently', 'Recently', 'Recently', 'Recently', 'Recently']\n"
     ]
    }
   ],
   "source": [
    "updated=[]\n",
    "\n",
    "for row in table_rows[1:]:\n",
    "    try:\n",
    "        \n",
    "        updated.append(row.find_all('td')[10].text)\n",
    "    except AttributeError:\n",
    "        break\n",
    "    except IndexError:\n",
    "        break\n",
    "                \n",
    "print(len(updated))\n",
    "print(updated)"
   ]
  },
  {
   "cell_type": "markdown",
   "metadata": {},
   "source": [
    "#### Combining all our columns into pandas Dataframe and viewing it"
   ]
  },
  {
   "cell_type": "code",
   "execution_count": 593,
   "metadata": {},
   "outputs": [
    {
     "data": {
      "text/html": [
       "<div>\n",
       "<style scoped>\n",
       "    .dataframe tbody tr th:only-of-type {\n",
       "        vertical-align: middle;\n",
       "    }\n",
       "\n",
       "    .dataframe tbody tr th {\n",
       "        vertical-align: top;\n",
       "    }\n",
       "\n",
       "    .dataframe thead th {\n",
       "        text-align: right;\n",
       "    }\n",
       "</style>\n",
       "<table border=\"1\" class=\"dataframe\">\n",
       "  <thead>\n",
       "    <tr style=\"text-align: right;\">\n",
       "      <th></th>\n",
       "      <th>source</th>\n",
       "      <th>pairs</th>\n",
       "      <th>price</th>\n",
       "      <th>plus_2_Depth</th>\n",
       "      <th>minus_2_Depth</th>\n",
       "      <th>volume</th>\n",
       "      <th>volume_perc</th>\n",
       "      <th>confidence</th>\n",
       "      <th>liquidity</th>\n",
       "      <th>updated</th>\n",
       "    </tr>\n",
       "  </thead>\n",
       "  <tbody>\n",
       "    <tr>\n",
       "      <th>0</th>\n",
       "      <td>Binance</td>\n",
       "      <td>USDC/USDT</td>\n",
       "      <td>$1.00</td>\n",
       "      <td>$33,912,931.66</td>\n",
       "      <td>$9,654,717.91</td>\n",
       "      <td>$199,687,097</td>\n",
       "      <td>6.33%</td>\n",
       "      <td>High</td>\n",
       "      <td>983</td>\n",
       "      <td>Recently</td>\n",
       "    </tr>\n",
       "    <tr>\n",
       "      <th>1</th>\n",
       "      <td>Binance</td>\n",
       "      <td>BTC/USDC</td>\n",
       "      <td>$1</td>\n",
       "      <td>$2,942,350.36</td>\n",
       "      <td>$1,714,302.51</td>\n",
       "      <td>$83,633,683</td>\n",
       "      <td>2.65%</td>\n",
       "      <td>High</td>\n",
       "      <td>656</td>\n",
       "      <td>Recently</td>\n",
       "    </tr>\n",
       "    <tr>\n",
       "      <th>2</th>\n",
       "      <td>Binance</td>\n",
       "      <td>USDC/BUSD</td>\n",
       "      <td>$1</td>\n",
       "      <td>$5,795,698.50</td>\n",
       "      <td>$5,151,305.43</td>\n",
       "      <td>$67,866,566</td>\n",
       "      <td>2.15%</td>\n",
       "      <td>High</td>\n",
       "      <td>984</td>\n",
       "      <td>Recently</td>\n",
       "    </tr>\n",
       "    <tr>\n",
       "      <th>3</th>\n",
       "      <td>Binance</td>\n",
       "      <td>ETH/USDC</td>\n",
       "      <td>$1</td>\n",
       "      <td>$1,671,912.63</td>\n",
       "      <td>$1,208,167.94</td>\n",
       "      <td>$45,849,966</td>\n",
       "      <td>1.45%</td>\n",
       "      <td>High</td>\n",
       "      <td>508</td>\n",
       "      <td>Recently</td>\n",
       "    </tr>\n",
       "    <tr>\n",
       "      <th>4</th>\n",
       "      <td>Uniswap (V2)</td>\n",
       "      <td>USDC/WETH</td>\n",
       "      <td>$0.9985</td>\n",
       "      <td>-</td>\n",
       "      <td>-</td>\n",
       "      <td>$40,198,255</td>\n",
       "      <td>1.27%</td>\n",
       "      <td>High</td>\n",
       "      <td>916</td>\n",
       "      <td>Recently</td>\n",
       "    </tr>\n",
       "  </tbody>\n",
       "</table>\n",
       "</div>"
      ],
      "text/plain": [
       "         source      pairs    price    plus_2_Depth  minus_2_Depth  \\\n",
       "0       Binance  USDC/USDT    $1.00  $33,912,931.66  $9,654,717.91   \n",
       "1       Binance   BTC/USDC       $1   $2,942,350.36  $1,714,302.51   \n",
       "2       Binance  USDC/BUSD       $1   $5,795,698.50  $5,151,305.43   \n",
       "3       Binance   ETH/USDC       $1   $1,671,912.63  $1,208,167.94   \n",
       "4  Uniswap (V2)  USDC/WETH  $0.9985               -              -   \n",
       "\n",
       "         volume volume_perc confidence liquidity   updated  \n",
       "0  $199,687,097       6.33%       High       983  Recently  \n",
       "1   $83,633,683       2.65%       High       656  Recently  \n",
       "2   $67,866,566       2.15%       High       984  Recently  \n",
       "3   $45,849,966       1.45%       High       508  Recently  \n",
       "4   $40,198,255       1.27%       High       916  Recently  "
      ]
     },
     "execution_count": 593,
     "metadata": {},
     "output_type": "execute_result"
    }
   ],
   "source": [
    "df9 = pd.DataFrame()\n",
    "df9['source'] = source\n",
    "df9['pairs'] = pairs\n",
    "df9['price'] = price\n",
    "df9['plus_2_Depth'] = plus_2_Depth\n",
    "df9['minus_2_Depth'] = minus_2_Depth\n",
    "df9['volume'] = volume\n",
    "df9['volume_perc'] = volume_perc\n",
    "df9['confidence'] = confidence\n",
    "df9['liquidity'] = liquidity\n",
    "df9['updated'] = updated\n",
    "\n",
    "df9.head()"
   ]
  },
  {
   "cell_type": "code",
   "execution_count": 594,
   "metadata": {},
   "outputs": [],
   "source": [
    "# saving the pandas dataframe locally as csv file format\n",
    "df9.to_csv(\"USD_coin.csv\")"
   ]
  },
  {
   "cell_type": "markdown",
   "metadata": {},
   "source": [
    "### 12. Dogecoin"
   ]
  },
  {
   "cell_type": "code",
   "execution_count": 595,
   "metadata": {},
   "outputs": [],
   "source": [
    "# Establish chrome driver and go to report site URL\n",
    "url10 = 'https://coinmarketcap.com/currencies/dogecoin/markets/'\n",
    "driver = webdriver.Chrome()\n",
    "driver.get(url10)"
   ]
  },
  {
   "cell_type": "code",
   "execution_count": 596,
   "metadata": {},
   "outputs": [],
   "source": [
    "#Selenium hands the page source to Beautiful Soup\n",
    "soup = BeautifulSoup(driver.page_source, 'lxml')\n",
    "table = soup.find('table', {'class':'h7vnx2-2 ecUULi cmc-table'})"
   ]
  },
  {
   "cell_type": "markdown",
   "metadata": {},
   "source": [
    "#### Scraping the market table and its columns - Source, Pairs, Price, +2% Depth, -2% Depth, Volume, Volume %, Confidence, Liquidity, Updated.\n",
    "---"
   ]
  },
  {
   "cell_type": "code",
   "execution_count": 597,
   "metadata": {
    "scrolled": true
   },
   "outputs": [],
   "source": [
    "table_rows = table.find_all('tr')"
   ]
  },
  {
   "cell_type": "code",
   "execution_count": 598,
   "metadata": {},
   "outputs": [
    {
     "name": "stdout",
     "output_type": "stream",
     "text": [
      "14\n",
      "['Binance', 'Coinbase Exchange', 'Huobi Global', 'FTX', 'FTX', 'Binance', 'Gate.io', 'Bithumb', 'Binance', 'Binance', 'Binance.US', 'FTX US', 'KuCoin', 'FTX US']\n"
     ]
    }
   ],
   "source": [
    "query = table.find_all('p', {'class': 'sc-1eb5slv-0 iworPT'})\n",
    "source=[]\n",
    "\n",
    "for x in query:\n",
    "    try:\n",
    "        source.append(x.text)\n",
    "    except AttributeError:\n",
    "        break    \n",
    "        \n",
    "print(len(source))\n",
    "print(source)"
   ]
  },
  {
   "cell_type": "code",
   "execution_count": 599,
   "metadata": {},
   "outputs": [
    {
     "name": "stdout",
     "output_type": "stream",
     "text": [
      "14\n",
      "['DOGE/USDT', 'DOGE/USD', 'DOGE/USDT', 'DOGE/USD', 'DOGE/USDT', 'DOGE/BUSD', 'DOGE/USDT', 'DOGE/KRW', 'DOGE/BTC', 'DOGE/TRY', 'DOGE/USD', 'DOGE/USDT', 'DOGE/USDT', 'DOGE/USD']\n"
     ]
    }
   ],
   "source": [
    "query = table.find_all('a', {'class': 'qh9zi5-0 bGASOe cmc-link'})\n",
    "pairs=[]\n",
    "\n",
    "for x in query:\n",
    "    try:\n",
    "        pairs.append(x.text)\n",
    "    except AttributeError:\n",
    "        break    \n",
    "        \n",
    "print(len(pairs))\n",
    "print(pairs)"
   ]
  },
  {
   "cell_type": "code",
   "execution_count": 600,
   "metadata": {},
   "outputs": [
    {
     "name": "stdout",
     "output_type": "stream",
     "text": [
      "14\n",
      "['$0.2456', '$0.2463', '$0.2455', '$0.2456', '$0.2456', '$0.2454', '$0.2456', '$0.2502', '$0.2456', '$0.2447', '$0.2455', '$0.2455', '$0.2456', '$0.2463']\n"
     ]
    }
   ],
   "source": [
    "price=[]\n",
    "\n",
    "for row in table_rows[1:]:\n",
    "    try:\n",
    "        \n",
    "        price.append(row.find_all('td')[3].text)\n",
    "    except AttributeError:\n",
    "        break\n",
    "    except IndexError:\n",
    "        break\n",
    "                \n",
    "print(len(price))\n",
    "print(price)"
   ]
  },
  {
   "cell_type": "code",
   "execution_count": 601,
   "metadata": {},
   "outputs": [
    {
     "name": "stdout",
     "output_type": "stream",
     "text": [
      "14\n",
      "['$1,913,468.59', '$2,289,991.98', '$1,224,932.85', '$954,586.22', '$1,021,126.66', '$551,011.43', '$449,969.76', '$651,812.58', '$1,068,886.67', '$332,853.73', '$845,636.99', '$592,461.83', '$1,597,687.55', '$724,517.13']\n"
     ]
    }
   ],
   "source": [
    "plus_2_Depth=[]\n",
    "\n",
    "for row in table_rows[1:]:\n",
    "    try:\n",
    "        \n",
    "        plus_2_Depth.append(row.find_all('td')[4].text)\n",
    "    except AttributeError:\n",
    "        break\n",
    "    except IndexError:\n",
    "        break\n",
    "                \n",
    "print(len(plus_2_Depth))\n",
    "print(plus_2_Depth)"
   ]
  },
  {
   "cell_type": "code",
   "execution_count": 602,
   "metadata": {},
   "outputs": [
    {
     "name": "stdout",
     "output_type": "stream",
     "text": [
      "14\n",
      "['$1,884,035.24', '$1,786,695.88', '$4,596,030.53', '$1,116,945.83', '$1,082,091.53', '$494,077.38', '$949,450.38', '$267,605.91', '$1,111,285.46', '$246,669.22', '$588,957.62', '$706,021.42', '$715,083.74', '$646,970.10']\n"
     ]
    }
   ],
   "source": [
    "minus_2_Depth=[]\n",
    "\n",
    "for row in table_rows[1:]:\n",
    "    try:\n",
    "        \n",
    "        minus_2_Depth.append(row.find_all('td')[5].text)\n",
    "    except AttributeError:\n",
    "        break\n",
    "    except IndexError:\n",
    "        break\n",
    "                \n",
    "print(len(minus_2_Depth))\n",
    "print(minus_2_Depth)"
   ]
  },
  {
   "cell_type": "code",
   "execution_count": 603,
   "metadata": {},
   "outputs": [
    {
     "name": "stdout",
     "output_type": "stream",
     "text": [
      "14\n",
      "['$560,586,223', '$157,204,018', '$154,349,511', '$134,298,576', '$84,954,101', '$75,372,131', '$74,969,412', '$63,245,266', '$61,186,766', '$60,463,327', '$49,838,597', '$43,482,780', '$42,808,458', '$40,764,520']\n"
     ]
    }
   ],
   "source": [
    "volume=[]\n",
    "\n",
    "for row in table_rows[1:]:\n",
    "    try:\n",
    "        \n",
    "        volume.append(row.find_all('td')[6].text)\n",
    "    except AttributeError:\n",
    "        break\n",
    "    except IndexError:\n",
    "        break\n",
    "                \n",
    "print(len(volume))\n",
    "print(volume)"
   ]
  },
  {
   "cell_type": "code",
   "execution_count": 604,
   "metadata": {},
   "outputs": [
    {
     "name": "stdout",
     "output_type": "stream",
     "text": [
      "14\n",
      "['17.74%', '4.97%', '4.88%', '4.25%', '2.69%', '2.38%', '2.37%', '2.00%', '1.94%', '1.91%', '1.58%', '1.38%', '1.35%', '1.29%']\n"
     ]
    }
   ],
   "source": [
    "volume_perc=[]\n",
    "\n",
    "for row in table_rows[1:]:\n",
    "    try:\n",
    "        \n",
    "        volume_perc.append(row.find_all('td')[7].text)\n",
    "    except AttributeError:\n",
    "        break\n",
    "    except IndexError:\n",
    "        break\n",
    "                \n",
    "print(len(volume_perc))\n",
    "print(volume_perc)"
   ]
  },
  {
   "cell_type": "code",
   "execution_count": 605,
   "metadata": {},
   "outputs": [
    {
     "name": "stdout",
     "output_type": "stream",
     "text": [
      "14\n",
      "['High', 'High', 'Low', 'Moderate', 'Moderate', 'High', 'High', 'High', 'High', 'High', 'High', 'Low', 'High', 'Moderate']\n"
     ]
    }
   ],
   "source": [
    "confidence=[]\n",
    "\n",
    "for row in table_rows[1:]:\n",
    "    try:\n",
    "        \n",
    "        confidence.append(row.find_all('td')[8].text)\n",
    "    except AttributeError:\n",
    "        break\n",
    "    except IndexError:\n",
    "        break\n",
    "                \n",
    "print(len(confidence))\n",
    "print(confidence)"
   ]
  },
  {
   "cell_type": "code",
   "execution_count": 606,
   "metadata": {},
   "outputs": [
    {
     "name": "stdout",
     "output_type": "stream",
     "text": [
      "14\n",
      "['668', '378', '465', '533', '392', '651', '447', '258', '561', '807', '838', '267', '445', '261']\n"
     ]
    }
   ],
   "source": [
    "liquidity=[]\n",
    "\n",
    "for row in table_rows[1:]:\n",
    "    try:\n",
    "        \n",
    "        liquidity.append(row.find_all('td')[9].text)\n",
    "    except AttributeError:\n",
    "        break\n",
    "    except IndexError:\n",
    "        break\n",
    "                \n",
    "print(len(liquidity))\n",
    "print(liquidity)"
   ]
  },
  {
   "cell_type": "code",
   "execution_count": 607,
   "metadata": {},
   "outputs": [
    {
     "name": "stdout",
     "output_type": "stream",
     "text": [
      "14\n",
      "['Recently', 'Recently', 'Recently', 'Recently', 'Recently', 'Recently', 'Recently', 'Recently', 'Recently', 'Recently', 'Recently', 'Recently', 'Recently', 'Recently']\n"
     ]
    }
   ],
   "source": [
    "updated=[]\n",
    "\n",
    "for row in table_rows[1:]:\n",
    "    try:\n",
    "        \n",
    "        updated.append(row.find_all('td')[10].text)\n",
    "    except AttributeError:\n",
    "        break\n",
    "    except IndexError:\n",
    "        break\n",
    "                \n",
    "print(len(updated))\n",
    "print(updated)"
   ]
  },
  {
   "cell_type": "markdown",
   "metadata": {},
   "source": [
    "#### Combining all our columns into pandas Dataframe and viewing it"
   ]
  },
  {
   "cell_type": "code",
   "execution_count": 608,
   "metadata": {},
   "outputs": [
    {
     "data": {
      "text/html": [
       "<div>\n",
       "<style scoped>\n",
       "    .dataframe tbody tr th:only-of-type {\n",
       "        vertical-align: middle;\n",
       "    }\n",
       "\n",
       "    .dataframe tbody tr th {\n",
       "        vertical-align: top;\n",
       "    }\n",
       "\n",
       "    .dataframe thead th {\n",
       "        text-align: right;\n",
       "    }\n",
       "</style>\n",
       "<table border=\"1\" class=\"dataframe\">\n",
       "  <thead>\n",
       "    <tr style=\"text-align: right;\">\n",
       "      <th></th>\n",
       "      <th>source</th>\n",
       "      <th>pairs</th>\n",
       "      <th>price</th>\n",
       "      <th>plus_2_Depth</th>\n",
       "      <th>minus_2_Depth</th>\n",
       "      <th>volume</th>\n",
       "      <th>volume_perc</th>\n",
       "      <th>confidence</th>\n",
       "      <th>liquidity</th>\n",
       "      <th>updated</th>\n",
       "    </tr>\n",
       "  </thead>\n",
       "  <tbody>\n",
       "    <tr>\n",
       "      <th>0</th>\n",
       "      <td>Binance</td>\n",
       "      <td>DOGE/USDT</td>\n",
       "      <td>$0.2456</td>\n",
       "      <td>$1,913,468.59</td>\n",
       "      <td>$1,884,035.24</td>\n",
       "      <td>$560,586,223</td>\n",
       "      <td>17.74%</td>\n",
       "      <td>High</td>\n",
       "      <td>668</td>\n",
       "      <td>Recently</td>\n",
       "    </tr>\n",
       "    <tr>\n",
       "      <th>1</th>\n",
       "      <td>Coinbase Exchange</td>\n",
       "      <td>DOGE/USD</td>\n",
       "      <td>$0.2463</td>\n",
       "      <td>$2,289,991.98</td>\n",
       "      <td>$1,786,695.88</td>\n",
       "      <td>$157,204,018</td>\n",
       "      <td>4.97%</td>\n",
       "      <td>High</td>\n",
       "      <td>378</td>\n",
       "      <td>Recently</td>\n",
       "    </tr>\n",
       "    <tr>\n",
       "      <th>2</th>\n",
       "      <td>Huobi Global</td>\n",
       "      <td>DOGE/USDT</td>\n",
       "      <td>$0.2455</td>\n",
       "      <td>$1,224,932.85</td>\n",
       "      <td>$4,596,030.53</td>\n",
       "      <td>$154,349,511</td>\n",
       "      <td>4.88%</td>\n",
       "      <td>Low</td>\n",
       "      <td>465</td>\n",
       "      <td>Recently</td>\n",
       "    </tr>\n",
       "    <tr>\n",
       "      <th>3</th>\n",
       "      <td>FTX</td>\n",
       "      <td>DOGE/USD</td>\n",
       "      <td>$0.2456</td>\n",
       "      <td>$954,586.22</td>\n",
       "      <td>$1,116,945.83</td>\n",
       "      <td>$134,298,576</td>\n",
       "      <td>4.25%</td>\n",
       "      <td>Moderate</td>\n",
       "      <td>533</td>\n",
       "      <td>Recently</td>\n",
       "    </tr>\n",
       "    <tr>\n",
       "      <th>4</th>\n",
       "      <td>FTX</td>\n",
       "      <td>DOGE/USDT</td>\n",
       "      <td>$0.2456</td>\n",
       "      <td>$1,021,126.66</td>\n",
       "      <td>$1,082,091.53</td>\n",
       "      <td>$84,954,101</td>\n",
       "      <td>2.69%</td>\n",
       "      <td>Moderate</td>\n",
       "      <td>392</td>\n",
       "      <td>Recently</td>\n",
       "    </tr>\n",
       "  </tbody>\n",
       "</table>\n",
       "</div>"
      ],
      "text/plain": [
       "              source      pairs    price   plus_2_Depth  minus_2_Depth  \\\n",
       "0            Binance  DOGE/USDT  $0.2456  $1,913,468.59  $1,884,035.24   \n",
       "1  Coinbase Exchange   DOGE/USD  $0.2463  $2,289,991.98  $1,786,695.88   \n",
       "2       Huobi Global  DOGE/USDT  $0.2455  $1,224,932.85  $4,596,030.53   \n",
       "3                FTX   DOGE/USD  $0.2456    $954,586.22  $1,116,945.83   \n",
       "4                FTX  DOGE/USDT  $0.2456  $1,021,126.66  $1,082,091.53   \n",
       "\n",
       "         volume volume_perc confidence liquidity   updated  \n",
       "0  $560,586,223      17.74%       High       668  Recently  \n",
       "1  $157,204,018       4.97%       High       378  Recently  \n",
       "2  $154,349,511       4.88%        Low       465  Recently  \n",
       "3  $134,298,576       4.25%   Moderate       533  Recently  \n",
       "4   $84,954,101       2.69%   Moderate       392  Recently  "
      ]
     },
     "execution_count": 608,
     "metadata": {},
     "output_type": "execute_result"
    }
   ],
   "source": [
    "df10 = pd.DataFrame()\n",
    "df10['source'] = source\n",
    "df10['pairs'] = pairs\n",
    "df10['price'] = price\n",
    "df10['plus_2_Depth'] = plus_2_Depth\n",
    "df10['minus_2_Depth'] = minus_2_Depth\n",
    "df10['volume'] = volume\n",
    "df10['volume_perc'] = volume_perc\n",
    "df10['confidence'] = confidence\n",
    "df10['liquidity'] = liquidity\n",
    "df10['updated'] = updated\n",
    "\n",
    "df10.head()"
   ]
  },
  {
   "cell_type": "code",
   "execution_count": 609,
   "metadata": {},
   "outputs": [],
   "source": [
    "# saving the pandas dataframe locally as csv file format\n",
    "df10.to_csv(\"Dogecoin.csv\")"
   ]
  },
  {
   "cell_type": "markdown",
   "metadata": {},
   "source": [
    "### 13. Terra"
   ]
  },
  {
   "cell_type": "code",
   "execution_count": 610,
   "metadata": {},
   "outputs": [],
   "source": [
    "# Establish chrome driver and go to report site URL\n",
    "url11 = 'https://coinmarketcap.com/currencies/terra-luna/markets/'\n",
    "driver = webdriver.Chrome()\n",
    "driver.get(url11)"
   ]
  },
  {
   "cell_type": "code",
   "execution_count": 611,
   "metadata": {},
   "outputs": [],
   "source": [
    "#Selenium hands the page source to Beautiful Soup\n",
    "soup = BeautifulSoup(driver.page_source, 'lxml')\n",
    "table = soup.find('table', {'class':'h7vnx2-2 ecUULi cmc-table'})"
   ]
  },
  {
   "cell_type": "markdown",
   "metadata": {},
   "source": [
    "#### Scraping the market table and its columns - Source, Pairs, Price, +2% Depth, -2% Depth, Volume, Volume %, Confidence, Liquidity, Updated.\n",
    "---"
   ]
  },
  {
   "cell_type": "code",
   "execution_count": 612,
   "metadata": {
    "scrolled": true
   },
   "outputs": [],
   "source": [
    "table_rows = table.find_all('tr')"
   ]
  },
  {
   "cell_type": "code",
   "execution_count": 613,
   "metadata": {},
   "outputs": [
    {
     "name": "stdout",
     "output_type": "stream",
     "text": [
      "12\n",
      "['Binance', 'KuCoin', 'Huobi Global', 'Gate.io', 'Binance', 'Binance', 'Bitfinex', 'Bitfinex', 'Huobi Global', 'Binance', 'KuCoin', 'Huobi Global']\n"
     ]
    }
   ],
   "source": [
    "query = table.find_all('p', {'class': 'sc-1eb5slv-0 iworPT'})\n",
    "source=[]\n",
    "\n",
    "for x in query:\n",
    "    try:\n",
    "        source.append(x.text)\n",
    "    except AttributeError:\n",
    "        break    \n",
    "        \n",
    "print(len(source))\n",
    "print(source)"
   ]
  },
  {
   "cell_type": "code",
   "execution_count": 614,
   "metadata": {},
   "outputs": [
    {
     "name": "stdout",
     "output_type": "stream",
     "text": [
      "12\n",
      "['LUNA/USDT', 'LUNA/USDT', 'LUNA/USDT', 'LUNA/USDT', 'LUNA/BUSD', 'LUNA/BTC', 'LUNA/USD', 'LUNA/UST', 'LUNA/BTC', 'LUNA/EUR', 'LUNA/BTC', 'LUNA/HT']\n"
     ]
    }
   ],
   "source": [
    "query = table.find_all('a', {'class': 'qh9zi5-0 bGASOe cmc-link'})\n",
    "pairs=[]\n",
    "\n",
    "for x in query:\n",
    "    try:\n",
    "        pairs.append(x.text)\n",
    "    except AttributeError:\n",
    "        break    \n",
    "        \n",
    "print(len(pairs))\n",
    "print(pairs)"
   ]
  },
  {
   "cell_type": "code",
   "execution_count": 615,
   "metadata": {},
   "outputs": [
    {
     "name": "stdout",
     "output_type": "stream",
     "text": [
      "12\n",
      "['$46.26', '$46.24', '$46.25', '$46.27', '$46.20', '$46.22', '$46.26', '$46.35', '$46.24', '$45.86', '$46.23', '$46.33']\n"
     ]
    }
   ],
   "source": [
    "price=[]\n",
    "\n",
    "for row in table_rows[1:]:\n",
    "    try:\n",
    "        \n",
    "        price.append(row.find_all('td')[3].text)\n",
    "    except AttributeError:\n",
    "        break\n",
    "    except IndexError:\n",
    "        break\n",
    "                \n",
    "print(len(price))\n",
    "print(price)"
   ]
  },
  {
   "cell_type": "code",
   "execution_count": 616,
   "metadata": {},
   "outputs": [
    {
     "name": "stdout",
     "output_type": "stream",
     "text": [
      "12\n",
      "['$604,542.55', '$5,508,119.93', '$640,603.25', '$534,351.91', '$644,058.83', '$242,013.27', '-', '-', '$670,932.63', '$179,773.41', '$1,433,665.29', '$52,478.76']\n"
     ]
    }
   ],
   "source": [
    "plus_2_Depth=[]\n",
    "\n",
    "for row in table_rows[1:]:\n",
    "    try:\n",
    "        \n",
    "        plus_2_Depth.append(row.find_all('td')[4].text)\n",
    "    except AttributeError:\n",
    "        break\n",
    "    except IndexError:\n",
    "        break\n",
    "                \n",
    "print(len(plus_2_Depth))\n",
    "print(plus_2_Depth)"
   ]
  },
  {
   "cell_type": "code",
   "execution_count": 617,
   "metadata": {},
   "outputs": [
    {
     "name": "stdout",
     "output_type": "stream",
     "text": [
      "12\n",
      "['$1,889,212.59', '$3,814,136.74', '$223,228.23', '$539,761.69', '$735,722.77', '$791,815.39', '-', '-', '$177,695.93', '$268,775.50', '$246,964.65', '$65,332.87']\n"
     ]
    }
   ],
   "source": [
    "minus_2_Depth=[]\n",
    "\n",
    "for row in table_rows[1:]:\n",
    "    try:\n",
    "        \n",
    "        minus_2_Depth.append(row.find_all('td')[5].text)\n",
    "    except AttributeError:\n",
    "        break\n",
    "    except IndexError:\n",
    "        break\n",
    "                \n",
    "print(len(minus_2_Depth))\n",
    "print(minus_2_Depth)"
   ]
  },
  {
   "cell_type": "code",
   "execution_count": 618,
   "metadata": {},
   "outputs": [
    {
     "name": "stdout",
     "output_type": "stream",
     "text": [
      "12\n",
      "['$315,005,397', '$185,509,851', '$123,286,888', '$82,963,581', '$82,286,437', '$73,918,640', '$72,943,834', '$45,770,442', '$38,667,129', '$24,774,138', '$24,202,292', '$22,378,299']\n"
     ]
    }
   ],
   "source": [
    "volume=[]\n",
    "\n",
    "for row in table_rows[1:]:\n",
    "    try:\n",
    "        \n",
    "        volume.append(row.find_all('td')[6].text)\n",
    "    except AttributeError:\n",
    "        break\n",
    "    except IndexError:\n",
    "        break\n",
    "                \n",
    "print(len(volume))\n",
    "print(volume)"
   ]
  },
  {
   "cell_type": "code",
   "execution_count": 619,
   "metadata": {},
   "outputs": [
    {
     "name": "stdout",
     "output_type": "stream",
     "text": [
      "12\n",
      "['19.26%', '11.34%', '7.54%', '5.07%', '5.03%', '4.52%', '4.46%', '2.80%', '2.36%', '1.51%', '1.48%', '1.37%']\n"
     ]
    }
   ],
   "source": [
    "volume_perc=[]\n",
    "\n",
    "for row in table_rows[1:]:\n",
    "    try:\n",
    "        \n",
    "        volume_perc.append(row.find_all('td')[7].text)\n",
    "    except AttributeError:\n",
    "        break\n",
    "    except IndexError:\n",
    "        break\n",
    "                \n",
    "print(len(volume_perc))\n",
    "print(volume_perc)"
   ]
  },
  {
   "cell_type": "code",
   "execution_count": 620,
   "metadata": {},
   "outputs": [
    {
     "name": "stdout",
     "output_type": "stream",
     "text": [
      "12\n",
      "['High', 'Moderate', 'Low', 'Moderate', 'High', 'High', 'N/A', 'N/A', 'Low', 'High', 'High', 'Low']\n"
     ]
    }
   ],
   "source": [
    "confidence=[]\n",
    "\n",
    "for row in table_rows[1:]:\n",
    "    try:\n",
    "        \n",
    "        confidence.append(row.find_all('td')[8].text)\n",
    "    except AttributeError:\n",
    "        break\n",
    "    except IndexError:\n",
    "        break\n",
    "                \n",
    "print(len(confidence))\n",
    "print(confidence)"
   ]
  },
  {
   "cell_type": "code",
   "execution_count": 621,
   "metadata": {},
   "outputs": [
    {
     "name": "stdout",
     "output_type": "stream",
     "text": [
      "12\n",
      "['715', '401', '331', '291', '610', '948', '-', '-', '309', '655', '235', '176']\n"
     ]
    }
   ],
   "source": [
    "liquidity=[]\n",
    "\n",
    "for row in table_rows[1:]:\n",
    "    try:\n",
    "        \n",
    "        liquidity.append(row.find_all('td')[9].text)\n",
    "    except AttributeError:\n",
    "        break\n",
    "    except IndexError:\n",
    "        break\n",
    "                \n",
    "print(len(liquidity))\n",
    "print(liquidity)"
   ]
  },
  {
   "cell_type": "code",
   "execution_count": 622,
   "metadata": {},
   "outputs": [
    {
     "name": "stdout",
     "output_type": "stream",
     "text": [
      "12\n",
      "['Recently', 'Recently', 'Recently', 'Recently', 'Recently', 'Recently', 'Recently', 'Recently', 'Recently', 'Recently', 'Recently', 'Recently']\n"
     ]
    }
   ],
   "source": [
    "updated=[]\n",
    "\n",
    "for row in table_rows[1:]:\n",
    "    try:\n",
    "        \n",
    "        updated.append(row.find_all('td')[10].text)\n",
    "    except AttributeError:\n",
    "        break\n",
    "    except IndexError:\n",
    "        break\n",
    "                \n",
    "print(len(updated))\n",
    "print(updated)"
   ]
  },
  {
   "cell_type": "markdown",
   "metadata": {},
   "source": [
    "#### Combining all our columns into pandas Dataframe and viewing it"
   ]
  },
  {
   "cell_type": "code",
   "execution_count": 623,
   "metadata": {},
   "outputs": [
    {
     "data": {
      "text/html": [
       "<div>\n",
       "<style scoped>\n",
       "    .dataframe tbody tr th:only-of-type {\n",
       "        vertical-align: middle;\n",
       "    }\n",
       "\n",
       "    .dataframe tbody tr th {\n",
       "        vertical-align: top;\n",
       "    }\n",
       "\n",
       "    .dataframe thead th {\n",
       "        text-align: right;\n",
       "    }\n",
       "</style>\n",
       "<table border=\"1\" class=\"dataframe\">\n",
       "  <thead>\n",
       "    <tr style=\"text-align: right;\">\n",
       "      <th></th>\n",
       "      <th>source</th>\n",
       "      <th>pairs</th>\n",
       "      <th>price</th>\n",
       "      <th>plus_2_Depth</th>\n",
       "      <th>minus_2_Depth</th>\n",
       "      <th>volume</th>\n",
       "      <th>volume_perc</th>\n",
       "      <th>confidence</th>\n",
       "      <th>liquidity</th>\n",
       "      <th>updated</th>\n",
       "    </tr>\n",
       "  </thead>\n",
       "  <tbody>\n",
       "    <tr>\n",
       "      <th>0</th>\n",
       "      <td>Binance</td>\n",
       "      <td>LUNA/USDT</td>\n",
       "      <td>$46.26</td>\n",
       "      <td>$604,542.55</td>\n",
       "      <td>$1,889,212.59</td>\n",
       "      <td>$315,005,397</td>\n",
       "      <td>19.26%</td>\n",
       "      <td>High</td>\n",
       "      <td>715</td>\n",
       "      <td>Recently</td>\n",
       "    </tr>\n",
       "    <tr>\n",
       "      <th>1</th>\n",
       "      <td>KuCoin</td>\n",
       "      <td>LUNA/USDT</td>\n",
       "      <td>$46.24</td>\n",
       "      <td>$5,508,119.93</td>\n",
       "      <td>$3,814,136.74</td>\n",
       "      <td>$185,509,851</td>\n",
       "      <td>11.34%</td>\n",
       "      <td>Moderate</td>\n",
       "      <td>401</td>\n",
       "      <td>Recently</td>\n",
       "    </tr>\n",
       "    <tr>\n",
       "      <th>2</th>\n",
       "      <td>Huobi Global</td>\n",
       "      <td>LUNA/USDT</td>\n",
       "      <td>$46.25</td>\n",
       "      <td>$640,603.25</td>\n",
       "      <td>$223,228.23</td>\n",
       "      <td>$123,286,888</td>\n",
       "      <td>7.54%</td>\n",
       "      <td>Low</td>\n",
       "      <td>331</td>\n",
       "      <td>Recently</td>\n",
       "    </tr>\n",
       "    <tr>\n",
       "      <th>3</th>\n",
       "      <td>Gate.io</td>\n",
       "      <td>LUNA/USDT</td>\n",
       "      <td>$46.27</td>\n",
       "      <td>$534,351.91</td>\n",
       "      <td>$539,761.69</td>\n",
       "      <td>$82,963,581</td>\n",
       "      <td>5.07%</td>\n",
       "      <td>Moderate</td>\n",
       "      <td>291</td>\n",
       "      <td>Recently</td>\n",
       "    </tr>\n",
       "    <tr>\n",
       "      <th>4</th>\n",
       "      <td>Binance</td>\n",
       "      <td>LUNA/BUSD</td>\n",
       "      <td>$46.20</td>\n",
       "      <td>$644,058.83</td>\n",
       "      <td>$735,722.77</td>\n",
       "      <td>$82,286,437</td>\n",
       "      <td>5.03%</td>\n",
       "      <td>High</td>\n",
       "      <td>610</td>\n",
       "      <td>Recently</td>\n",
       "    </tr>\n",
       "  </tbody>\n",
       "</table>\n",
       "</div>"
      ],
      "text/plain": [
       "         source      pairs   price   plus_2_Depth  minus_2_Depth  \\\n",
       "0       Binance  LUNA/USDT  $46.26    $604,542.55  $1,889,212.59   \n",
       "1        KuCoin  LUNA/USDT  $46.24  $5,508,119.93  $3,814,136.74   \n",
       "2  Huobi Global  LUNA/USDT  $46.25    $640,603.25    $223,228.23   \n",
       "3       Gate.io  LUNA/USDT  $46.27    $534,351.91    $539,761.69   \n",
       "4       Binance  LUNA/BUSD  $46.20    $644,058.83    $735,722.77   \n",
       "\n",
       "         volume volume_perc confidence liquidity   updated  \n",
       "0  $315,005,397      19.26%       High       715  Recently  \n",
       "1  $185,509,851      11.34%   Moderate       401  Recently  \n",
       "2  $123,286,888       7.54%        Low       331  Recently  \n",
       "3   $82,963,581       5.07%   Moderate       291  Recently  \n",
       "4   $82,286,437       5.03%       High       610  Recently  "
      ]
     },
     "execution_count": 623,
     "metadata": {},
     "output_type": "execute_result"
    }
   ],
   "source": [
    "df11 = pd.DataFrame()\n",
    "df11['source'] = source\n",
    "df11['pairs'] = pairs\n",
    "df11['price'] = price\n",
    "df11['plus_2_Depth'] = plus_2_Depth\n",
    "df11['minus_2_Depth'] = minus_2_Depth\n",
    "df11['volume'] = volume\n",
    "df11['volume_perc'] = volume_perc\n",
    "df11['confidence'] = confidence\n",
    "df11['liquidity'] = liquidity\n",
    "df11['updated'] = updated\n",
    "\n",
    "df11.head()"
   ]
  },
  {
   "cell_type": "code",
   "execution_count": 624,
   "metadata": {},
   "outputs": [],
   "source": [
    "# saving the pandas dataframe locally as csv file format\n",
    "df11.to_csv(\"Terra.csv\")"
   ]
  },
  {
   "cell_type": "markdown",
   "metadata": {},
   "source": [
    "### 14. Uniswap "
   ]
  },
  {
   "cell_type": "code",
   "execution_count": 625,
   "metadata": {},
   "outputs": [],
   "source": [
    "# Establish chrome driver and go to report site URL\n",
    "url12 = 'https://coinmarketcap.com/currencies/uniswap/markets/'\n",
    "driver = webdriver.Chrome()\n",
    "driver.get(url12)"
   ]
  },
  {
   "cell_type": "code",
   "execution_count": 626,
   "metadata": {},
   "outputs": [],
   "source": [
    "#Selenium hands the page source to Beautiful Soup\n",
    "soup = BeautifulSoup(driver.page_source, 'lxml')\n",
    "table = soup.find('table', {'class':'h7vnx2-2 ecUULi cmc-table'})"
   ]
  },
  {
   "cell_type": "markdown",
   "metadata": {},
   "source": [
    "#### Scraping the market table and its columns - Source, Pairs, Price, +2% Depth, -2% Depth, Volume, Volume %, Confidence, Liquidity, Updated.\n",
    "---"
   ]
  },
  {
   "cell_type": "code",
   "execution_count": 627,
   "metadata": {
    "scrolled": true
   },
   "outputs": [],
   "source": [
    "table_rows = table.find_all('tr')"
   ]
  },
  {
   "cell_type": "code",
   "execution_count": 628,
   "metadata": {},
   "outputs": [
    {
     "name": "stdout",
     "output_type": "stream",
     "text": [
      "15\n",
      "['Binance', 'Huobi Global', 'Bithumb', 'Coinbase Exchange', 'Binance', 'Gate.io', 'FTX', 'Binance', 'Binance.US', 'Coinbase Exchange', 'KuCoin', 'Binance.US', 'Binance', 'Bitfinex', 'FTX']\n"
     ]
    }
   ],
   "source": [
    "query = table.find_all('p', {'class': 'sc-1eb5slv-0 iworPT'})\n",
    "source=[]\n",
    "\n",
    "for x in query:\n",
    "    try:\n",
    "        source.append(x.text)\n",
    "    except AttributeError:\n",
    "        break    \n",
    "        \n",
    "print(len(source))\n",
    "print(source)"
   ]
  },
  {
   "cell_type": "code",
   "execution_count": 629,
   "metadata": {},
   "outputs": [
    {
     "name": "stdout",
     "output_type": "stream",
     "text": [
      "15\n",
      "['UNI/USDT', 'UNI/USDT', 'UNI/KRW', 'UNI/USD', 'UNI/BTC', 'UNI/USDT', 'UNI/USD', 'UNI/BUSD', 'UNI/USD', 'UNI/BTC', 'UNI/USDT', 'UNI/USDT', 'UNI/BNB', 'UNI/USD', 'UNI/USDT']\n"
     ]
    }
   ],
   "source": [
    "query = table.find_all('a', {'class': 'qh9zi5-0 bGASOe cmc-link'})\n",
    "pairs=[]\n",
    "\n",
    "for x in query:\n",
    "    try:\n",
    "        pairs.append(x.text)\n",
    "    except AttributeError:\n",
    "        break    \n",
    "        \n",
    "print(len(pairs))\n",
    "print(pairs)"
   ]
  },
  {
   "cell_type": "code",
   "execution_count": 630,
   "metadata": {},
   "outputs": [
    {
     "name": "stdout",
     "output_type": "stream",
     "text": [
      "15\n",
      "['$25.88', '$25.87', '$26.35', '$25.87', '$25.84', '$25.87', '$25.88', '$25.88', '$25.85', '$25.97', '$25.88', '$25.90', '$25.86', '$25.88', '$25.86']\n"
     ]
    }
   ],
   "source": [
    "price=[]\n",
    "\n",
    "for row in table_rows[1:]:\n",
    "    try:\n",
    "        \n",
    "        price.append(row.find_all('td')[3].text)\n",
    "    except AttributeError:\n",
    "        break\n",
    "    except IndexError:\n",
    "        break\n",
    "                \n",
    "print(len(price))\n",
    "print(price)"
   ]
  },
  {
   "cell_type": "code",
   "execution_count": 631,
   "metadata": {},
   "outputs": [
    {
     "name": "stdout",
     "output_type": "stream",
     "text": [
      "15\n",
      "['$676,540.92', '$848,344.74', '$360,643.01', '$913,625.88', '$237,704.48', '$660,419.53', '$539,174.03', '$291,136.88', '$581,136.01', '$411,266.06', '$578,355.09', '$305,145.97', '$60,953.57', '$983,980.77', '$289,902.75']\n"
     ]
    }
   ],
   "source": [
    "plus_2_Depth=[]\n",
    "\n",
    "for row in table_rows[1:]:\n",
    "    try:\n",
    "        \n",
    "        plus_2_Depth.append(row.find_all('td')[4].text)\n",
    "    except AttributeError:\n",
    "        break\n",
    "    except IndexError:\n",
    "        break\n",
    "                \n",
    "print(len(plus_2_Depth))\n",
    "print(plus_2_Depth)"
   ]
  },
  {
   "cell_type": "code",
   "execution_count": 632,
   "metadata": {},
   "outputs": [
    {
     "name": "stdout",
     "output_type": "stream",
     "text": [
      "15\n",
      "['$671,765.87', '$560,771.24', '$482,910.85', '$952,303.09', '$320,747.58', '$712,600.59', '$363,288.84', '$256,184.77', '$318,766.45', '$490,909.76', '$783,733.80', '$277,447.93', '$125,270.07', '$1,777,044.50', '$308,554.33']\n"
     ]
    }
   ],
   "source": [
    "minus_2_Depth=[]\n",
    "\n",
    "for row in table_rows[1:]:\n",
    "    try:\n",
    "        \n",
    "        minus_2_Depth.append(row.find_all('td')[5].text)\n",
    "    except AttributeError:\n",
    "        break\n",
    "    except IndexError:\n",
    "        break\n",
    "                \n",
    "print(len(minus_2_Depth))\n",
    "print(minus_2_Depth)"
   ]
  },
  {
   "cell_type": "code",
   "execution_count": 633,
   "metadata": {},
   "outputs": [
    {
     "name": "stdout",
     "output_type": "stream",
     "text": [
      "15\n",
      "['$55,958,492', '$39,918,228', '$28,945,241', '$25,626,005', '$9,598,097', '$8,859,676', '$6,313,650', '$5,981,045', '$5,310,596', '$4,787,840', '$2,982,362', '$2,965,757', '$2,924,310', '$2,860,395', '$2,770,184']\n"
     ]
    }
   ],
   "source": [
    "volume=[]\n",
    "\n",
    "for row in table_rows[1:]:\n",
    "    try:\n",
    "        \n",
    "        volume.append(row.find_all('td')[6].text)\n",
    "    except AttributeError:\n",
    "        break\n",
    "    except IndexError:\n",
    "        break\n",
    "                \n",
    "print(len(volume))\n",
    "print(volume)"
   ]
  },
  {
   "cell_type": "code",
   "execution_count": 634,
   "metadata": {},
   "outputs": [
    {
     "name": "stdout",
     "output_type": "stream",
     "text": [
      "15\n",
      "['13.28%', '9.47%', '6.87%', '6.08%', '2.28%', '2.10%', '1.50%', '1.42%', '1.26%', '1.14%', '0.71%', '0.70%', '0.69%', '0.68%', '0.66%']\n"
     ]
    }
   ],
   "source": [
    "volume_perc=[]\n",
    "\n",
    "for row in table_rows[1:]:\n",
    "    try:\n",
    "        \n",
    "        volume_perc.append(row.find_all('td')[7].text)\n",
    "    except AttributeError:\n",
    "        break\n",
    "    except IndexError:\n",
    "        break\n",
    "                \n",
    "print(len(volume_perc))\n",
    "print(volume_perc)"
   ]
  },
  {
   "cell_type": "code",
   "execution_count": 635,
   "metadata": {},
   "outputs": [
    {
     "name": "stdout",
     "output_type": "stream",
     "text": [
      "15\n",
      "['High', 'Low', 'High', 'High', 'High', 'High', 'High', 'High', 'High', 'High', 'High', 'High', 'High', 'High', 'High']\n"
     ]
    }
   ],
   "source": [
    "confidence=[]\n",
    "\n",
    "for row in table_rows[1:]:\n",
    "    try:\n",
    "        \n",
    "        confidence.append(row.find_all('td')[8].text)\n",
    "    except AttributeError:\n",
    "        break\n",
    "    except IndexError:\n",
    "        break\n",
    "                \n",
    "print(len(confidence))\n",
    "print(confidence)"
   ]
  },
  {
   "cell_type": "code",
   "execution_count": 636,
   "metadata": {},
   "outputs": [
    {
     "name": "stdout",
     "output_type": "stream",
     "text": [
      "15\n",
      "['571', '480', '221', '467', '689', '371', '412', '764', '872', '424', '285', '706', '603', '289', '304']\n"
     ]
    }
   ],
   "source": [
    "liquidity=[]\n",
    "\n",
    "for row in table_rows[1:]:\n",
    "    try:\n",
    "        \n",
    "        liquidity.append(row.find_all('td')[9].text)\n",
    "    except AttributeError:\n",
    "        break\n",
    "    except IndexError:\n",
    "        break\n",
    "                \n",
    "print(len(liquidity))\n",
    "print(liquidity)"
   ]
  },
  {
   "cell_type": "code",
   "execution_count": 637,
   "metadata": {},
   "outputs": [
    {
     "name": "stdout",
     "output_type": "stream",
     "text": [
      "15\n",
      "['Recently', 'Recently', 'Recently', 'Recently', 'Recently', 'Recently', 'Recently', 'Recently', 'Recently', 'Recently', 'Recently', 'Recently', 'Recently', 'Recently', 'Recently']\n"
     ]
    }
   ],
   "source": [
    "updated=[]\n",
    "\n",
    "for row in table_rows[1:]:\n",
    "    try:\n",
    "        \n",
    "        updated.append(row.find_all('td')[10].text)\n",
    "    except AttributeError:\n",
    "        break\n",
    "    except IndexError:\n",
    "        break\n",
    "                \n",
    "print(len(updated))\n",
    "print(updated)"
   ]
  },
  {
   "cell_type": "markdown",
   "metadata": {},
   "source": [
    "#### Combining all our columns into pandas Dataframe and viewing it"
   ]
  },
  {
   "cell_type": "code",
   "execution_count": 638,
   "metadata": {},
   "outputs": [
    {
     "data": {
      "text/html": [
       "<div>\n",
       "<style scoped>\n",
       "    .dataframe tbody tr th:only-of-type {\n",
       "        vertical-align: middle;\n",
       "    }\n",
       "\n",
       "    .dataframe tbody tr th {\n",
       "        vertical-align: top;\n",
       "    }\n",
       "\n",
       "    .dataframe thead th {\n",
       "        text-align: right;\n",
       "    }\n",
       "</style>\n",
       "<table border=\"1\" class=\"dataframe\">\n",
       "  <thead>\n",
       "    <tr style=\"text-align: right;\">\n",
       "      <th></th>\n",
       "      <th>source</th>\n",
       "      <th>pairs</th>\n",
       "      <th>price</th>\n",
       "      <th>plus_2_Depth</th>\n",
       "      <th>minus_2_Depth</th>\n",
       "      <th>volume</th>\n",
       "      <th>volume_perc</th>\n",
       "      <th>confidence</th>\n",
       "      <th>liquidity</th>\n",
       "      <th>updated</th>\n",
       "    </tr>\n",
       "  </thead>\n",
       "  <tbody>\n",
       "    <tr>\n",
       "      <th>0</th>\n",
       "      <td>Binance</td>\n",
       "      <td>UNI/USDT</td>\n",
       "      <td>$25.88</td>\n",
       "      <td>$676,540.92</td>\n",
       "      <td>$671,765.87</td>\n",
       "      <td>$55,958,492</td>\n",
       "      <td>13.28%</td>\n",
       "      <td>High</td>\n",
       "      <td>571</td>\n",
       "      <td>Recently</td>\n",
       "    </tr>\n",
       "    <tr>\n",
       "      <th>1</th>\n",
       "      <td>Huobi Global</td>\n",
       "      <td>UNI/USDT</td>\n",
       "      <td>$25.87</td>\n",
       "      <td>$848,344.74</td>\n",
       "      <td>$560,771.24</td>\n",
       "      <td>$39,918,228</td>\n",
       "      <td>9.47%</td>\n",
       "      <td>Low</td>\n",
       "      <td>480</td>\n",
       "      <td>Recently</td>\n",
       "    </tr>\n",
       "    <tr>\n",
       "      <th>2</th>\n",
       "      <td>Bithumb</td>\n",
       "      <td>UNI/KRW</td>\n",
       "      <td>$26.35</td>\n",
       "      <td>$360,643.01</td>\n",
       "      <td>$482,910.85</td>\n",
       "      <td>$28,945,241</td>\n",
       "      <td>6.87%</td>\n",
       "      <td>High</td>\n",
       "      <td>221</td>\n",
       "      <td>Recently</td>\n",
       "    </tr>\n",
       "    <tr>\n",
       "      <th>3</th>\n",
       "      <td>Coinbase Exchange</td>\n",
       "      <td>UNI/USD</td>\n",
       "      <td>$25.87</td>\n",
       "      <td>$913,625.88</td>\n",
       "      <td>$952,303.09</td>\n",
       "      <td>$25,626,005</td>\n",
       "      <td>6.08%</td>\n",
       "      <td>High</td>\n",
       "      <td>467</td>\n",
       "      <td>Recently</td>\n",
       "    </tr>\n",
       "    <tr>\n",
       "      <th>4</th>\n",
       "      <td>Binance</td>\n",
       "      <td>UNI/BTC</td>\n",
       "      <td>$25.84</td>\n",
       "      <td>$237,704.48</td>\n",
       "      <td>$320,747.58</td>\n",
       "      <td>$9,598,097</td>\n",
       "      <td>2.28%</td>\n",
       "      <td>High</td>\n",
       "      <td>689</td>\n",
       "      <td>Recently</td>\n",
       "    </tr>\n",
       "  </tbody>\n",
       "</table>\n",
       "</div>"
      ],
      "text/plain": [
       "              source     pairs   price plus_2_Depth minus_2_Depth  \\\n",
       "0            Binance  UNI/USDT  $25.88  $676,540.92   $671,765.87   \n",
       "1       Huobi Global  UNI/USDT  $25.87  $848,344.74   $560,771.24   \n",
       "2            Bithumb   UNI/KRW  $26.35  $360,643.01   $482,910.85   \n",
       "3  Coinbase Exchange   UNI/USD  $25.87  $913,625.88   $952,303.09   \n",
       "4            Binance   UNI/BTC  $25.84  $237,704.48   $320,747.58   \n",
       "\n",
       "        volume volume_perc confidence liquidity   updated  \n",
       "0  $55,958,492      13.28%       High       571  Recently  \n",
       "1  $39,918,228       9.47%        Low       480  Recently  \n",
       "2  $28,945,241       6.87%       High       221  Recently  \n",
       "3  $25,626,005       6.08%       High       467  Recently  \n",
       "4   $9,598,097       2.28%       High       689  Recently  "
      ]
     },
     "execution_count": 638,
     "metadata": {},
     "output_type": "execute_result"
    }
   ],
   "source": [
    "df12 = pd.DataFrame()\n",
    "df12['source'] = source\n",
    "df12['pairs'] = pairs\n",
    "df12['price'] = price\n",
    "df12['plus_2_Depth'] = plus_2_Depth\n",
    "df12['minus_2_Depth'] = minus_2_Depth\n",
    "df12['volume'] = volume\n",
    "df12['volume_perc'] = volume_perc\n",
    "df12['confidence'] = confidence\n",
    "df12['liquidity'] = liquidity\n",
    "df12['updated'] = updated\n",
    "\n",
    "df12.head()"
   ]
  },
  {
   "cell_type": "code",
   "execution_count": 639,
   "metadata": {},
   "outputs": [],
   "source": [
    "# saving the pandas dataframe locally as csv file format\n",
    "df12.to_csv(\"Uniswap.csv\")"
   ]
  },
  {
   "cell_type": "markdown",
   "metadata": {},
   "source": [
    "### 15. Avalanche"
   ]
  },
  {
   "cell_type": "code",
   "execution_count": 640,
   "metadata": {},
   "outputs": [],
   "source": [
    "# Establish chrome driver and go to report site URL\n",
    "url13 = 'https://coinmarketcap.com/currencies/avalanche/markets/'\n",
    "driver = webdriver.Chrome()\n",
    "driver.get(url13)"
   ]
  },
  {
   "cell_type": "code",
   "execution_count": 641,
   "metadata": {},
   "outputs": [],
   "source": [
    "#Selenium hands the page source to Beautiful Soup\n",
    "soup = BeautifulSoup(driver.page_source, 'lxml')\n",
    "table = soup.find('table', {'class':'h7vnx2-2 ecUULi cmc-table'})"
   ]
  },
  {
   "cell_type": "markdown",
   "metadata": {},
   "source": [
    "#### Scraping the market table and its columns - Source, Pairs, Price, +2% Depth, -2% Depth, Volume, Volume %, Confidence, Liquidity, Updated.\n",
    "---"
   ]
  },
  {
   "cell_type": "code",
   "execution_count": 642,
   "metadata": {
    "scrolled": true
   },
   "outputs": [],
   "source": [
    "table_rows = table.find_all('tr')"
   ]
  },
  {
   "cell_type": "code",
   "execution_count": 643,
   "metadata": {},
   "outputs": [
    {
     "name": "stdout",
     "output_type": "stream",
     "text": [
      "14\n",
      "['Binance', 'Binance', 'Binance', 'Binance', 'Gate.io', 'Coinbase Exchange', 'Huobi Global', 'KuCoin', 'Bitfinex', 'Binance', 'KuCoin', 'Bitfinex', 'Binance', 'Coinbase Exchange']\n"
     ]
    }
   ],
   "source": [
    "query = table.find_all('p', {'class': 'sc-1eb5slv-0 iworPT'})\n",
    "source=[]\n",
    "\n",
    "for x in query:\n",
    "    try:\n",
    "        source.append(x.text)\n",
    "    except AttributeError:\n",
    "        break    \n",
    "        \n",
    "print(len(source))\n",
    "print(source)"
   ]
  },
  {
   "cell_type": "code",
   "execution_count": 644,
   "metadata": {},
   "outputs": [
    {
     "name": "stdout",
     "output_type": "stream",
     "text": [
      "14\n",
      "['AVAX/USDT', 'AVAX/TRY', 'AVAX/BTC', 'AVAX/BUSD', 'AVAX/USDT', 'AVAX/USD', 'AVAX/USDT', 'AVAX/USDT', 'AVAX/USD', 'AVAX/EUR', 'AVAX/BTC', 'AVAX/UST', 'AVAX/BNB', 'AVAX/EUR']\n"
     ]
    }
   ],
   "source": [
    "query = table.find_all('a', {'class': 'qh9zi5-0 bGASOe cmc-link'})\n",
    "pairs=[]\n",
    "\n",
    "for x in query:\n",
    "    try:\n",
    "        pairs.append(x.text)\n",
    "    except AttributeError:\n",
    "        break    \n",
    "        \n",
    "print(len(pairs))\n",
    "print(pairs)"
   ]
  },
  {
   "cell_type": "code",
   "execution_count": 645,
   "metadata": {},
   "outputs": [
    {
     "name": "stdout",
     "output_type": "stream",
     "text": [
      "14\n",
      "['$61.49', '$61.28', '$61.40', '$61.51', '$61.50', '$61.60', '$61.50', '$61.54', '$61.50', '$60.89', '$61.36', '$61.49', '$61.56', '$61.20']\n"
     ]
    }
   ],
   "source": [
    "price=[]\n",
    "\n",
    "for row in table_rows[1:]:\n",
    "    try:\n",
    "        \n",
    "        price.append(row.find_all('td')[3].text)\n",
    "    except AttributeError:\n",
    "        break\n",
    "    except IndexError:\n",
    "        break\n",
    "                \n",
    "print(len(price))\n",
    "print(price)"
   ]
  },
  {
   "cell_type": "code",
   "execution_count": 646,
   "metadata": {},
   "outputs": [
    {
     "name": "stdout",
     "output_type": "stream",
     "text": [
      "14\n",
      "['$1,551,112.54', '$465,869.11', '$468,943.43', '$375,441.84', '$390,769.00', '$670,629.04', '$393,427.34', '$555,911.97', '-', '$99,002.55', '$72,727.71', '-', '$24,188.99', '$80,132.15']\n"
     ]
    }
   ],
   "source": [
    "plus_2_Depth=[]\n",
    "\n",
    "for row in table_rows[1:]:\n",
    "    try:\n",
    "        \n",
    "        plus_2_Depth.append(row.find_all('td')[4].text)\n",
    "    except AttributeError:\n",
    "        break\n",
    "    except IndexError:\n",
    "        break\n",
    "                \n",
    "print(len(plus_2_Depth))\n",
    "print(plus_2_Depth)"
   ]
  },
  {
   "cell_type": "code",
   "execution_count": 647,
   "metadata": {},
   "outputs": [
    {
     "name": "stdout",
     "output_type": "stream",
     "text": [
      "14\n",
      "['$1,015,686.87', '$209,208.59', '$606,895.15', '$269,882.62', '$686,048.24', '$531,428.86', '$338,363.25', '$389,738.66', '-', '$70,730.86', '$103,625.89', '-', '$44,850.78', '$93,870.35']\n"
     ]
    }
   ],
   "source": [
    "minus_2_Depth=[]\n",
    "\n",
    "for row in table_rows[1:]:\n",
    "    try:\n",
    "        \n",
    "        minus_2_Depth.append(row.find_all('td')[5].text)\n",
    "    except AttributeError:\n",
    "        break\n",
    "    except IndexError:\n",
    "        break\n",
    "                \n",
    "print(len(minus_2_Depth))\n",
    "print(minus_2_Depth)"
   ]
  },
  {
   "cell_type": "code",
   "execution_count": 648,
   "metadata": {},
   "outputs": [
    {
     "name": "stdout",
     "output_type": "stream",
     "text": [
      "14\n",
      "['$291,040,833', '$53,142,668', '$44,896,178', '$44,654,931', '$35,232,717', '$25,667,416', '$25,058,667', '$18,872,839', '$3,343,955', '$3,106,721', '$2,171,887', '$1,717,028', '$1,632,986', '$1,064,686']\n"
     ]
    }
   ],
   "source": [
    "volume=[]\n",
    "\n",
    "for row in table_rows[1:]:\n",
    "    try:\n",
    "        \n",
    "        volume.append(row.find_all('td')[6].text)\n",
    "    except AttributeError:\n",
    "        break\n",
    "    except IndexError:\n",
    "        break\n",
    "                \n",
    "print(len(volume))\n",
    "print(volume)"
   ]
  },
  {
   "cell_type": "code",
   "execution_count": 649,
   "metadata": {},
   "outputs": [
    {
     "name": "stdout",
     "output_type": "stream",
     "text": [
      "14\n",
      "['32.74%', '5.98%', '5.05%', '5.02%', '3.96%', '2.89%', '2.82%', '2.12%', '0.38%', '0.35%', '0.24%', '0.19%', '0.18%', '0.12%']\n"
     ]
    }
   ],
   "source": [
    "volume_perc=[]\n",
    "\n",
    "for row in table_rows[1:]:\n",
    "    try:\n",
    "        \n",
    "        volume_perc.append(row.find_all('td')[7].text)\n",
    "    except AttributeError:\n",
    "        break\n",
    "    except IndexError:\n",
    "        break\n",
    "                \n",
    "print(len(volume_perc))\n",
    "print(volume_perc)"
   ]
  },
  {
   "cell_type": "code",
   "execution_count": 650,
   "metadata": {},
   "outputs": [
    {
     "name": "stdout",
     "output_type": "stream",
     "text": [
      "14\n",
      "['High', 'High', 'High', 'High', 'High', 'High', 'Low', 'High', 'N/A', 'High', 'High', 'N/A', 'High', 'High']\n"
     ]
    }
   ],
   "source": [
    "confidence=[]\n",
    "\n",
    "for row in table_rows[1:]:\n",
    "    try:\n",
    "        \n",
    "        confidence.append(row.find_all('td')[8].text)\n",
    "    except AttributeError:\n",
    "        break\n",
    "    except IndexError:\n",
    "        break\n",
    "                \n",
    "print(len(confidence))\n",
    "print(confidence)"
   ]
  },
  {
   "cell_type": "code",
   "execution_count": 651,
   "metadata": {},
   "outputs": [
    {
     "name": "stdout",
     "output_type": "stream",
     "text": [
      "14\n",
      "['507', '646', '854', '568', '397', '322', '347', '290', '-', '904', '201', '-', '714', '180']\n"
     ]
    }
   ],
   "source": [
    "liquidity=[]\n",
    "\n",
    "for row in table_rows[1:]:\n",
    "    try:\n",
    "        \n",
    "        liquidity.append(row.find_all('td')[9].text)\n",
    "    except AttributeError:\n",
    "        break\n",
    "    except IndexError:\n",
    "        break\n",
    "                \n",
    "print(len(liquidity))\n",
    "print(liquidity)"
   ]
  },
  {
   "cell_type": "code",
   "execution_count": 652,
   "metadata": {},
   "outputs": [
    {
     "name": "stdout",
     "output_type": "stream",
     "text": [
      "14\n",
      "['Recently', 'Recently', 'Recently', 'Recently', 'Recently', 'Recently', 'Recently', 'Recently', 'Recently', 'Recently', 'Recently', 'Recently', 'Recently', 'Recently']\n"
     ]
    }
   ],
   "source": [
    "updated=[]\n",
    "\n",
    "for row in table_rows[1:]:\n",
    "    try:\n",
    "        \n",
    "        updated.append(row.find_all('td')[10].text)\n",
    "    except AttributeError:\n",
    "        break\n",
    "    except IndexError:\n",
    "        break\n",
    "                \n",
    "print(len(updated))\n",
    "print(updated)"
   ]
  },
  {
   "cell_type": "markdown",
   "metadata": {},
   "source": [
    "#### Combining all our columns into pandas Dataframe and viewing it"
   ]
  },
  {
   "cell_type": "code",
   "execution_count": 653,
   "metadata": {},
   "outputs": [
    {
     "data": {
      "text/html": [
       "<div>\n",
       "<style scoped>\n",
       "    .dataframe tbody tr th:only-of-type {\n",
       "        vertical-align: middle;\n",
       "    }\n",
       "\n",
       "    .dataframe tbody tr th {\n",
       "        vertical-align: top;\n",
       "    }\n",
       "\n",
       "    .dataframe thead th {\n",
       "        text-align: right;\n",
       "    }\n",
       "</style>\n",
       "<table border=\"1\" class=\"dataframe\">\n",
       "  <thead>\n",
       "    <tr style=\"text-align: right;\">\n",
       "      <th></th>\n",
       "      <th>source</th>\n",
       "      <th>pairs</th>\n",
       "      <th>price</th>\n",
       "      <th>plus_2_Depth</th>\n",
       "      <th>minus_2_Depth</th>\n",
       "      <th>volume</th>\n",
       "      <th>volume_perc</th>\n",
       "      <th>confidence</th>\n",
       "      <th>liquidity</th>\n",
       "      <th>updated</th>\n",
       "    </tr>\n",
       "  </thead>\n",
       "  <tbody>\n",
       "    <tr>\n",
       "      <th>0</th>\n",
       "      <td>Binance</td>\n",
       "      <td>AVAX/USDT</td>\n",
       "      <td>$61.49</td>\n",
       "      <td>$1,551,112.54</td>\n",
       "      <td>$1,015,686.87</td>\n",
       "      <td>$291,040,833</td>\n",
       "      <td>32.74%</td>\n",
       "      <td>High</td>\n",
       "      <td>507</td>\n",
       "      <td>Recently</td>\n",
       "    </tr>\n",
       "    <tr>\n",
       "      <th>1</th>\n",
       "      <td>Binance</td>\n",
       "      <td>AVAX/TRY</td>\n",
       "      <td>$61.28</td>\n",
       "      <td>$465,869.11</td>\n",
       "      <td>$209,208.59</td>\n",
       "      <td>$53,142,668</td>\n",
       "      <td>5.98%</td>\n",
       "      <td>High</td>\n",
       "      <td>646</td>\n",
       "      <td>Recently</td>\n",
       "    </tr>\n",
       "    <tr>\n",
       "      <th>2</th>\n",
       "      <td>Binance</td>\n",
       "      <td>AVAX/BTC</td>\n",
       "      <td>$61.40</td>\n",
       "      <td>$468,943.43</td>\n",
       "      <td>$606,895.15</td>\n",
       "      <td>$44,896,178</td>\n",
       "      <td>5.05%</td>\n",
       "      <td>High</td>\n",
       "      <td>854</td>\n",
       "      <td>Recently</td>\n",
       "    </tr>\n",
       "    <tr>\n",
       "      <th>3</th>\n",
       "      <td>Binance</td>\n",
       "      <td>AVAX/BUSD</td>\n",
       "      <td>$61.51</td>\n",
       "      <td>$375,441.84</td>\n",
       "      <td>$269,882.62</td>\n",
       "      <td>$44,654,931</td>\n",
       "      <td>5.02%</td>\n",
       "      <td>High</td>\n",
       "      <td>568</td>\n",
       "      <td>Recently</td>\n",
       "    </tr>\n",
       "    <tr>\n",
       "      <th>4</th>\n",
       "      <td>Gate.io</td>\n",
       "      <td>AVAX/USDT</td>\n",
       "      <td>$61.50</td>\n",
       "      <td>$390,769.00</td>\n",
       "      <td>$686,048.24</td>\n",
       "      <td>$35,232,717</td>\n",
       "      <td>3.96%</td>\n",
       "      <td>High</td>\n",
       "      <td>397</td>\n",
       "      <td>Recently</td>\n",
       "    </tr>\n",
       "  </tbody>\n",
       "</table>\n",
       "</div>"
      ],
      "text/plain": [
       "    source      pairs   price   plus_2_Depth  minus_2_Depth        volume  \\\n",
       "0  Binance  AVAX/USDT  $61.49  $1,551,112.54  $1,015,686.87  $291,040,833   \n",
       "1  Binance   AVAX/TRY  $61.28    $465,869.11    $209,208.59   $53,142,668   \n",
       "2  Binance   AVAX/BTC  $61.40    $468,943.43    $606,895.15   $44,896,178   \n",
       "3  Binance  AVAX/BUSD  $61.51    $375,441.84    $269,882.62   $44,654,931   \n",
       "4  Gate.io  AVAX/USDT  $61.50    $390,769.00    $686,048.24   $35,232,717   \n",
       "\n",
       "  volume_perc confidence liquidity   updated  \n",
       "0      32.74%       High       507  Recently  \n",
       "1       5.98%       High       646  Recently  \n",
       "2       5.05%       High       854  Recently  \n",
       "3       5.02%       High       568  Recently  \n",
       "4       3.96%       High       397  Recently  "
      ]
     },
     "metadata": {},
     "output_type": "display_data"
    }
   ],
   "source": [
    "df13 = pd.DataFrame()\n",
    "df13['source'] = source\n",
    "df13['pairs'] = pairs\n",
    "df13['price'] = price\n",
    "df13['plus_2_Depth'] = plus_2_Depth\n",
    "df13['minus_2_Depth'] = minus_2_Depth\n",
    "df13['volume'] = volume\n",
    "df13['volume_perc'] = volume_perc\n",
    "df13['confidence'] = confidence\n",
    "df13['liquidity'] = liquidity\n",
    "df13['updated'] = updated\n",
    "\n",
    "display(df13.head())\n",
    "\n",
    "# saving the pandas dataframe locally as csv file format\n",
    "df13.to_csv(\"Avalanche.csv\")"
   ]
  },
  {
   "cell_type": "markdown",
   "metadata": {},
   "source": [
    "### 16. Binance USD"
   ]
  },
  {
   "cell_type": "code",
   "execution_count": 654,
   "metadata": {},
   "outputs": [],
   "source": [
    "# Establish chrome driver and go to report site URL\n",
    "url14 = 'https://coinmarketcap.com/currencies/binance-usd/markets/'\n",
    "driver = webdriver.Chrome()\n",
    "driver.get(url14)"
   ]
  },
  {
   "cell_type": "code",
   "execution_count": 655,
   "metadata": {},
   "outputs": [],
   "source": [
    "#Selenium hands the page source to Beautiful Soup\n",
    "soup = BeautifulSoup(driver.page_source, 'lxml')\n",
    "table = soup.find('table', {'class':'h7vnx2-2 ecUULi cmc-table'})"
   ]
  },
  {
   "cell_type": "markdown",
   "metadata": {},
   "source": [
    "#### Scraping the market table and its columns - Source, Pairs, Price, +2% Depth, -2% Depth, Volume, Volume %, Confidence, Liquidity, Updated.\n",
    "---"
   ]
  },
  {
   "cell_type": "code",
   "execution_count": 656,
   "metadata": {
    "scrolled": true
   },
   "outputs": [],
   "source": [
    "table_rows = table.find_all('tr')"
   ]
  },
  {
   "cell_type": "code",
   "execution_count": 657,
   "metadata": {},
   "outputs": [
    {
     "name": "stdout",
     "output_type": "stream",
     "text": [
      "16\n",
      "['Binance', 'Binance', 'Binance', 'Binance', 'Binance', 'Binance', 'Binance', 'Binance', 'Binance', 'Binance', 'Binance.US', 'Binance', 'Binance', 'Binance', 'Binance', 'Binance']\n"
     ]
    }
   ],
   "source": [
    "query = table.find_all('p', {'class': 'sc-1eb5slv-0 iworPT'})\n",
    "source=[]\n",
    "\n",
    "for x in query:\n",
    "    try:\n",
    "        source.append(x.text)\n",
    "    except AttributeError:\n",
    "        break    \n",
    "        \n",
    "print(len(source))\n",
    "print(source)"
   ]
  },
  {
   "cell_type": "code",
   "execution_count": 658,
   "metadata": {},
   "outputs": [
    {
     "name": "stdout",
     "output_type": "stream",
     "text": [
      "16\n",
      "['SHIB/BUSD', 'BUSD/USDT', 'BTC/BUSD', 'ETH/BUSD', 'BTCST/BUSD', 'BNB/BUSD', 'FTM/BUSD', 'SOL/BUSD', 'RAD/BUSD', 'ADA/BUSD', 'SHIB/BUSD', 'SLP/BUSD', 'LUNA/BUSD', 'DOT/BUSD', 'DOGE/BUSD', 'USDC/BUSD']\n"
     ]
    }
   ],
   "source": [
    "query = table.find_all('a', {'class': 'qh9zi5-0 bGASOe cmc-link'})\n",
    "pairs=[]\n",
    "\n",
    "for x in query:\n",
    "    try:\n",
    "        pairs.append(x.text)\n",
    "    except AttributeError:\n",
    "        break    \n",
    "        \n",
    "print(len(pairs))\n",
    "print(pairs)"
   ]
  },
  {
   "cell_type": "code",
   "execution_count": 659,
   "metadata": {},
   "outputs": [
    {
     "name": "stdout",
     "output_type": "stream",
     "text": [
      "16\n",
      "['$1.00', '$0.9999', '$1.00', '$1.00', '$1.00', '$1.00', '$0.9997', '$1.00', '$1.00', '$1.00', '$1.00', '$1.00', '$0.9999', '$1.00', '$0.9999', '$1.00']\n"
     ]
    }
   ],
   "source": [
    "price=[]\n",
    "\n",
    "for row in table_rows[1:]:\n",
    "    try:\n",
    "        \n",
    "        price.append(row.find_all('td')[3].text)\n",
    "    except AttributeError:\n",
    "        break\n",
    "    except IndexError:\n",
    "        break\n",
    "                \n",
    "print(len(price))\n",
    "print(price)"
   ]
  },
  {
   "cell_type": "code",
   "execution_count": 660,
   "metadata": {},
   "outputs": [
    {
     "name": "stdout",
     "output_type": "stream",
     "text": [
      "16\n",
      "['$368,044.41', '$54,701,072.49', '$9,948,903.21', '$8,016,641.03', '$359,756.63', '$3,394,128.48', '$362,014.27', '$1,376,483.09', '$95,112.72', '$1,628,334.23', '$78,858.82', '$246,105.15', '$644,058.83', '$747,947.27', '$558,677.26', '$5,750,995.79']\n"
     ]
    }
   ],
   "source": [
    "plus_2_Depth=[]\n",
    "\n",
    "for row in table_rows[1:]:\n",
    "    try:\n",
    "        \n",
    "        plus_2_Depth.append(row.find_all('td')[4].text)\n",
    "    except AttributeError:\n",
    "        break\n",
    "    except IndexError:\n",
    "        break\n",
    "                \n",
    "print(len(plus_2_Depth))\n",
    "print(plus_2_Depth)"
   ]
  },
  {
   "cell_type": "code",
   "execution_count": 661,
   "metadata": {},
   "outputs": [
    {
     "name": "stdout",
     "output_type": "stream",
     "text": [
      "16\n",
      "['$586,079.85', '$60,214,997.19', '$6,849,695.82', '$4,806,287.39', '$64,273.36', '$1,338,122.78', '$235,429.66', '$999,192.61', '$136,355.35', '$1,399,038.35', '$106,632.63', '$185,734.20', '$735,722.77', '$783,706.55', '$512,283.76', '$5,927,301.86']\n"
     ]
    }
   ],
   "source": [
    "minus_2_Depth=[]\n",
    "\n",
    "for row in table_rows[1:]:\n",
    "    try:\n",
    "        \n",
    "        minus_2_Depth.append(row.find_all('td')[5].text)\n",
    "    except AttributeError:\n",
    "        break\n",
    "    except IndexError:\n",
    "        break\n",
    "                \n",
    "print(len(minus_2_Depth))\n",
    "print(minus_2_Depth)"
   ]
  },
  {
   "cell_type": "code",
   "execution_count": 662,
   "metadata": {},
   "outputs": [
    {
     "name": "stdout",
     "output_type": "stream",
     "text": [
      "16\n",
      "['$1,263,671,990', '$1,195,848,367', '$695,501,017', '$602,339,261', '$511,974,232', '$152,704,020', '$139,908,543', '$132,192,656', '$125,120,299', '$120,726,289', '$88,563,657', '$83,473,162', '$82,286,437', '$80,412,381', '$75,269,969', '$68,243,913']\n"
     ]
    }
   ],
   "source": [
    "volume=[]\n",
    "\n",
    "for row in table_rows[1:]:\n",
    "    try:\n",
    "        \n",
    "        volume.append(row.find_all('td')[6].text)\n",
    "    except AttributeError:\n",
    "        break\n",
    "    except IndexError:\n",
    "        break\n",
    "                \n",
    "print(len(volume))\n",
    "print(volume)"
   ]
  },
  {
   "cell_type": "code",
   "execution_count": 663,
   "metadata": {},
   "outputs": [
    {
     "name": "stdout",
     "output_type": "stream",
     "text": [
      "16\n",
      "['15.58%', '14.74%', '8.58%', '7.43%', '6.31%', '1.88%', '1.73%', '1.63%', '1.54%', '1.49%', '1.09%', '1.03%', '1.01%', '0.99%', '0.93%', '0.84%']\n"
     ]
    }
   ],
   "source": [
    "volume_perc=[]\n",
    "\n",
    "for row in table_rows[1:]:\n",
    "    try:\n",
    "        \n",
    "        volume_perc.append(row.find_all('td')[7].text)\n",
    "    except AttributeError:\n",
    "        break\n",
    "    except IndexError:\n",
    "        break\n",
    "                \n",
    "print(len(volume_perc))\n",
    "print(volume_perc)"
   ]
  },
  {
   "cell_type": "code",
   "execution_count": 664,
   "metadata": {},
   "outputs": [
    {
     "name": "stdout",
     "output_type": "stream",
     "text": [
      "16\n",
      "['High', 'High', 'High', 'High', 'High', 'High', 'High', 'High', 'High', 'High', 'High', 'High', 'High', 'High', 'High', 'High']\n"
     ]
    }
   ],
   "source": [
    "confidence=[]\n",
    "\n",
    "for row in table_rows[1:]:\n",
    "    try:\n",
    "        \n",
    "        confidence.append(row.find_all('td')[8].text)\n",
    "    except AttributeError:\n",
    "        break\n",
    "    except IndexError:\n",
    "        break\n",
    "                \n",
    "print(len(confidence))\n",
    "print(confidence)"
   ]
  },
  {
   "cell_type": "code",
   "execution_count": 665,
   "metadata": {},
   "outputs": [
    {
     "name": "stdout",
     "output_type": "stream",
     "text": [
      "16\n",
      "['908', '979', '860', '815', '704', '542', '871', '886', '796', '629', '802', '885', '891', '781', '501', '981']\n"
     ]
    }
   ],
   "source": [
    "liquidity=[]\n",
    "\n",
    "for row in table_rows[1:]:\n",
    "    try:\n",
    "        \n",
    "        liquidity.append(row.find_all('td')[9].text)\n",
    "    except AttributeError:\n",
    "        break\n",
    "    except IndexError:\n",
    "        break\n",
    "                \n",
    "print(len(liquidity))\n",
    "print(liquidity)"
   ]
  },
  {
   "cell_type": "code",
   "execution_count": 666,
   "metadata": {},
   "outputs": [
    {
     "name": "stdout",
     "output_type": "stream",
     "text": [
      "16\n",
      "['Recently', 'Recently', 'Recently', 'Recently', 'Recently', 'Recently', 'Recently', 'Recently', 'Recently', 'Recently', 'Recently', 'Recently', 'Recently', 'Recently', 'Recently', 'Recently']\n"
     ]
    }
   ],
   "source": [
    "updated=[]\n",
    "\n",
    "for row in table_rows[1:]:\n",
    "    try:\n",
    "        \n",
    "        updated.append(row.find_all('td')[10].text)\n",
    "    except AttributeError:\n",
    "        break\n",
    "    except IndexError:\n",
    "        break\n",
    "                \n",
    "print(len(updated))\n",
    "print(updated)"
   ]
  },
  {
   "cell_type": "markdown",
   "metadata": {},
   "source": [
    "#### Combining all our columns into pandas Dataframe and viewing it"
   ]
  },
  {
   "cell_type": "code",
   "execution_count": 667,
   "metadata": {},
   "outputs": [
    {
     "data": {
      "text/html": [
       "<div>\n",
       "<style scoped>\n",
       "    .dataframe tbody tr th:only-of-type {\n",
       "        vertical-align: middle;\n",
       "    }\n",
       "\n",
       "    .dataframe tbody tr th {\n",
       "        vertical-align: top;\n",
       "    }\n",
       "\n",
       "    .dataframe thead th {\n",
       "        text-align: right;\n",
       "    }\n",
       "</style>\n",
       "<table border=\"1\" class=\"dataframe\">\n",
       "  <thead>\n",
       "    <tr style=\"text-align: right;\">\n",
       "      <th></th>\n",
       "      <th>source</th>\n",
       "      <th>pairs</th>\n",
       "      <th>price</th>\n",
       "      <th>plus_2_Depth</th>\n",
       "      <th>minus_2_Depth</th>\n",
       "      <th>volume</th>\n",
       "      <th>volume_perc</th>\n",
       "      <th>confidence</th>\n",
       "      <th>liquidity</th>\n",
       "      <th>updated</th>\n",
       "    </tr>\n",
       "  </thead>\n",
       "  <tbody>\n",
       "    <tr>\n",
       "      <th>0</th>\n",
       "      <td>Binance</td>\n",
       "      <td>SHIB/BUSD</td>\n",
       "      <td>$1.00</td>\n",
       "      <td>$368,044.41</td>\n",
       "      <td>$586,079.85</td>\n",
       "      <td>$1,263,671,990</td>\n",
       "      <td>15.58%</td>\n",
       "      <td>High</td>\n",
       "      <td>908</td>\n",
       "      <td>Recently</td>\n",
       "    </tr>\n",
       "    <tr>\n",
       "      <th>1</th>\n",
       "      <td>Binance</td>\n",
       "      <td>BUSD/USDT</td>\n",
       "      <td>$0.9999</td>\n",
       "      <td>$54,701,072.49</td>\n",
       "      <td>$60,214,997.19</td>\n",
       "      <td>$1,195,848,367</td>\n",
       "      <td>14.74%</td>\n",
       "      <td>High</td>\n",
       "      <td>979</td>\n",
       "      <td>Recently</td>\n",
       "    </tr>\n",
       "    <tr>\n",
       "      <th>2</th>\n",
       "      <td>Binance</td>\n",
       "      <td>BTC/BUSD</td>\n",
       "      <td>$1.00</td>\n",
       "      <td>$9,948,903.21</td>\n",
       "      <td>$6,849,695.82</td>\n",
       "      <td>$695,501,017</td>\n",
       "      <td>8.58%</td>\n",
       "      <td>High</td>\n",
       "      <td>860</td>\n",
       "      <td>Recently</td>\n",
       "    </tr>\n",
       "    <tr>\n",
       "      <th>3</th>\n",
       "      <td>Binance</td>\n",
       "      <td>ETH/BUSD</td>\n",
       "      <td>$1.00</td>\n",
       "      <td>$8,016,641.03</td>\n",
       "      <td>$4,806,287.39</td>\n",
       "      <td>$602,339,261</td>\n",
       "      <td>7.43%</td>\n",
       "      <td>High</td>\n",
       "      <td>815</td>\n",
       "      <td>Recently</td>\n",
       "    </tr>\n",
       "    <tr>\n",
       "      <th>4</th>\n",
       "      <td>Binance</td>\n",
       "      <td>BTCST/BUSD</td>\n",
       "      <td>$1.00</td>\n",
       "      <td>$359,756.63</td>\n",
       "      <td>$64,273.36</td>\n",
       "      <td>$511,974,232</td>\n",
       "      <td>6.31%</td>\n",
       "      <td>High</td>\n",
       "      <td>704</td>\n",
       "      <td>Recently</td>\n",
       "    </tr>\n",
       "  </tbody>\n",
       "</table>\n",
       "</div>"
      ],
      "text/plain": [
       "    source       pairs    price    plus_2_Depth   minus_2_Depth  \\\n",
       "0  Binance   SHIB/BUSD    $1.00     $368,044.41     $586,079.85   \n",
       "1  Binance   BUSD/USDT  $0.9999  $54,701,072.49  $60,214,997.19   \n",
       "2  Binance    BTC/BUSD    $1.00   $9,948,903.21   $6,849,695.82   \n",
       "3  Binance    ETH/BUSD    $1.00   $8,016,641.03   $4,806,287.39   \n",
       "4  Binance  BTCST/BUSD    $1.00     $359,756.63      $64,273.36   \n",
       "\n",
       "           volume volume_perc confidence liquidity   updated  \n",
       "0  $1,263,671,990      15.58%       High       908  Recently  \n",
       "1  $1,195,848,367      14.74%       High       979  Recently  \n",
       "2    $695,501,017       8.58%       High       860  Recently  \n",
       "3    $602,339,261       7.43%       High       815  Recently  \n",
       "4    $511,974,232       6.31%       High       704  Recently  "
      ]
     },
     "metadata": {},
     "output_type": "display_data"
    }
   ],
   "source": [
    "df14 = pd.DataFrame()\n",
    "df14['source'] = source\n",
    "df14['pairs'] = pairs\n",
    "df14['price'] = price\n",
    "df14['plus_2_Depth'] = plus_2_Depth\n",
    "df14['minus_2_Depth'] = minus_2_Depth\n",
    "df14['volume'] = volume\n",
    "df14['volume_perc'] = volume_perc\n",
    "df14['confidence'] = confidence\n",
    "df14['liquidity'] = liquidity\n",
    "df14['updated'] = updated\n",
    "\n",
    "display(df14.head())\n",
    "\n",
    "# saving the pandas dataframe locally as csv file format\n",
    "df14.to_csv(\"Binance_USD.csv\")"
   ]
  },
  {
   "cell_type": "markdown",
   "metadata": {},
   "source": [
    "### 17. Chainlink"
   ]
  },
  {
   "cell_type": "code",
   "execution_count": 668,
   "metadata": {},
   "outputs": [],
   "source": [
    "# Establish chrome driver and go to report site URL\n",
    "url15 = 'https://coinmarketcap.com/currencies/chainlink/markets/'\n",
    "driver = webdriver.Chrome()\n",
    "driver.get(url15)"
   ]
  },
  {
   "cell_type": "code",
   "execution_count": 669,
   "metadata": {},
   "outputs": [],
   "source": [
    "#Selenium hands the page source to Beautiful Soup\n",
    "soup = BeautifulSoup(driver.page_source, 'lxml')\n",
    "table = soup.find('table', {'class':'h7vnx2-2 ecUULi cmc-table'})"
   ]
  },
  {
   "cell_type": "markdown",
   "metadata": {},
   "source": [
    "#### Scraping the market table and its columns - Source, Pairs, Price, +2% Depth, -2% Depth, Volume, Volume %, Confidence, Liquidity, Updated.\n",
    "---"
   ]
  },
  {
   "cell_type": "code",
   "execution_count": 670,
   "metadata": {
    "scrolled": true
   },
   "outputs": [],
   "source": [
    "table_rows = table.find_all('tr')"
   ]
  },
  {
   "cell_type": "code",
   "execution_count": 671,
   "metadata": {},
   "outputs": [
    {
     "name": "stdout",
     "output_type": "stream",
     "text": [
      "14\n",
      "['Binance', 'Coinbase Exchange', 'Huobi Global', 'Binance', 'FTX', 'Binance', 'FTX', 'Gate.io', 'Kraken', 'KuCoin', 'Binance.US', 'FTX US', 'Coinbase Exchange', 'Binance']\n"
     ]
    }
   ],
   "source": [
    "query = table.find_all('p', {'class': 'sc-1eb5slv-0 iworPT'})\n",
    "source=[]\n",
    "\n",
    "for x in query:\n",
    "    try:\n",
    "        source.append(x.text)\n",
    "    except AttributeError:\n",
    "        break    \n",
    "        \n",
    "print(len(source))\n",
    "print(source)"
   ]
  },
  {
   "cell_type": "code",
   "execution_count": 672,
   "metadata": {},
   "outputs": [
    {
     "name": "stdout",
     "output_type": "stream",
     "text": [
      "14\n",
      "['LINK/USDT', 'LINK/USD', 'LINK/USDT', 'LINK/BTC', 'LINK/USD', 'LINK/BUSD', 'LINK/USDT', 'LINK/USDT', 'LINK/USD', 'LINK/USDT', 'LINK/USD', 'LINK/USD', 'LINK/EUR', 'LINK/ETH']\n"
     ]
    }
   ],
   "source": [
    "query = table.find_all('a', {'class': 'qh9zi5-0 bGASOe cmc-link'})\n",
    "pairs=[]\n",
    "\n",
    "for x in query:\n",
    "    try:\n",
    "        pairs.append(x.text)\n",
    "    except AttributeError:\n",
    "        break    \n",
    "        \n",
    "print(len(pairs))\n",
    "print(pairs)"
   ]
  },
  {
   "cell_type": "code",
   "execution_count": 673,
   "metadata": {},
   "outputs": [
    {
     "name": "stdout",
     "output_type": "stream",
     "text": [
      "14\n",
      "['$27.30', '$27.32', '$27.30', '$27.28', '$27.31', '$27.31', '$27.31', '$27.32', '$27.37', '$27.31', '$27.30', '$27.29', '$27.27', '$27.30']\n"
     ]
    }
   ],
   "source": [
    "price=[]\n",
    "\n",
    "for row in table_rows[1:]:\n",
    "    try:\n",
    "        \n",
    "        price.append(row.find_all('td')[3].text)\n",
    "    except AttributeError:\n",
    "        break\n",
    "    except IndexError:\n",
    "        break\n",
    "                \n",
    "print(len(price))\n",
    "print(price)"
   ]
  },
  {
   "cell_type": "code",
   "execution_count": 674,
   "metadata": {},
   "outputs": [
    {
     "name": "stdout",
     "output_type": "stream",
     "text": [
      "14\n",
      "['$1,479,518.58', '$2,085,338.66', '$762,978.97', '$601,084.69', '$3,827,846.80', '$504,796.78', '$2,774,138.56', '$659,783.17', '$1,765,420.21', '$609,709.17', '$627,139.19', '$1,708,965.16', '$369,946.26', '$150,605.48']\n"
     ]
    }
   ],
   "source": [
    "plus_2_Depth=[]\n",
    "\n",
    "for row in table_rows[1:]:\n",
    "    try:\n",
    "        \n",
    "        plus_2_Depth.append(row.find_all('td')[4].text)\n",
    "    except AttributeError:\n",
    "        break\n",
    "    except IndexError:\n",
    "        break\n",
    "                \n",
    "print(len(plus_2_Depth))\n",
    "print(plus_2_Depth)"
   ]
  },
  {
   "cell_type": "code",
   "execution_count": 675,
   "metadata": {},
   "outputs": [
    {
     "name": "stdout",
     "output_type": "stream",
     "text": [
      "14\n",
      "['$1,420,708.61', '$2,858,770.92', '$716,976.45', '$478,267.15', '$4,081,705.35', '$549,834.41', '$2,347,698.73', '$840,912.99', '$1,584,009.12', '$754,067.66', '$665,187.53', '$1,705,435.12', '$389,387.69', '$285,404.13']\n"
     ]
    }
   ],
   "source": [
    "minus_2_Depth=[]\n",
    "\n",
    "for row in table_rows[1:]:\n",
    "    try:\n",
    "        \n",
    "        minus_2_Depth.append(row.find_all('td')[5].text)\n",
    "    except AttributeError:\n",
    "        break\n",
    "    except IndexError:\n",
    "        break\n",
    "                \n",
    "print(len(minus_2_Depth))\n",
    "print(minus_2_Depth)"
   ]
  },
  {
   "cell_type": "code",
   "execution_count": 676,
   "metadata": {},
   "outputs": [
    {
     "name": "stdout",
     "output_type": "stream",
     "text": [
      "14\n",
      "['$167,812,270', '$87,124,176', '$54,317,882', '$30,362,427', '$28,320,649', '$20,776,176', '$20,147,622', '$19,832,793', '$11,713,208', '$10,763,022', '$10,677,916', '$8,070,398', '$7,311,407', '$7,213,960']\n"
     ]
    }
   ],
   "source": [
    "volume=[]\n",
    "\n",
    "for row in table_rows[1:]:\n",
    "    try:\n",
    "        \n",
    "        volume.append(row.find_all('td')[6].text)\n",
    "    except AttributeError:\n",
    "        break\n",
    "    except IndexError:\n",
    "        break\n",
    "                \n",
    "print(len(volume))\n",
    "print(volume)"
   ]
  },
  {
   "cell_type": "code",
   "execution_count": 677,
   "metadata": {},
   "outputs": [
    {
     "name": "stdout",
     "output_type": "stream",
     "text": [
      "14\n",
      "['14.06%', '7.30%', '4.55%', '2.54%', '2.37%', '1.74%', '1.69%', '1.66%', '0.98%', '0.90%', '0.89%', '0.68%', '0.61%', '0.60%']\n"
     ]
    }
   ],
   "source": [
    "volume_perc=[]\n",
    "\n",
    "for row in table_rows[1:]:\n",
    "    try:\n",
    "        \n",
    "        volume_perc.append(row.find_all('td')[7].text)\n",
    "    except AttributeError:\n",
    "        break\n",
    "    except IndexError:\n",
    "        break\n",
    "                \n",
    "print(len(volume_perc))\n",
    "print(volume_perc)"
   ]
  },
  {
   "cell_type": "code",
   "execution_count": 678,
   "metadata": {},
   "outputs": [
    {
     "name": "stdout",
     "output_type": "stream",
     "text": [
      "14\n",
      "['High', 'High', 'Low', 'High', 'High', 'High', 'High', 'High', 'High', 'High', 'High', 'High', 'High', 'High']\n"
     ]
    }
   ],
   "source": [
    "confidence=[]\n",
    "\n",
    "for row in table_rows[1:]:\n",
    "    try:\n",
    "        \n",
    "        confidence.append(row.find_all('td')[8].text)\n",
    "    except AttributeError:\n",
    "        break\n",
    "    except IndexError:\n",
    "        break\n",
    "                \n",
    "print(len(confidence))\n",
    "print(confidence)"
   ]
  },
  {
   "cell_type": "code",
   "execution_count": 679,
   "metadata": {},
   "outputs": [
    {
     "name": "stdout",
     "output_type": "stream",
     "text": [
      "14\n",
      "['885', '519', '490', '847', '545', '840', '485', '314', '523', '352', '699', '404', '373', '927']\n"
     ]
    }
   ],
   "source": [
    "liquidity=[]\n",
    "\n",
    "for row in table_rows[1:]:\n",
    "    try:\n",
    "        \n",
    "        liquidity.append(row.find_all('td')[9].text)\n",
    "    except AttributeError:\n",
    "        break\n",
    "    except IndexError:\n",
    "        break\n",
    "                \n",
    "print(len(liquidity))\n",
    "print(liquidity)"
   ]
  },
  {
   "cell_type": "code",
   "execution_count": 680,
   "metadata": {},
   "outputs": [
    {
     "name": "stdout",
     "output_type": "stream",
     "text": [
      "14\n",
      "['Recently', 'Recently', 'Recently', 'Recently', 'Recently', 'Recently', 'Recently', 'Recently', 'Recently', 'Recently', 'Recently', 'Recently', 'Recently', 'Recently']\n"
     ]
    }
   ],
   "source": [
    "updated=[]\n",
    "\n",
    "for row in table_rows[1:]:\n",
    "    try:\n",
    "        \n",
    "        updated.append(row.find_all('td')[10].text)\n",
    "    except AttributeError:\n",
    "        break\n",
    "    except IndexError:\n",
    "        break\n",
    "                \n",
    "print(len(updated))\n",
    "print(updated)"
   ]
  },
  {
   "cell_type": "markdown",
   "metadata": {},
   "source": [
    "#### Combining all our columns into pandas Dataframe and viewing it"
   ]
  },
  {
   "cell_type": "code",
   "execution_count": 681,
   "metadata": {
    "scrolled": true
   },
   "outputs": [
    {
     "data": {
      "text/html": [
       "<div>\n",
       "<style scoped>\n",
       "    .dataframe tbody tr th:only-of-type {\n",
       "        vertical-align: middle;\n",
       "    }\n",
       "\n",
       "    .dataframe tbody tr th {\n",
       "        vertical-align: top;\n",
       "    }\n",
       "\n",
       "    .dataframe thead th {\n",
       "        text-align: right;\n",
       "    }\n",
       "</style>\n",
       "<table border=\"1\" class=\"dataframe\">\n",
       "  <thead>\n",
       "    <tr style=\"text-align: right;\">\n",
       "      <th></th>\n",
       "      <th>source</th>\n",
       "      <th>pairs</th>\n",
       "      <th>price</th>\n",
       "      <th>plus_2_Depth</th>\n",
       "      <th>minus_2_Depth</th>\n",
       "      <th>volume</th>\n",
       "      <th>volume_perc</th>\n",
       "      <th>confidence</th>\n",
       "      <th>liquidity</th>\n",
       "      <th>updated</th>\n",
       "    </tr>\n",
       "  </thead>\n",
       "  <tbody>\n",
       "    <tr>\n",
       "      <th>0</th>\n",
       "      <td>Binance</td>\n",
       "      <td>LINK/USDT</td>\n",
       "      <td>$27.30</td>\n",
       "      <td>$1,479,518.58</td>\n",
       "      <td>$1,420,708.61</td>\n",
       "      <td>$167,812,270</td>\n",
       "      <td>14.06%</td>\n",
       "      <td>High</td>\n",
       "      <td>885</td>\n",
       "      <td>Recently</td>\n",
       "    </tr>\n",
       "    <tr>\n",
       "      <th>1</th>\n",
       "      <td>Coinbase Exchange</td>\n",
       "      <td>LINK/USD</td>\n",
       "      <td>$27.32</td>\n",
       "      <td>$2,085,338.66</td>\n",
       "      <td>$2,858,770.92</td>\n",
       "      <td>$87,124,176</td>\n",
       "      <td>7.30%</td>\n",
       "      <td>High</td>\n",
       "      <td>519</td>\n",
       "      <td>Recently</td>\n",
       "    </tr>\n",
       "    <tr>\n",
       "      <th>2</th>\n",
       "      <td>Huobi Global</td>\n",
       "      <td>LINK/USDT</td>\n",
       "      <td>$27.30</td>\n",
       "      <td>$762,978.97</td>\n",
       "      <td>$716,976.45</td>\n",
       "      <td>$54,317,882</td>\n",
       "      <td>4.55%</td>\n",
       "      <td>Low</td>\n",
       "      <td>490</td>\n",
       "      <td>Recently</td>\n",
       "    </tr>\n",
       "    <tr>\n",
       "      <th>3</th>\n",
       "      <td>Binance</td>\n",
       "      <td>LINK/BTC</td>\n",
       "      <td>$27.28</td>\n",
       "      <td>$601,084.69</td>\n",
       "      <td>$478,267.15</td>\n",
       "      <td>$30,362,427</td>\n",
       "      <td>2.54%</td>\n",
       "      <td>High</td>\n",
       "      <td>847</td>\n",
       "      <td>Recently</td>\n",
       "    </tr>\n",
       "    <tr>\n",
       "      <th>4</th>\n",
       "      <td>FTX</td>\n",
       "      <td>LINK/USD</td>\n",
       "      <td>$27.31</td>\n",
       "      <td>$3,827,846.80</td>\n",
       "      <td>$4,081,705.35</td>\n",
       "      <td>$28,320,649</td>\n",
       "      <td>2.37%</td>\n",
       "      <td>High</td>\n",
       "      <td>545</td>\n",
       "      <td>Recently</td>\n",
       "    </tr>\n",
       "  </tbody>\n",
       "</table>\n",
       "</div>"
      ],
      "text/plain": [
       "              source      pairs   price   plus_2_Depth  minus_2_Depth  \\\n",
       "0            Binance  LINK/USDT  $27.30  $1,479,518.58  $1,420,708.61   \n",
       "1  Coinbase Exchange   LINK/USD  $27.32  $2,085,338.66  $2,858,770.92   \n",
       "2       Huobi Global  LINK/USDT  $27.30    $762,978.97    $716,976.45   \n",
       "3            Binance   LINK/BTC  $27.28    $601,084.69    $478,267.15   \n",
       "4                FTX   LINK/USD  $27.31  $3,827,846.80  $4,081,705.35   \n",
       "\n",
       "         volume volume_perc confidence liquidity   updated  \n",
       "0  $167,812,270      14.06%       High       885  Recently  \n",
       "1   $87,124,176       7.30%       High       519  Recently  \n",
       "2   $54,317,882       4.55%        Low       490  Recently  \n",
       "3   $30,362,427       2.54%       High       847  Recently  \n",
       "4   $28,320,649       2.37%       High       545  Recently  "
      ]
     },
     "metadata": {},
     "output_type": "display_data"
    }
   ],
   "source": [
    "df15 = pd.DataFrame()\n",
    "df15['source'] = source\n",
    "df15['pairs'] = pairs\n",
    "df15['price'] = price\n",
    "df15['plus_2_Depth'] = plus_2_Depth\n",
    "df15['minus_2_Depth'] = minus_2_Depth\n",
    "df15['volume'] = volume\n",
    "df15['volume_perc'] = volume_perc\n",
    "df15['confidence'] = confidence\n",
    "df15['liquidity'] = liquidity\n",
    "df15['updated'] = updated\n",
    "\n",
    "display(df15.head())\n",
    "\n",
    "# saving the pandas dataframe locally as csv file format\n",
    "df15.to_csv(\"Chainlink.csv\")"
   ]
  },
  {
   "cell_type": "markdown",
   "metadata": {},
   "source": [
    "### 18. Litecoin"
   ]
  },
  {
   "cell_type": "code",
   "execution_count": 682,
   "metadata": {},
   "outputs": [],
   "source": [
    "# Establish chrome driver and go to report site URL\n",
    "url16 = 'https://coinmarketcap.com/currencies/litecoin/markets/'\n",
    "driver = webdriver.Chrome()\n",
    "driver.get(url16)"
   ]
  },
  {
   "cell_type": "code",
   "execution_count": 683,
   "metadata": {},
   "outputs": [],
   "source": [
    "#Selenium hands the page source to Beautiful Soup\n",
    "soup = BeautifulSoup(driver.page_source, 'lxml')\n",
    "table = soup.find('table', {'class':'h7vnx2-2 ecUULi cmc-table'})"
   ]
  },
  {
   "cell_type": "markdown",
   "metadata": {},
   "source": [
    "#### Scraping the market table and its columns - Source, Pairs, Price, +2% Depth, -2% Depth, Volume, Volume %, Confidence, Liquidity, Updated.\n",
    "---"
   ]
  },
  {
   "cell_type": "code",
   "execution_count": 684,
   "metadata": {
    "scrolled": true
   },
   "outputs": [],
   "source": [
    "table_rows = table.find_all('tr')"
   ]
  },
  {
   "cell_type": "code",
   "execution_count": 685,
   "metadata": {},
   "outputs": [
    {
     "name": "stdout",
     "output_type": "stream",
     "text": [
      "14\n",
      "['Binance', 'Coinbase Exchange', 'Huobi Global', 'FTX', 'FTX', 'Binance', 'Bithumb', 'Bitfinex', 'Gate.io', 'Binance', 'KuCoin', 'FTX US', 'Coinbase Exchange', 'FTX US']\n"
     ]
    }
   ],
   "source": [
    "query = table.find_all('p', {'class': 'sc-1eb5slv-0 iworPT'})\n",
    "source=[]\n",
    "\n",
    "for x in query:\n",
    "    try:\n",
    "        source.append(x.text)\n",
    "    except AttributeError:\n",
    "        break    \n",
    "        \n",
    "print(len(source))\n",
    "print(source)"
   ]
  },
  {
   "cell_type": "code",
   "execution_count": 686,
   "metadata": {},
   "outputs": [
    {
     "name": "stdout",
     "output_type": "stream",
     "text": [
      "14\n",
      "['LTC/USDT', 'LTC/USD', 'LTC/USDT', 'LTC/USD', 'LTC/USDT', 'LTC/BTC', 'LTC/KRW', 'LTC/USD', 'LTC/USDT', 'LTC/BUSD', 'LTC/USDT', 'LTC/USD', 'LTC/BTC', 'LTC/USDT']\n"
     ]
    }
   ],
   "source": [
    "query = table.find_all('a', {'class': 'qh9zi5-0 bGASOe cmc-link'})\n",
    "pairs=[]\n",
    "\n",
    "for x in query:\n",
    "    try:\n",
    "        pairs.append(x.text)\n",
    "    except AttributeError:\n",
    "        break    \n",
    "        \n",
    "print(len(pairs))\n",
    "print(pairs)"
   ]
  },
  {
   "cell_type": "code",
   "execution_count": 687,
   "metadata": {},
   "outputs": [
    {
     "name": "stdout",
     "output_type": "stream",
     "text": [
      "14\n",
      "['$180.26', '$180.34', '$180.36', '$179.94', '$179.98', '$180.32', '$183.57', '$180.09', '$180.26', '$180.21', '$180.15', '$179.83', '$180.27', '$180.35']\n"
     ]
    }
   ],
   "source": [
    "price=[]\n",
    "\n",
    "for row in table_rows[1:]:\n",
    "    try:\n",
    "        \n",
    "        price.append(row.find_all('td')[3].text)\n",
    "    except AttributeError:\n",
    "        break\n",
    "    except IndexError:\n",
    "        break\n",
    "                \n",
    "print(len(price))\n",
    "print(price)"
   ]
  },
  {
   "cell_type": "code",
   "execution_count": 688,
   "metadata": {},
   "outputs": [
    {
     "name": "stdout",
     "output_type": "stream",
     "text": [
      "14\n",
      "['$1,006,331.59', '$1,527,419.01', '$680,741.90', '$3,129,959.68', '$2,610,912.76', '$399,063.31', '$287,198.75', '$2,328,011.22', '$754,412.43', '$484,225.35', '$822,180.99', '$2,975,580.30', '$432,144.67', '$3,371,746.11']\n"
     ]
    }
   ],
   "source": [
    "plus_2_Depth=[]\n",
    "\n",
    "for row in table_rows[1:]:\n",
    "    try:\n",
    "        \n",
    "        plus_2_Depth.append(row.find_all('td')[4].text)\n",
    "    except AttributeError:\n",
    "        break\n",
    "    except IndexError:\n",
    "        break\n",
    "                \n",
    "print(len(plus_2_Depth))\n",
    "print(plus_2_Depth)"
   ]
  },
  {
   "cell_type": "code",
   "execution_count": 689,
   "metadata": {},
   "outputs": [
    {
     "name": "stdout",
     "output_type": "stream",
     "text": [
      "14\n",
      "['$1,285,322.21', '$1,187,416.42', '$704,339.15', '$2,874,532.31', '$2,625,926.82', '$665,599.39', '$395,201.52', '$2,311,619.37', '$824,372.11', '$644,014.93', '$735,218.28', '$2,933,154.99', '$545,810.37', '$3,246,450.83']\n"
     ]
    }
   ],
   "source": [
    "minus_2_Depth=[]\n",
    "\n",
    "for row in table_rows[1:]:\n",
    "    try:\n",
    "        \n",
    "        minus_2_Depth.append(row.find_all('td')[5].text)\n",
    "    except AttributeError:\n",
    "        break\n",
    "    except IndexError:\n",
    "        break\n",
    "                \n",
    "print(len(minus_2_Depth))\n",
    "print(minus_2_Depth)"
   ]
  },
  {
   "cell_type": "code",
   "execution_count": 690,
   "metadata": {},
   "outputs": [
    {
     "name": "stdout",
     "output_type": "stream",
     "text": [
      "14\n",
      "['$160,059,428', '$94,365,740', '$85,865,354', '$60,142,273', '$45,510,529', '$37,944,805', '$27,484,266', '$26,473,010', '$24,489,150', '$21,195,092', '$16,513,623', '$16,341,317', '$13,154,122', '$12,814,141']\n"
     ]
    }
   ],
   "source": [
    "volume=[]\n",
    "\n",
    "for row in table_rows[1:]:\n",
    "    try:\n",
    "        \n",
    "        volume.append(row.find_all('td')[6].text)\n",
    "    except AttributeError:\n",
    "        break\n",
    "    except IndexError:\n",
    "        break\n",
    "                \n",
    "print(len(volume))\n",
    "print(volume)"
   ]
  },
  {
   "cell_type": "code",
   "execution_count": 691,
   "metadata": {},
   "outputs": [
    {
     "name": "stdout",
     "output_type": "stream",
     "text": [
      "14\n",
      "['4.38%', '2.58%', '2.35%', '1.64%', '1.24%', '1.04%', '0.75%', '0.72%', '0.67%', '0.58%', '0.45%', '0.45%', '0.36%', '0.35%']\n"
     ]
    }
   ],
   "source": [
    "volume_perc=[]\n",
    "\n",
    "for row in table_rows[1:]:\n",
    "    try:\n",
    "        \n",
    "        volume_perc.append(row.find_all('td')[7].text)\n",
    "    except AttributeError:\n",
    "        break\n",
    "    except IndexError:\n",
    "        break\n",
    "                \n",
    "print(len(volume_perc))\n",
    "print(volume_perc)"
   ]
  },
  {
   "cell_type": "code",
   "execution_count": 692,
   "metadata": {},
   "outputs": [
    {
     "name": "stdout",
     "output_type": "stream",
     "text": [
      "14\n",
      "['High', 'High', 'Low', 'High', 'High', 'High', 'High', 'High', 'High', 'High', 'High', 'High', 'High', 'High']\n"
     ]
    }
   ],
   "source": [
    "confidence=[]\n",
    "\n",
    "for row in table_rows[1:]:\n",
    "    try:\n",
    "        \n",
    "        confidence.append(row.find_all('td')[8].text)\n",
    "    except AttributeError:\n",
    "        break\n",
    "    except IndexError:\n",
    "        break\n",
    "                \n",
    "print(len(confidence))\n",
    "print(confidence)"
   ]
  },
  {
   "cell_type": "code",
   "execution_count": 693,
   "metadata": {},
   "outputs": [
    {
     "name": "stdout",
     "output_type": "stream",
     "text": [
      "14\n",
      "['513', '574', '481', '658', '483', '580', '205', '428', '353', '754', '442', '334', '377', '325']\n"
     ]
    }
   ],
   "source": [
    "liquidity=[]\n",
    "\n",
    "for row in table_rows[1:]:\n",
    "    try:\n",
    "        \n",
    "        liquidity.append(row.find_all('td')[9].text)\n",
    "    except AttributeError:\n",
    "        break\n",
    "    except IndexError:\n",
    "        break\n",
    "                \n",
    "print(len(liquidity))\n",
    "print(liquidity)"
   ]
  },
  {
   "cell_type": "code",
   "execution_count": 694,
   "metadata": {},
   "outputs": [
    {
     "name": "stdout",
     "output_type": "stream",
     "text": [
      "14\n",
      "['Recently', 'Recently', 'Recently', 'Recently', 'Recently', 'Recently', 'Recently', 'Recently', 'Recently', 'Recently', 'Recently', 'Recently', 'Recently', 'Recently']\n"
     ]
    }
   ],
   "source": [
    "updated=[]\n",
    "\n",
    "for row in table_rows[1:]:\n",
    "    try:\n",
    "        \n",
    "        updated.append(row.find_all('td')[10].text)\n",
    "    except AttributeError:\n",
    "        break\n",
    "    except IndexError:\n",
    "        break\n",
    "                \n",
    "print(len(updated))\n",
    "print(updated)"
   ]
  },
  {
   "cell_type": "markdown",
   "metadata": {},
   "source": [
    "#### Combining all our columns into pandas Dataframe and viewing it"
   ]
  },
  {
   "cell_type": "code",
   "execution_count": 695,
   "metadata": {
    "scrolled": false
   },
   "outputs": [
    {
     "data": {
      "text/html": [
       "<div>\n",
       "<style scoped>\n",
       "    .dataframe tbody tr th:only-of-type {\n",
       "        vertical-align: middle;\n",
       "    }\n",
       "\n",
       "    .dataframe tbody tr th {\n",
       "        vertical-align: top;\n",
       "    }\n",
       "\n",
       "    .dataframe thead th {\n",
       "        text-align: right;\n",
       "    }\n",
       "</style>\n",
       "<table border=\"1\" class=\"dataframe\">\n",
       "  <thead>\n",
       "    <tr style=\"text-align: right;\">\n",
       "      <th></th>\n",
       "      <th>source</th>\n",
       "      <th>pairs</th>\n",
       "      <th>price</th>\n",
       "      <th>plus_2_Depth</th>\n",
       "      <th>minus_2_Depth</th>\n",
       "      <th>volume</th>\n",
       "      <th>volume_perc</th>\n",
       "      <th>confidence</th>\n",
       "      <th>liquidity</th>\n",
       "      <th>updated</th>\n",
       "    </tr>\n",
       "  </thead>\n",
       "  <tbody>\n",
       "    <tr>\n",
       "      <th>0</th>\n",
       "      <td>Binance</td>\n",
       "      <td>LTC/USDT</td>\n",
       "      <td>$180.26</td>\n",
       "      <td>$1,006,331.59</td>\n",
       "      <td>$1,285,322.21</td>\n",
       "      <td>$160,059,428</td>\n",
       "      <td>4.38%</td>\n",
       "      <td>High</td>\n",
       "      <td>513</td>\n",
       "      <td>Recently</td>\n",
       "    </tr>\n",
       "    <tr>\n",
       "      <th>1</th>\n",
       "      <td>Coinbase Exchange</td>\n",
       "      <td>LTC/USD</td>\n",
       "      <td>$180.34</td>\n",
       "      <td>$1,527,419.01</td>\n",
       "      <td>$1,187,416.42</td>\n",
       "      <td>$94,365,740</td>\n",
       "      <td>2.58%</td>\n",
       "      <td>High</td>\n",
       "      <td>574</td>\n",
       "      <td>Recently</td>\n",
       "    </tr>\n",
       "    <tr>\n",
       "      <th>2</th>\n",
       "      <td>Huobi Global</td>\n",
       "      <td>LTC/USDT</td>\n",
       "      <td>$180.36</td>\n",
       "      <td>$680,741.90</td>\n",
       "      <td>$704,339.15</td>\n",
       "      <td>$85,865,354</td>\n",
       "      <td>2.35%</td>\n",
       "      <td>Low</td>\n",
       "      <td>481</td>\n",
       "      <td>Recently</td>\n",
       "    </tr>\n",
       "    <tr>\n",
       "      <th>3</th>\n",
       "      <td>FTX</td>\n",
       "      <td>LTC/USD</td>\n",
       "      <td>$179.94</td>\n",
       "      <td>$3,129,959.68</td>\n",
       "      <td>$2,874,532.31</td>\n",
       "      <td>$60,142,273</td>\n",
       "      <td>1.64%</td>\n",
       "      <td>High</td>\n",
       "      <td>658</td>\n",
       "      <td>Recently</td>\n",
       "    </tr>\n",
       "    <tr>\n",
       "      <th>4</th>\n",
       "      <td>FTX</td>\n",
       "      <td>LTC/USDT</td>\n",
       "      <td>$179.98</td>\n",
       "      <td>$2,610,912.76</td>\n",
       "      <td>$2,625,926.82</td>\n",
       "      <td>$45,510,529</td>\n",
       "      <td>1.24%</td>\n",
       "      <td>High</td>\n",
       "      <td>483</td>\n",
       "      <td>Recently</td>\n",
       "    </tr>\n",
       "  </tbody>\n",
       "</table>\n",
       "</div>"
      ],
      "text/plain": [
       "              source     pairs    price   plus_2_Depth  minus_2_Depth  \\\n",
       "0            Binance  LTC/USDT  $180.26  $1,006,331.59  $1,285,322.21   \n",
       "1  Coinbase Exchange   LTC/USD  $180.34  $1,527,419.01  $1,187,416.42   \n",
       "2       Huobi Global  LTC/USDT  $180.36    $680,741.90    $704,339.15   \n",
       "3                FTX   LTC/USD  $179.94  $3,129,959.68  $2,874,532.31   \n",
       "4                FTX  LTC/USDT  $179.98  $2,610,912.76  $2,625,926.82   \n",
       "\n",
       "         volume volume_perc confidence liquidity   updated  \n",
       "0  $160,059,428       4.38%       High       513  Recently  \n",
       "1   $94,365,740       2.58%       High       574  Recently  \n",
       "2   $85,865,354       2.35%        Low       481  Recently  \n",
       "3   $60,142,273       1.64%       High       658  Recently  \n",
       "4   $45,510,529       1.24%       High       483  Recently  "
      ]
     },
     "metadata": {},
     "output_type": "display_data"
    }
   ],
   "source": [
    "df16 = pd.DataFrame()\n",
    "df16['source'] = source\n",
    "df16['pairs'] = pairs\n",
    "df16['price'] = price\n",
    "df16['plus_2_Depth'] = plus_2_Depth\n",
    "df16['minus_2_Depth'] = minus_2_Depth\n",
    "df16['volume'] = volume\n",
    "df16['volume_perc'] = volume_perc\n",
    "df16['confidence'] = confidence\n",
    "df16['liquidity'] = liquidity\n",
    "df16['updated'] = updated\n",
    "\n",
    "display(df16.head())\n",
    "\n",
    "# saving the pandas dataframe locally as csv file format\n",
    "df16.to_csv(\"Litecoin.csv\")"
   ]
  },
  {
   "cell_type": "markdown",
   "metadata": {},
   "source": [
    "### 19. Algorand"
   ]
  },
  {
   "cell_type": "code",
   "execution_count": 696,
   "metadata": {},
   "outputs": [],
   "source": [
    "# Establish chrome driver and go to report site URL\n",
    "url17 = 'https://coinmarketcap.com/currencies/algorand/markets/'\n",
    "driver = webdriver.Chrome()\n",
    "driver.get(url17)"
   ]
  },
  {
   "cell_type": "code",
   "execution_count": 697,
   "metadata": {},
   "outputs": [],
   "source": [
    "#Selenium hands the page source to Beautiful Soup\n",
    "soup = BeautifulSoup(driver.page_source, 'lxml')\n",
    "table = soup.find('table', {'class':'h7vnx2-2 ecUULi cmc-table'})"
   ]
  },
  {
   "cell_type": "markdown",
   "metadata": {},
   "source": [
    "#### Scraping the market table and its columns - Source, Pairs, Price, +2% Depth, -2% Depth, Volume, Volume %, Confidence, Liquidity, Updated.\n",
    "---"
   ]
  },
  {
   "cell_type": "code",
   "execution_count": 698,
   "metadata": {
    "scrolled": true
   },
   "outputs": [],
   "source": [
    "table_rows = table.find_all('tr')"
   ]
  },
  {
   "cell_type": "code",
   "execution_count": 699,
   "metadata": {},
   "outputs": [
    {
     "name": "stdout",
     "output_type": "stream",
     "text": [
      "14\n",
      "['Binance', 'Coinbase Exchange', 'Huobi Global', 'Binance', 'Binance.US', 'Binance', 'KuCoin', 'Kraken', 'Coinbase Exchange', 'Coinbase Exchange', 'Gate.io', 'Coinbase Exchange', 'Huobi Global', 'Kraken']\n"
     ]
    }
   ],
   "source": [
    "query = table.find_all('p', {'class': 'sc-1eb5slv-0 iworPT'})\n",
    "source=[]\n",
    "\n",
    "for x in query:\n",
    "    try:\n",
    "        source.append(x.text)\n",
    "    except AttributeError:\n",
    "        break    \n",
    "        \n",
    "print(len(source))\n",
    "print(source)"
   ]
  },
  {
   "cell_type": "code",
   "execution_count": 700,
   "metadata": {},
   "outputs": [
    {
     "name": "stdout",
     "output_type": "stream",
     "text": [
      "14\n",
      "['ALGO/USDT', 'ALGO/USD', 'ALGO/USDT', 'ALGO/BUSD', 'ALGO/USD', 'ALGO/BTC', 'ALGO/USDT', 'ALGO/USD', 'ALGO/BTC', 'ALGO/EUR', 'ALGO/USDT', 'ALGO/GBP', 'ALGO/BTC', 'ALGO/EUR']\n"
     ]
    }
   ],
   "source": [
    "query = table.find_all('a', {'class': 'qh9zi5-0 bGASOe cmc-link'})\n",
    "pairs=[]\n",
    "\n",
    "for x in query:\n",
    "    try:\n",
    "        pairs.append(x.text)\n",
    "    except AttributeError:\n",
    "        break    \n",
    "        \n",
    "print(len(pairs))\n",
    "print(pairs)"
   ]
  },
  {
   "cell_type": "code",
   "execution_count": 701,
   "metadata": {},
   "outputs": [
    {
     "name": "stdout",
     "output_type": "stream",
     "text": [
      "14\n",
      "['$1.89', '$1.89', '$1.89', '$1.89', '$1.89', '$1.89', '$1.89', '$1.89', '$1.89', '$1.89', '$1.89', '$1.89', '$1.89', '$1.89']\n"
     ]
    }
   ],
   "source": [
    "price=[]\n",
    "\n",
    "for row in table_rows[1:]:\n",
    "    try:\n",
    "        \n",
    "        price.append(row.find_all('td')[3].text)\n",
    "    except AttributeError:\n",
    "        break\n",
    "    except IndexError:\n",
    "        break\n",
    "                \n",
    "print(len(price))\n",
    "print(price)"
   ]
  },
  {
   "cell_type": "code",
   "execution_count": 702,
   "metadata": {},
   "outputs": [
    {
     "name": "stdout",
     "output_type": "stream",
     "text": [
      "14\n",
      "['$554,424.76', '$1,634,853.18', '$341,033.77', '$269,764.65', '$352,624.21', '$107,987.33', '$1,037,496.73', '$496,989.33', '$301,086.02', '$380,516.31', '$570,474.20', '$373,689.93', '$66,962.43', '$341,423.16']\n"
     ]
    }
   ],
   "source": [
    "plus_2_Depth=[]\n",
    "\n",
    "for row in table_rows[1:]:\n",
    "    try:\n",
    "        \n",
    "        plus_2_Depth.append(row.find_all('td')[4].text)\n",
    "    except AttributeError:\n",
    "        break\n",
    "    except IndexError:\n",
    "        break\n",
    "                \n",
    "print(len(plus_2_Depth))\n",
    "print(plus_2_Depth)"
   ]
  },
  {
   "cell_type": "code",
   "execution_count": 703,
   "metadata": {},
   "outputs": [
    {
     "name": "stdout",
     "output_type": "stream",
     "text": [
      "14\n",
      "['$909,390.22', '$2,347,139.09', '$286,474.56', '$371,105.67', '$391,861.83', '$367,600.64', '$859,752.92', '$711,637.60', '$435,364.06', '$364,488.99', '$620,278.10', '$355,666.77', '$76,619.91', '$530,883.66']\n"
     ]
    }
   ],
   "source": [
    "minus_2_Depth=[]\n",
    "\n",
    "for row in table_rows[1:]:\n",
    "    try:\n",
    "        \n",
    "        minus_2_Depth.append(row.find_all('td')[5].text)\n",
    "    except AttributeError:\n",
    "        break\n",
    "    except IndexError:\n",
    "        break\n",
    "                \n",
    "print(len(minus_2_Depth))\n",
    "print(minus_2_Depth)"
   ]
  },
  {
   "cell_type": "code",
   "execution_count": 704,
   "metadata": {},
   "outputs": [
    {
     "name": "stdout",
     "output_type": "stream",
     "text": [
      "14\n",
      "['$136,785,764', '$94,469,353', '$25,058,071', '$23,171,628', '$19,025,088', '$16,292,375', '$15,795,423', '$9,329,558', '$8,990,971', '$8,166,362', '$7,173,736', '$5,583,403', '$3,481,276', '$2,962,658']\n"
     ]
    }
   ],
   "source": [
    "volume=[]\n",
    "\n",
    "for row in table_rows[1:]:\n",
    "    try:\n",
    "        \n",
    "        volume.append(row.find_all('td')[6].text)\n",
    "    except AttributeError:\n",
    "        break\n",
    "    except IndexError:\n",
    "        break\n",
    "                \n",
    "print(len(volume))\n",
    "print(volume)"
   ]
  },
  {
   "cell_type": "code",
   "execution_count": 705,
   "metadata": {},
   "outputs": [
    {
     "name": "stdout",
     "output_type": "stream",
     "text": [
      "14\n",
      "['20.78%', '14.35%', '3.81%', '3.52%', '2.89%', '2.47%', '2.40%', '1.42%', '1.37%', '1.24%', '1.09%', '0.85%', '0.53%', '0.45%']\n"
     ]
    }
   ],
   "source": [
    "volume_perc=[]\n",
    "\n",
    "for row in table_rows[1:]:\n",
    "    try:\n",
    "        \n",
    "        volume_perc.append(row.find_all('td')[7].text)\n",
    "    except AttributeError:\n",
    "        break\n",
    "    except IndexError:\n",
    "        break\n",
    "                \n",
    "print(len(volume_perc))\n",
    "print(volume_perc)"
   ]
  },
  {
   "cell_type": "code",
   "execution_count": 706,
   "metadata": {},
   "outputs": [
    {
     "name": "stdout",
     "output_type": "stream",
     "text": [
      "14\n",
      "['High', 'High', 'Low', 'High', 'High', 'High', 'High', 'High', 'High', 'High', 'High', 'High', 'Moderate', 'High']\n"
     ]
    }
   ],
   "source": [
    "confidence=[]\n",
    "\n",
    "for row in table_rows[1:]:\n",
    "    try:\n",
    "        \n",
    "        confidence.append(row.find_all('td')[8].text)\n",
    "    except AttributeError:\n",
    "        break\n",
    "    except IndexError:\n",
    "        break\n",
    "                \n",
    "print(len(confidence))\n",
    "print(confidence)"
   ]
  },
  {
   "cell_type": "code",
   "execution_count": 707,
   "metadata": {},
   "outputs": [
    {
     "name": "stdout",
     "output_type": "stream",
     "text": [
      "14\n",
      "['640', '448', '366', '817', '693', '935', '309', '416', '330', '299', '321', '268', '235', '351']\n"
     ]
    }
   ],
   "source": [
    "liquidity=[]\n",
    "\n",
    "for row in table_rows[1:]:\n",
    "    try:\n",
    "        \n",
    "        liquidity.append(row.find_all('td')[9].text)\n",
    "    except AttributeError:\n",
    "        break\n",
    "    except IndexError:\n",
    "        break\n",
    "                \n",
    "print(len(liquidity))\n",
    "print(liquidity)"
   ]
  },
  {
   "cell_type": "code",
   "execution_count": 708,
   "metadata": {},
   "outputs": [
    {
     "name": "stdout",
     "output_type": "stream",
     "text": [
      "14\n",
      "['Recently', 'Recently', 'Recently', 'Recently', 'Recently', 'Recently', 'Recently', 'Recently', 'Recently', 'Recently', 'Recently', 'Recently', 'Recently', 'Recently']\n"
     ]
    }
   ],
   "source": [
    "updated=[]\n",
    "\n",
    "for row in table_rows[1:]:\n",
    "    try:\n",
    "        \n",
    "        updated.append(row.find_all('td')[10].text)\n",
    "    except AttributeError:\n",
    "        break\n",
    "    except IndexError:\n",
    "        break\n",
    "                \n",
    "print(len(updated))\n",
    "print(updated)"
   ]
  },
  {
   "cell_type": "markdown",
   "metadata": {},
   "source": [
    "#### Combining all our columns into pandas Dataframe and viewing it"
   ]
  },
  {
   "cell_type": "code",
   "execution_count": 709,
   "metadata": {
    "scrolled": false
   },
   "outputs": [
    {
     "data": {
      "text/html": [
       "<div>\n",
       "<style scoped>\n",
       "    .dataframe tbody tr th:only-of-type {\n",
       "        vertical-align: middle;\n",
       "    }\n",
       "\n",
       "    .dataframe tbody tr th {\n",
       "        vertical-align: top;\n",
       "    }\n",
       "\n",
       "    .dataframe thead th {\n",
       "        text-align: right;\n",
       "    }\n",
       "</style>\n",
       "<table border=\"1\" class=\"dataframe\">\n",
       "  <thead>\n",
       "    <tr style=\"text-align: right;\">\n",
       "      <th></th>\n",
       "      <th>source</th>\n",
       "      <th>pairs</th>\n",
       "      <th>price</th>\n",
       "      <th>plus_2_Depth</th>\n",
       "      <th>minus_2_Depth</th>\n",
       "      <th>volume</th>\n",
       "      <th>volume_perc</th>\n",
       "      <th>confidence</th>\n",
       "      <th>liquidity</th>\n",
       "      <th>updated</th>\n",
       "    </tr>\n",
       "  </thead>\n",
       "  <tbody>\n",
       "    <tr>\n",
       "      <th>0</th>\n",
       "      <td>Binance</td>\n",
       "      <td>ALGO/USDT</td>\n",
       "      <td>$1.89</td>\n",
       "      <td>$554,424.76</td>\n",
       "      <td>$909,390.22</td>\n",
       "      <td>$136,785,764</td>\n",
       "      <td>20.78%</td>\n",
       "      <td>High</td>\n",
       "      <td>640</td>\n",
       "      <td>Recently</td>\n",
       "    </tr>\n",
       "    <tr>\n",
       "      <th>1</th>\n",
       "      <td>Coinbase Exchange</td>\n",
       "      <td>ALGO/USD</td>\n",
       "      <td>$1.89</td>\n",
       "      <td>$1,634,853.18</td>\n",
       "      <td>$2,347,139.09</td>\n",
       "      <td>$94,469,353</td>\n",
       "      <td>14.35%</td>\n",
       "      <td>High</td>\n",
       "      <td>448</td>\n",
       "      <td>Recently</td>\n",
       "    </tr>\n",
       "    <tr>\n",
       "      <th>2</th>\n",
       "      <td>Huobi Global</td>\n",
       "      <td>ALGO/USDT</td>\n",
       "      <td>$1.89</td>\n",
       "      <td>$341,033.77</td>\n",
       "      <td>$286,474.56</td>\n",
       "      <td>$25,058,071</td>\n",
       "      <td>3.81%</td>\n",
       "      <td>Low</td>\n",
       "      <td>366</td>\n",
       "      <td>Recently</td>\n",
       "    </tr>\n",
       "    <tr>\n",
       "      <th>3</th>\n",
       "      <td>Binance</td>\n",
       "      <td>ALGO/BUSD</td>\n",
       "      <td>$1.89</td>\n",
       "      <td>$269,764.65</td>\n",
       "      <td>$371,105.67</td>\n",
       "      <td>$23,171,628</td>\n",
       "      <td>3.52%</td>\n",
       "      <td>High</td>\n",
       "      <td>817</td>\n",
       "      <td>Recently</td>\n",
       "    </tr>\n",
       "    <tr>\n",
       "      <th>4</th>\n",
       "      <td>Binance.US</td>\n",
       "      <td>ALGO/USD</td>\n",
       "      <td>$1.89</td>\n",
       "      <td>$352,624.21</td>\n",
       "      <td>$391,861.83</td>\n",
       "      <td>$19,025,088</td>\n",
       "      <td>2.89%</td>\n",
       "      <td>High</td>\n",
       "      <td>693</td>\n",
       "      <td>Recently</td>\n",
       "    </tr>\n",
       "  </tbody>\n",
       "</table>\n",
       "</div>"
      ],
      "text/plain": [
       "              source      pairs  price   plus_2_Depth  minus_2_Depth  \\\n",
       "0            Binance  ALGO/USDT  $1.89    $554,424.76    $909,390.22   \n",
       "1  Coinbase Exchange   ALGO/USD  $1.89  $1,634,853.18  $2,347,139.09   \n",
       "2       Huobi Global  ALGO/USDT  $1.89    $341,033.77    $286,474.56   \n",
       "3            Binance  ALGO/BUSD  $1.89    $269,764.65    $371,105.67   \n",
       "4         Binance.US   ALGO/USD  $1.89    $352,624.21    $391,861.83   \n",
       "\n",
       "         volume volume_perc confidence liquidity   updated  \n",
       "0  $136,785,764      20.78%       High       640  Recently  \n",
       "1   $94,469,353      14.35%       High       448  Recently  \n",
       "2   $25,058,071       3.81%        Low       366  Recently  \n",
       "3   $23,171,628       3.52%       High       817  Recently  \n",
       "4   $19,025,088       2.89%       High       693  Recently  "
      ]
     },
     "metadata": {},
     "output_type": "display_data"
    }
   ],
   "source": [
    "df17 = pd.DataFrame()\n",
    "df17['source'] = source\n",
    "df17['pairs'] = pairs\n",
    "df17['price'] = price\n",
    "df17['plus_2_Depth'] = plus_2_Depth\n",
    "df17['minus_2_Depth'] = minus_2_Depth\n",
    "df17['volume'] = volume\n",
    "df17['volume_perc'] = volume_perc\n",
    "df17['confidence'] = confidence\n",
    "df17['liquidity'] = liquidity\n",
    "df17['updated'] = updated\n",
    "\n",
    "display(df17.head())\n",
    "\n",
    "# saving the pandas dataframe locally as csv file format\n",
    "df17.to_csv(\"Algorand.csv\")"
   ]
  },
  {
   "cell_type": "markdown",
   "metadata": {},
   "source": [
    "### [20. Bitcoin cash](#eighteenth)"
   ]
  },
  {
   "cell_type": "code",
   "execution_count": 710,
   "metadata": {},
   "outputs": [],
   "source": [
    "# Establish chrome driver and go to report site URL\n",
    "url18 = 'https://coinmarketcap.com/currencies/bitcoin-cash/markets/'\n",
    "driver = webdriver.Chrome()\n",
    "driver.get(url18)"
   ]
  },
  {
   "cell_type": "code",
   "execution_count": 711,
   "metadata": {},
   "outputs": [],
   "source": [
    "#Selenium hands the page source to Beautiful Soup\n",
    "soup = BeautifulSoup(driver.page_source, 'lxml')\n",
    "table = soup.find('table', {'class':'h7vnx2-2 ecUULi cmc-table'})"
   ]
  },
  {
   "cell_type": "markdown",
   "metadata": {},
   "source": [
    "#### Scraping the market table and its columns - Source, Pairs, Price, +2% Depth, -2% Depth, Volume, Volume %, Confidence, Liquidity, Updated.\n",
    "---"
   ]
  },
  {
   "cell_type": "code",
   "execution_count": 712,
   "metadata": {
    "scrolled": true
   },
   "outputs": [],
   "source": [
    "table_rows = table.find_all('tr')"
   ]
  },
  {
   "cell_type": "code",
   "execution_count": 713,
   "metadata": {},
   "outputs": [
    {
     "name": "stdout",
     "output_type": "stream",
     "text": [
      "13\n",
      "['Binance', 'Huobi Global', 'Coinbase Exchange', 'FTX US', 'FTX US', 'FTX', 'Gate.io', 'Binance', 'Huobi Global', 'FTX US', 'Binance', 'Coinbase Exchange', 'Bithumb']\n"
     ]
    }
   ],
   "source": [
    "query = table.find_all('p', {'class': 'sc-1eb5slv-0 iworPT'})\n",
    "source=[]\n",
    "\n",
    "for x in query:\n",
    "    try:\n",
    "        source.append(x.text)\n",
    "    except AttributeError:\n",
    "        break    \n",
    "        \n",
    "print(len(source))\n",
    "print(source)"
   ]
  },
  {
   "cell_type": "code",
   "execution_count": 714,
   "metadata": {},
   "outputs": [
    {
     "name": "stdout",
     "output_type": "stream",
     "text": [
      "13\n",
      "['BCH/USDT', 'BCH/USDT', 'BCH/USD', 'BCH/USD', 'BCH/USDT', 'BCH/USD', 'BCH/USDT', 'BCH/BTC', 'BCH/BTC', 'BCH/BTC', 'BCH/BUSD', 'BCH/BTC', 'BCH/KRW']\n"
     ]
    }
   ],
   "source": [
    "query = table.find_all('a', {'class': 'qh9zi5-0 bGASOe cmc-link'})\n",
    "pairs=[]\n",
    "\n",
    "for x in query:\n",
    "    try:\n",
    "        pairs.append(x.text)\n",
    "    except AttributeError:\n",
    "        break    \n",
    "        \n",
    "print(len(pairs))\n",
    "print(pairs)"
   ]
  },
  {
   "cell_type": "code",
   "execution_count": 715,
   "metadata": {},
   "outputs": [
    {
     "name": "stdout",
     "output_type": "stream",
     "text": [
      "13\n",
      "['$614.48', '$614.49', '$614.70', '$614.67', '$614.90', '$614.45', '$614.58', '$614.39', '$614.66', '$620.09', '$614.62', '$614.93', '$626.59']\n"
     ]
    }
   ],
   "source": [
    "price=[]\n",
    "\n",
    "for row in table_rows[1:]:\n",
    "    try:\n",
    "        \n",
    "        price.append(row.find_all('td')[3].text)\n",
    "    except AttributeError:\n",
    "        break\n",
    "    except IndexError:\n",
    "        break\n",
    "                \n",
    "print(len(price))\n",
    "print(price)"
   ]
  },
  {
   "cell_type": "code",
   "execution_count": 716,
   "metadata": {},
   "outputs": [
    {
     "name": "stdout",
     "output_type": "stream",
     "text": [
      "13\n",
      "['$1,115,625.02', '$571,221.12', '$1,062,361.57', '$5,022,909.92', '$5,014,833.85', '$1,607,288.00', '$600,736.29', '$434,840.53', '$205,044.05', '$4,661,488.05', '$583,164.29', '$426,854.38', '$249,955.33']\n"
     ]
    }
   ],
   "source": [
    "plus_2_Depth=[]\n",
    "\n",
    "for row in table_rows[1:]:\n",
    "    try:\n",
    "        \n",
    "        plus_2_Depth.append(row.find_all('td')[4].text)\n",
    "    except AttributeError:\n",
    "        break\n",
    "    except IndexError:\n",
    "        break\n",
    "                \n",
    "print(len(plus_2_Depth))\n",
    "print(plus_2_Depth)"
   ]
  },
  {
   "cell_type": "code",
   "execution_count": 717,
   "metadata": {},
   "outputs": [
    {
     "name": "stdout",
     "output_type": "stream",
     "text": [
      "13\n",
      "['$1,377,918.83', '$448,193.36', '$1,199,542.42', '$4,417,796.69', '$4,799,643.51', '$704,377.43', '$1,001,236.83', '$288,769.48', '$220,789.56', '$4,304,043.36', '$596,328.36', '$537,895.35', '$343,545.55']\n"
     ]
    }
   ],
   "source": [
    "minus_2_Depth=[]\n",
    "\n",
    "for row in table_rows[1:]:\n",
    "    try:\n",
    "        \n",
    "        minus_2_Depth.append(row.find_all('td')[5].text)\n",
    "    except AttributeError:\n",
    "        break\n",
    "    except IndexError:\n",
    "        break\n",
    "                \n",
    "print(len(minus_2_Depth))\n",
    "print(minus_2_Depth)"
   ]
  },
  {
   "cell_type": "code",
   "execution_count": 718,
   "metadata": {},
   "outputs": [
    {
     "name": "stdout",
     "output_type": "stream",
     "text": [
      "13\n",
      "['$98,471,785', '$54,588,097', '$30,191,851', '$29,117,210', '$26,678,106', '$16,620,776', '$12,816,942', '$12,621,293', '$10,369,479', '$9,227,140', '$9,096,393', '$8,531,471', '$6,778,153']\n"
     ]
    }
   ],
   "source": [
    "volume=[]\n",
    "\n",
    "for row in table_rows[1:]:\n",
    "    try:\n",
    "        \n",
    "        volume.append(row.find_all('td')[6].text)\n",
    "    except AttributeError:\n",
    "        break\n",
    "    except IndexError:\n",
    "        break\n",
    "                \n",
    "print(len(volume))\n",
    "print(volume)"
   ]
  },
  {
   "cell_type": "code",
   "execution_count": 719,
   "metadata": {},
   "outputs": [
    {
     "name": "stdout",
     "output_type": "stream",
     "text": [
      "13\n",
      "['6.43%', '3.57%', '1.97%', '1.90%', '1.74%', '1.09%', '0.84%', '0.82%', '0.68%', '0.60%', '0.59%', '0.56%', '0.44%']\n"
     ]
    }
   ],
   "source": [
    "volume_perc=[]\n",
    "\n",
    "for row in table_rows[1:]:\n",
    "    try:\n",
    "        \n",
    "        volume_perc.append(row.find_all('td')[7].text)\n",
    "    except AttributeError:\n",
    "        break\n",
    "    except IndexError:\n",
    "        break\n",
    "                \n",
    "print(len(volume_perc))\n",
    "print(volume_perc)"
   ]
  },
  {
   "cell_type": "code",
   "execution_count": 720,
   "metadata": {},
   "outputs": [
    {
     "name": "stdout",
     "output_type": "stream",
     "text": [
      "13\n",
      "['High', 'Low', 'High', 'High', 'High', 'High', 'High', 'High', 'High', 'High', 'High', 'High', 'High']\n"
     ]
    }
   ],
   "source": [
    "confidence=[]\n",
    "\n",
    "for row in table_rows[1:]:\n",
    "    try:\n",
    "        \n",
    "        confidence.append(row.find_all('td')[8].text)\n",
    "    except AttributeError:\n",
    "        break\n",
    "    except IndexError:\n",
    "        break\n",
    "                \n",
    "print(len(confidence))\n",
    "print(confidence)"
   ]
  },
  {
   "cell_type": "code",
   "execution_count": 721,
   "metadata": {},
   "outputs": [
    {
     "name": "stdout",
     "output_type": "stream",
     "text": [
      "13\n",
      "['503', '447', '488', '365', '381', '489', '415', '672', '514', '275', '866', '279', '229']\n"
     ]
    }
   ],
   "source": [
    "liquidity=[]\n",
    "\n",
    "for row in table_rows[1:]:\n",
    "    try:\n",
    "        \n",
    "        liquidity.append(row.find_all('td')[9].text)\n",
    "    except AttributeError:\n",
    "        break\n",
    "    except IndexError:\n",
    "        break\n",
    "                \n",
    "print(len(liquidity))\n",
    "print(liquidity)"
   ]
  },
  {
   "cell_type": "code",
   "execution_count": 722,
   "metadata": {},
   "outputs": [
    {
     "name": "stdout",
     "output_type": "stream",
     "text": [
      "13\n",
      "['Recently', 'Recently', 'Recently', 'Recently', 'Recently', 'Recently', 'Recently', 'Recently', 'Recently', 'Recently', 'Recently', 'Recently', 'Recently']\n"
     ]
    }
   ],
   "source": [
    "updated=[]\n",
    "\n",
    "for row in table_rows[1:]:\n",
    "    try:\n",
    "        \n",
    "        updated.append(row.find_all('td')[10].text)\n",
    "    except AttributeError:\n",
    "        break\n",
    "    except IndexError:\n",
    "        break\n",
    "                \n",
    "print(len(updated))\n",
    "print(updated)"
   ]
  },
  {
   "cell_type": "markdown",
   "metadata": {},
   "source": [
    "#### Combining all our columns into pandas Dataframe and viewing it"
   ]
  },
  {
   "cell_type": "code",
   "execution_count": 723,
   "metadata": {
    "scrolled": false
   },
   "outputs": [
    {
     "data": {
      "text/html": [
       "<div>\n",
       "<style scoped>\n",
       "    .dataframe tbody tr th:only-of-type {\n",
       "        vertical-align: middle;\n",
       "    }\n",
       "\n",
       "    .dataframe tbody tr th {\n",
       "        vertical-align: top;\n",
       "    }\n",
       "\n",
       "    .dataframe thead th {\n",
       "        text-align: right;\n",
       "    }\n",
       "</style>\n",
       "<table border=\"1\" class=\"dataframe\">\n",
       "  <thead>\n",
       "    <tr style=\"text-align: right;\">\n",
       "      <th></th>\n",
       "      <th>source</th>\n",
       "      <th>pairs</th>\n",
       "      <th>price</th>\n",
       "      <th>plus_2_Depth</th>\n",
       "      <th>minus_2_Depth</th>\n",
       "      <th>volume</th>\n",
       "      <th>volume_perc</th>\n",
       "      <th>confidence</th>\n",
       "      <th>liquidity</th>\n",
       "      <th>updated</th>\n",
       "    </tr>\n",
       "  </thead>\n",
       "  <tbody>\n",
       "    <tr>\n",
       "      <th>0</th>\n",
       "      <td>Binance</td>\n",
       "      <td>BCH/USDT</td>\n",
       "      <td>$614.48</td>\n",
       "      <td>$1,115,625.02</td>\n",
       "      <td>$1,377,918.83</td>\n",
       "      <td>$98,471,785</td>\n",
       "      <td>6.43%</td>\n",
       "      <td>High</td>\n",
       "      <td>503</td>\n",
       "      <td>Recently</td>\n",
       "    </tr>\n",
       "    <tr>\n",
       "      <th>1</th>\n",
       "      <td>Huobi Global</td>\n",
       "      <td>BCH/USDT</td>\n",
       "      <td>$614.49</td>\n",
       "      <td>$571,221.12</td>\n",
       "      <td>$448,193.36</td>\n",
       "      <td>$54,588,097</td>\n",
       "      <td>3.57%</td>\n",
       "      <td>Low</td>\n",
       "      <td>447</td>\n",
       "      <td>Recently</td>\n",
       "    </tr>\n",
       "    <tr>\n",
       "      <th>2</th>\n",
       "      <td>Coinbase Exchange</td>\n",
       "      <td>BCH/USD</td>\n",
       "      <td>$614.70</td>\n",
       "      <td>$1,062,361.57</td>\n",
       "      <td>$1,199,542.42</td>\n",
       "      <td>$30,191,851</td>\n",
       "      <td>1.97%</td>\n",
       "      <td>High</td>\n",
       "      <td>488</td>\n",
       "      <td>Recently</td>\n",
       "    </tr>\n",
       "    <tr>\n",
       "      <th>3</th>\n",
       "      <td>FTX US</td>\n",
       "      <td>BCH/USD</td>\n",
       "      <td>$614.67</td>\n",
       "      <td>$5,022,909.92</td>\n",
       "      <td>$4,417,796.69</td>\n",
       "      <td>$29,117,210</td>\n",
       "      <td>1.90%</td>\n",
       "      <td>High</td>\n",
       "      <td>365</td>\n",
       "      <td>Recently</td>\n",
       "    </tr>\n",
       "    <tr>\n",
       "      <th>4</th>\n",
       "      <td>FTX US</td>\n",
       "      <td>BCH/USDT</td>\n",
       "      <td>$614.90</td>\n",
       "      <td>$5,014,833.85</td>\n",
       "      <td>$4,799,643.51</td>\n",
       "      <td>$26,678,106</td>\n",
       "      <td>1.74%</td>\n",
       "      <td>High</td>\n",
       "      <td>381</td>\n",
       "      <td>Recently</td>\n",
       "    </tr>\n",
       "  </tbody>\n",
       "</table>\n",
       "</div>"
      ],
      "text/plain": [
       "              source     pairs    price   plus_2_Depth  minus_2_Depth  \\\n",
       "0            Binance  BCH/USDT  $614.48  $1,115,625.02  $1,377,918.83   \n",
       "1       Huobi Global  BCH/USDT  $614.49    $571,221.12    $448,193.36   \n",
       "2  Coinbase Exchange   BCH/USD  $614.70  $1,062,361.57  $1,199,542.42   \n",
       "3             FTX US   BCH/USD  $614.67  $5,022,909.92  $4,417,796.69   \n",
       "4             FTX US  BCH/USDT  $614.90  $5,014,833.85  $4,799,643.51   \n",
       "\n",
       "        volume volume_perc confidence liquidity   updated  \n",
       "0  $98,471,785       6.43%       High       503  Recently  \n",
       "1  $54,588,097       3.57%        Low       447  Recently  \n",
       "2  $30,191,851       1.97%       High       488  Recently  \n",
       "3  $29,117,210       1.90%       High       365  Recently  \n",
       "4  $26,678,106       1.74%       High       381  Recently  "
      ]
     },
     "metadata": {},
     "output_type": "display_data"
    }
   ],
   "source": [
    "df18 = pd.DataFrame()\n",
    "df18['source'] = source\n",
    "df18['pairs'] = pairs\n",
    "df18['price'] = price\n",
    "df18['plus_2_Depth'] = plus_2_Depth\n",
    "df18['minus_2_Depth'] = minus_2_Depth\n",
    "df18['volume'] = volume\n",
    "df18['volume_perc'] = volume_perc\n",
    "df18['confidence'] = confidence\n",
    "df18['liquidity'] = liquidity\n",
    "df18['updated'] = updated\n",
    "\n",
    "display(df18.head())\n",
    "\n",
    "# saving the pandas dataframe locally as csv file format\n",
    "df18.to_csv(\"Bitcoin_Cash.csv\")"
   ]
  },
  {
   "cell_type": "markdown",
   "metadata": {},
   "source": [
    "### [21. Wrapped Bitcoin](#nineteenth)"
   ]
  },
  {
   "cell_type": "code",
   "execution_count": 724,
   "metadata": {},
   "outputs": [],
   "source": [
    "# Establish chrome driver and go to report site URL\n",
    "url19 = 'https://coinmarketcap.com/currencies/wrapped-bitcoin/markets/'\n",
    "driver = webdriver.Chrome()\n",
    "driver.get(url19)"
   ]
  },
  {
   "cell_type": "code",
   "execution_count": 725,
   "metadata": {},
   "outputs": [],
   "source": [
    "#Selenium hands the page source to Beautiful Soup\n",
    "soup = BeautifulSoup(driver.page_source, 'lxml')\n",
    "table = soup.find('table', {'class':'h7vnx2-2 ecUULi cmc-table'})"
   ]
  },
  {
   "cell_type": "markdown",
   "metadata": {},
   "source": [
    "#### Scraping the market table and its columns - Source, Pairs, Price, +2% Depth, -2% Depth, Volume, Volume %, Confidence, Liquidity, Updated.\n",
    "---"
   ]
  },
  {
   "cell_type": "code",
   "execution_count": 726,
   "metadata": {
    "scrolled": true
   },
   "outputs": [],
   "source": [
    "table_rows = table.find_all('tr')"
   ]
  },
  {
   "cell_type": "code",
   "execution_count": 727,
   "metadata": {},
   "outputs": [
    {
     "name": "stdout",
     "output_type": "stream",
     "text": [
      "13\n",
      "['Binance', 'FTX', 'Uniswap (V2)', 'FTX', 'Coinbase Exchange', 'Binance', 'Uniswap (V2)', 'Coinbase Exchange', 'KuCoin', 'Huobi Global', 'Uniswap (V2)', 'Kraken', 'Kraken']\n"
     ]
    }
   ],
   "source": [
    "query = table.find_all('p', {'class': 'sc-1eb5slv-0 iworPT'})\n",
    "source=[]\n",
    "\n",
    "for x in query:\n",
    "    try:\n",
    "        source.append(x.text)\n",
    "    except AttributeError:\n",
    "        break    \n",
    "        \n",
    "print(len(source))\n",
    "print(source)"
   ]
  },
  {
   "cell_type": "code",
   "execution_count": 728,
   "metadata": {},
   "outputs": [
    {
     "name": "stdout",
     "output_type": "stream",
     "text": [
      "13\n",
      "['WBTC/BTC', 'WBTC/BTC', 'WBTC/WETH', 'WBTC/USD', 'WBTC/BTC', 'WBTC/ETH', 'WBTC/BADGER', 'WBTC/USD', 'WBTC/BTC', 'WBTC/BTC', 'WBTC/USDC', 'WBTC/USD', 'WBTC/EUR']\n"
     ]
    }
   ],
   "source": [
    "query = table.find_all('a', {'class': 'qh9zi5-0 bGASOe cmc-link'})\n",
    "pairs=[]\n",
    "\n",
    "for x in query:\n",
    "    try:\n",
    "        pairs.append(x.text)\n",
    "    except AttributeError:\n",
    "        break    \n",
    "        \n",
    "print(len(pairs))\n",
    "print(pairs)"
   ]
  },
  {
   "cell_type": "code",
   "execution_count": 729,
   "metadata": {},
   "outputs": [
    {
     "name": "stdout",
     "output_type": "stream",
     "text": [
      "13\n",
      "['$54,513.70', '$54,508.25', '$54,080.78', '$54,492.00', '$54,508.25', '$54,519.59', '$54,329.45', '$54,510.10', '$54,922.90', '$54,519.15', '$54,247.48', '$54,065.20', '$54,154.91']\n"
     ]
    }
   ],
   "source": [
    "price=[]\n",
    "\n",
    "for row in table_rows[1:]:\n",
    "    try:\n",
    "        \n",
    "        price.append(row.find_all('td')[3].text)\n",
    "    except AttributeError:\n",
    "        break\n",
    "    except IndexError:\n",
    "        break\n",
    "                \n",
    "print(len(price))\n",
    "print(price)"
   ]
  },
  {
   "cell_type": "code",
   "execution_count": 730,
   "metadata": {},
   "outputs": [
    {
     "name": "stdout",
     "output_type": "stream",
     "text": [
      "13\n",
      "['$10,067,325.70', '$36,479,825.59', '-', '$20,062,320.76', '$706,827.96', '$734,710.76', '-', '$190,399.17', '$6,707.78', '$2,009,472.12', '-', '$187,126.70', '$142,533.88']\n"
     ]
    }
   ],
   "source": [
    "plus_2_Depth=[]\n",
    "\n",
    "for row in table_rows[1:]:\n",
    "    try:\n",
    "        \n",
    "        plus_2_Depth.append(row.find_all('td')[4].text)\n",
    "    except AttributeError:\n",
    "        break\n",
    "    except IndexError:\n",
    "        break\n",
    "                \n",
    "print(len(plus_2_Depth))\n",
    "print(plus_2_Depth)"
   ]
  },
  {
   "cell_type": "code",
   "execution_count": 731,
   "metadata": {},
   "outputs": [
    {
     "name": "stdout",
     "output_type": "stream",
     "text": [
      "13\n",
      "['$2,858,906.08', '$37,730,170.20', '-', '$18,906,322.58', '$1,593,765.98', '$448,289.45', '-', '$179,571.89', '$839,376.08', '$93,568.79', '-', '$680,965.00', '$472,303.23']\n"
     ]
    }
   ],
   "source": [
    "minus_2_Depth=[]\n",
    "\n",
    "for row in table_rows[1:]:\n",
    "    try:\n",
    "        \n",
    "        minus_2_Depth.append(row.find_all('td')[5].text)\n",
    "    except AttributeError:\n",
    "        break\n",
    "    except IndexError:\n",
    "        break\n",
    "                \n",
    "print(len(minus_2_Depth))\n",
    "print(minus_2_Depth)"
   ]
  },
  {
   "cell_type": "code",
   "execution_count": 732,
   "metadata": {},
   "outputs": [
    {
     "name": "stdout",
     "output_type": "stream",
     "text": [
      "13\n",
      "['$24,165,903', '$11,087,747', '$5,192,359', '$3,458,531', '$3,356,385', '$2,541,567', '$2,409,546', '$734,415', '$705,148', '$275,224', '$147,627', '$137,852', '$67,567']\n"
     ]
    }
   ],
   "source": [
    "volume=[]\n",
    "\n",
    "for row in table_rows[1:]:\n",
    "    try:\n",
    "        \n",
    "        volume.append(row.find_all('td')[6].text)\n",
    "    except AttributeError:\n",
    "        break\n",
    "    except IndexError:\n",
    "        break\n",
    "                \n",
    "print(len(volume))\n",
    "print(volume)"
   ]
  },
  {
   "cell_type": "code",
   "execution_count": 733,
   "metadata": {},
   "outputs": [
    {
     "name": "stdout",
     "output_type": "stream",
     "text": [
      "13\n",
      "['6.52%', '2.99%', '1.40%', '0.93%', '0.91%', '0.69%', '0.65%', '0.20%', '0.19%', '0.07%', '0.04%', '0.04%', '0.02%']\n"
     ]
    }
   ],
   "source": [
    "volume_perc=[]\n",
    "\n",
    "for row in table_rows[1:]:\n",
    "    try:\n",
    "        \n",
    "        volume_perc.append(row.find_all('td')[7].text)\n",
    "    except AttributeError:\n",
    "        break\n",
    "    except IndexError:\n",
    "        break\n",
    "                \n",
    "print(len(volume_perc))\n",
    "print(volume_perc)"
   ]
  },
  {
   "cell_type": "code",
   "execution_count": 734,
   "metadata": {},
   "outputs": [
    {
     "name": "stdout",
     "output_type": "stream",
     "text": [
      "13\n",
      "['High', 'High', 'High', 'High', 'High', 'High', 'High', 'High', 'High', 'High', 'High', 'High', 'High']\n"
     ]
    }
   ],
   "source": [
    "confidence=[]\n",
    "\n",
    "for row in table_rows[1:]:\n",
    "    try:\n",
    "        \n",
    "        confidence.append(row.find_all('td')[8].text)\n",
    "    except AttributeError:\n",
    "        break\n",
    "    except IndexError:\n",
    "        break\n",
    "                \n",
    "print(len(confidence))\n",
    "print(confidence)"
   ]
  },
  {
   "cell_type": "code",
   "execution_count": 735,
   "metadata": {},
   "outputs": [
    {
     "name": "stdout",
     "output_type": "stream",
     "text": [
      "13\n",
      "['728', '881', '900', '253', '635', '506', '611', '372', '108', '268', '392', '544', '476']\n"
     ]
    }
   ],
   "source": [
    "liquidity=[]\n",
    "\n",
    "for row in table_rows[1:]:\n",
    "    try:\n",
    "        \n",
    "        liquidity.append(row.find_all('td')[9].text)\n",
    "    except AttributeError:\n",
    "        break\n",
    "    except IndexError:\n",
    "        break\n",
    "                \n",
    "print(len(liquidity))\n",
    "print(liquidity)"
   ]
  },
  {
   "cell_type": "code",
   "execution_count": 736,
   "metadata": {},
   "outputs": [
    {
     "name": "stdout",
     "output_type": "stream",
     "text": [
      "13\n",
      "['Recently', 'Recently', 'Recently', 'Recently', 'Recently', 'Recently', 'Recently', 'Recently', 'Recently', 'Recently', 'Recently', 'Recently', 'Recently']\n"
     ]
    }
   ],
   "source": [
    "updated=[]\n",
    "\n",
    "for row in table_rows[1:]:\n",
    "    try:\n",
    "        \n",
    "        updated.append(row.find_all('td')[10].text)\n",
    "    except AttributeError:\n",
    "        break\n",
    "    except IndexError:\n",
    "        break\n",
    "                \n",
    "print(len(updated))\n",
    "print(updated)"
   ]
  },
  {
   "cell_type": "markdown",
   "metadata": {},
   "source": [
    "#### Combining all our columns into pandas Dataframe and viewing it"
   ]
  },
  {
   "cell_type": "code",
   "execution_count": 737,
   "metadata": {
    "scrolled": false
   },
   "outputs": [
    {
     "data": {
      "text/html": [
       "<div>\n",
       "<style scoped>\n",
       "    .dataframe tbody tr th:only-of-type {\n",
       "        vertical-align: middle;\n",
       "    }\n",
       "\n",
       "    .dataframe tbody tr th {\n",
       "        vertical-align: top;\n",
       "    }\n",
       "\n",
       "    .dataframe thead th {\n",
       "        text-align: right;\n",
       "    }\n",
       "</style>\n",
       "<table border=\"1\" class=\"dataframe\">\n",
       "  <thead>\n",
       "    <tr style=\"text-align: right;\">\n",
       "      <th></th>\n",
       "      <th>source</th>\n",
       "      <th>pairs</th>\n",
       "      <th>price</th>\n",
       "      <th>plus_2_Depth</th>\n",
       "      <th>minus_2_Depth</th>\n",
       "      <th>volume</th>\n",
       "      <th>volume_perc</th>\n",
       "      <th>confidence</th>\n",
       "      <th>liquidity</th>\n",
       "      <th>updated</th>\n",
       "    </tr>\n",
       "  </thead>\n",
       "  <tbody>\n",
       "    <tr>\n",
       "      <th>0</th>\n",
       "      <td>Binance</td>\n",
       "      <td>WBTC/BTC</td>\n",
       "      <td>$54,513.70</td>\n",
       "      <td>$10,067,325.70</td>\n",
       "      <td>$2,858,906.08</td>\n",
       "      <td>$24,165,903</td>\n",
       "      <td>6.52%</td>\n",
       "      <td>High</td>\n",
       "      <td>728</td>\n",
       "      <td>Recently</td>\n",
       "    </tr>\n",
       "    <tr>\n",
       "      <th>1</th>\n",
       "      <td>FTX</td>\n",
       "      <td>WBTC/BTC</td>\n",
       "      <td>$54,508.25</td>\n",
       "      <td>$36,479,825.59</td>\n",
       "      <td>$37,730,170.20</td>\n",
       "      <td>$11,087,747</td>\n",
       "      <td>2.99%</td>\n",
       "      <td>High</td>\n",
       "      <td>881</td>\n",
       "      <td>Recently</td>\n",
       "    </tr>\n",
       "    <tr>\n",
       "      <th>2</th>\n",
       "      <td>Uniswap (V2)</td>\n",
       "      <td>WBTC/WETH</td>\n",
       "      <td>$54,080.78</td>\n",
       "      <td>-</td>\n",
       "      <td>-</td>\n",
       "      <td>$5,192,359</td>\n",
       "      <td>1.40%</td>\n",
       "      <td>High</td>\n",
       "      <td>900</td>\n",
       "      <td>Recently</td>\n",
       "    </tr>\n",
       "    <tr>\n",
       "      <th>3</th>\n",
       "      <td>FTX</td>\n",
       "      <td>WBTC/USD</td>\n",
       "      <td>$54,492.00</td>\n",
       "      <td>$20,062,320.76</td>\n",
       "      <td>$18,906,322.58</td>\n",
       "      <td>$3,458,531</td>\n",
       "      <td>0.93%</td>\n",
       "      <td>High</td>\n",
       "      <td>253</td>\n",
       "      <td>Recently</td>\n",
       "    </tr>\n",
       "    <tr>\n",
       "      <th>4</th>\n",
       "      <td>Coinbase Exchange</td>\n",
       "      <td>WBTC/BTC</td>\n",
       "      <td>$54,508.25</td>\n",
       "      <td>$706,827.96</td>\n",
       "      <td>$1,593,765.98</td>\n",
       "      <td>$3,356,385</td>\n",
       "      <td>0.91%</td>\n",
       "      <td>High</td>\n",
       "      <td>635</td>\n",
       "      <td>Recently</td>\n",
       "    </tr>\n",
       "  </tbody>\n",
       "</table>\n",
       "</div>"
      ],
      "text/plain": [
       "              source      pairs       price    plus_2_Depth   minus_2_Depth  \\\n",
       "0            Binance   WBTC/BTC  $54,513.70  $10,067,325.70   $2,858,906.08   \n",
       "1                FTX   WBTC/BTC  $54,508.25  $36,479,825.59  $37,730,170.20   \n",
       "2       Uniswap (V2)  WBTC/WETH  $54,080.78               -               -   \n",
       "3                FTX   WBTC/USD  $54,492.00  $20,062,320.76  $18,906,322.58   \n",
       "4  Coinbase Exchange   WBTC/BTC  $54,508.25     $706,827.96   $1,593,765.98   \n",
       "\n",
       "        volume volume_perc confidence liquidity   updated  \n",
       "0  $24,165,903       6.52%       High       728  Recently  \n",
       "1  $11,087,747       2.99%       High       881  Recently  \n",
       "2   $5,192,359       1.40%       High       900  Recently  \n",
       "3   $3,458,531       0.93%       High       253  Recently  \n",
       "4   $3,356,385       0.91%       High       635  Recently  "
      ]
     },
     "metadata": {},
     "output_type": "display_data"
    }
   ],
   "source": [
    "df19 = pd.DataFrame()\n",
    "df19['source'] = source\n",
    "df19['pairs'] = pairs\n",
    "df19['price'] = price\n",
    "df19['plus_2_Depth'] = plus_2_Depth\n",
    "df19['minus_2_Depth'] = minus_2_Depth\n",
    "df19['volume'] = volume\n",
    "df19['volume_perc'] = volume_perc\n",
    "df19['confidence'] = confidence\n",
    "df19['liquidity'] = liquidity\n",
    "df19['updated'] = updated\n",
    "\n",
    "display(df19.head())\n",
    "\n",
    "# saving the pandas dataframe locally as csv file format\n",
    "df19.to_csv(\"Wrapped_Bitcoin.csv\")"
   ]
  },
  {
   "cell_type": "markdown",
   "metadata": {},
   "source": [
    "### [22. SHIBA INU](#twentieth)"
   ]
  },
  {
   "cell_type": "code",
   "execution_count": 738,
   "metadata": {},
   "outputs": [],
   "source": [
    "# Establish chrome driver and go to report site URL\n",
    "url20 = 'https://coinmarketcap.com/currencies/shiba-inu/markets/'\n",
    "driver = webdriver.Chrome()\n",
    "driver.get(url20)"
   ]
  },
  {
   "cell_type": "code",
   "execution_count": 739,
   "metadata": {},
   "outputs": [],
   "source": [
    "#Selenium hands the page source to Beautiful Soup\n",
    "soup = BeautifulSoup(driver.page_source, 'lxml')\n",
    "table = soup.find('table', {'class':'h7vnx2-2 ecUULi cmc-table'})"
   ]
  },
  {
   "cell_type": "markdown",
   "metadata": {},
   "source": [
    "#### Scraping the market table and its columns - Source, Pairs, Price, +2% Depth, -2% Depth, Volume, Volume %, Confidence, Liquidity, Updated.\n",
    "---"
   ]
  },
  {
   "cell_type": "code",
   "execution_count": 740,
   "metadata": {
    "scrolled": true
   },
   "outputs": [],
   "source": [
    "table_rows = table.find_all('tr')"
   ]
  },
  {
   "cell_type": "code",
   "execution_count": 741,
   "metadata": {},
   "outputs": [
    {
     "name": "stdout",
     "output_type": "stream",
     "text": [
      "12\n",
      "['Binance', 'Coinbase Exchange', 'Huobi Global', 'Binance', 'Binance', 'KuCoin', 'Gate.io', 'Binance.US', 'Binance', 'Coinbase Exchange', 'Uniswap (V2)', 'Binance.US']\n"
     ]
    }
   ],
   "source": [
    "query = table.find_all('p', {'class': 'sc-1eb5slv-0 iworPT'})\n",
    "source=[]\n",
    "\n",
    "for x in query:\n",
    "    try:\n",
    "        source.append(x.text)\n",
    "    except AttributeError:\n",
    "        break    \n",
    "        \n",
    "print(len(source))\n",
    "print(source)"
   ]
  },
  {
   "cell_type": "code",
   "execution_count": 742,
   "metadata": {},
   "outputs": [
    {
     "name": "stdout",
     "output_type": "stream",
     "text": [
      "12\n",
      "['SHIB/USDT', 'SHIB/USD', 'SHIB/USDT', 'SHIB/BUSD', 'SHIB/TRY', 'SHIB/USDT', 'SHIB/USDT', 'SHIB/USDT', 'SHIB/EUR', 'SHIB/USDT', 'SHIB/WETH', 'SHIB/BUSD']\n"
     ]
    }
   ],
   "source": [
    "query = table.find_all('a', {'class': 'qh9zi5-0 bGASOe cmc-link'})\n",
    "pairs=[]\n",
    "\n",
    "for x in query:\n",
    "    try:\n",
    "        pairs.append(x.text)\n",
    "    except AttributeError:\n",
    "        break    \n",
    "        \n",
    "print(len(pairs))\n",
    "print(pairs)"
   ]
  },
  {
   "cell_type": "code",
   "execution_count": 743,
   "metadata": {},
   "outputs": [
    {
     "name": "stdout",
     "output_type": "stream",
     "text": [
      "12\n",
      "['$0.00002276', '$0.00002275', '$0.00002288', '$0.00002278', '$0.00002267', '$0.0000229', '$0.00002303', '$0.0000228', '$0.00002254', '$0.00002276', '$0.00002341', '$0.00002277']\n"
     ]
    }
   ],
   "source": [
    "price=[]\n",
    "\n",
    "for row in table_rows[1:]:\n",
    "    try:\n",
    "        \n",
    "        price.append(row.find_all('td')[3].text)\n",
    "    except AttributeError:\n",
    "        break\n",
    "    except IndexError:\n",
    "        break\n",
    "                \n",
    "print(len(price))\n",
    "print(price)"
   ]
  },
  {
   "cell_type": "code",
   "execution_count": 744,
   "metadata": {},
   "outputs": [
    {
     "name": "stdout",
     "output_type": "stream",
     "text": [
      "12\n",
      "['$505,033.29', '$937,121.33', '$795,126.82', '$272,457.43', '$274,715.59', '$337,765.98', '$414,287.80', '$525,904.61', '$134,854.23', '$325,637.09', '-', '$18,161.33']\n"
     ]
    }
   ],
   "source": [
    "plus_2_Depth=[]\n",
    "\n",
    "for row in table_rows[1:]:\n",
    "    try:\n",
    "        \n",
    "        plus_2_Depth.append(row.find_all('td')[4].text)\n",
    "    except AttributeError:\n",
    "        break\n",
    "    except IndexError:\n",
    "        break\n",
    "                \n",
    "print(len(plus_2_Depth))\n",
    "print(plus_2_Depth)"
   ]
  },
  {
   "cell_type": "code",
   "execution_count": 745,
   "metadata": {},
   "outputs": [
    {
     "name": "stdout",
     "output_type": "stream",
     "text": [
      "12\n",
      "['$2,803,863.18', '$1,302,705.04', '$698,577.67', '$803,690.53', '$110,324.85', '$766,808.58', '$565,209.47', '$390,162.25', '$196,899.64', '$504,308.45', '-', '$59,846.08']\n"
     ]
    }
   ],
   "source": [
    "minus_2_Depth=[]\n",
    "\n",
    "for row in table_rows[1:]:\n",
    "    try:\n",
    "        \n",
    "        minus_2_Depth.append(row.find_all('td')[5].text)\n",
    "    except AttributeError:\n",
    "        break\n",
    "    except IndexError:\n",
    "        break\n",
    "                \n",
    "print(len(minus_2_Depth))\n",
    "print(minus_2_Depth)"
   ]
  },
  {
   "cell_type": "code",
   "execution_count": 746,
   "metadata": {},
   "outputs": [
    {
     "name": "stdout",
     "output_type": "stream",
     "text": [
      "12\n",
      "['$5,709,829,040', '$2,263,029,751', '$1,478,229,470', '$1,189,309,763', '$558,498,096', '$518,584,369', '$495,295,164', '$348,720,814', '$289,063,089', '$272,499,114', '$138,030,960', '$88,285,019']\n"
     ]
    }
   ],
   "source": [
    "volume=[]\n",
    "\n",
    "for row in table_rows[1:]:\n",
    "    try:\n",
    "        \n",
    "        volume.append(row.find_all('td')[6].text)\n",
    "    except AttributeError:\n",
    "        break\n",
    "    except IndexError:\n",
    "        break\n",
    "                \n",
    "print(len(volume))\n",
    "print(volume)"
   ]
  },
  {
   "cell_type": "code",
   "execution_count": 747,
   "metadata": {},
   "outputs": [
    {
     "name": "stdout",
     "output_type": "stream",
     "text": [
      "12\n",
      "['28.79%', '11.41%', '7.45%', '6.00%', '2.82%', '2.62%', '2.50%', '1.76%', '1.46%', '1.37%', '0.70%', '0.45%']\n"
     ]
    }
   ],
   "source": [
    "volume_perc=[]\n",
    "\n",
    "for row in table_rows[1:]:\n",
    "    try:\n",
    "        \n",
    "        volume_perc.append(row.find_all('td')[7].text)\n",
    "    except AttributeError:\n",
    "        break\n",
    "    except IndexError:\n",
    "        break\n",
    "                \n",
    "print(len(volume_perc))\n",
    "print(volume_perc)"
   ]
  },
  {
   "cell_type": "code",
   "execution_count": 748,
   "metadata": {},
   "outputs": [
    {
     "name": "stdout",
     "output_type": "stream",
     "text": [
      "12\n",
      "['High', 'Low', 'Low', 'High', 'High', 'Low', 'Low', 'High', 'High', 'Low', 'High', 'High']\n"
     ]
    }
   ],
   "source": [
    "confidence=[]\n",
    "\n",
    "for row in table_rows[1:]:\n",
    "    try:\n",
    "        \n",
    "        confidence.append(row.find_all('td')[8].text)\n",
    "    except AttributeError:\n",
    "        break\n",
    "    except IndexError:\n",
    "        break\n",
    "                \n",
    "print(len(confidence))\n",
    "print(confidence)"
   ]
  },
  {
   "cell_type": "code",
   "execution_count": 749,
   "metadata": {},
   "outputs": [
    {
     "name": "stdout",
     "output_type": "stream",
     "text": [
      "12\n",
      "['878', '302', '282', '507', '715', '252', '332', '522', '637', '261', '500', '547']\n"
     ]
    }
   ],
   "source": [
    "liquidity=[]\n",
    "\n",
    "for row in table_rows[1:]:\n",
    "    try:\n",
    "        \n",
    "        liquidity.append(row.find_all('td')[9].text)\n",
    "    except AttributeError:\n",
    "        break\n",
    "    except IndexError:\n",
    "        break\n",
    "                \n",
    "print(len(liquidity))\n",
    "print(liquidity)"
   ]
  },
  {
   "cell_type": "code",
   "execution_count": 750,
   "metadata": {},
   "outputs": [
    {
     "name": "stdout",
     "output_type": "stream",
     "text": [
      "12\n",
      "['Recently', 'Recently', 'Recently', 'Recently', 'Recently', 'Recently', 'Recently', 'Recently', 'Recently', 'Recently', 'Recently', 'Recently']\n"
     ]
    }
   ],
   "source": [
    "updated=[]\n",
    "\n",
    "for row in table_rows[1:]:\n",
    "    try:\n",
    "        \n",
    "        updated.append(row.find_all('td')[10].text)\n",
    "    except AttributeError:\n",
    "        break\n",
    "    except IndexError:\n",
    "        break\n",
    "                \n",
    "print(len(updated))\n",
    "print(updated)"
   ]
  },
  {
   "cell_type": "markdown",
   "metadata": {},
   "source": [
    "#### Combining all our columns into pandas Dataframe and viewing it"
   ]
  },
  {
   "cell_type": "code",
   "execution_count": 751,
   "metadata": {
    "scrolled": true
   },
   "outputs": [
    {
     "data": {
      "text/html": [
       "<div>\n",
       "<style scoped>\n",
       "    .dataframe tbody tr th:only-of-type {\n",
       "        vertical-align: middle;\n",
       "    }\n",
       "\n",
       "    .dataframe tbody tr th {\n",
       "        vertical-align: top;\n",
       "    }\n",
       "\n",
       "    .dataframe thead th {\n",
       "        text-align: right;\n",
       "    }\n",
       "</style>\n",
       "<table border=\"1\" class=\"dataframe\">\n",
       "  <thead>\n",
       "    <tr style=\"text-align: right;\">\n",
       "      <th></th>\n",
       "      <th>source</th>\n",
       "      <th>pairs</th>\n",
       "      <th>price</th>\n",
       "      <th>plus_2_Depth</th>\n",
       "      <th>minus_2_Depth</th>\n",
       "      <th>volume</th>\n",
       "      <th>volume_perc</th>\n",
       "      <th>confidence</th>\n",
       "      <th>liquidity</th>\n",
       "      <th>updated</th>\n",
       "    </tr>\n",
       "  </thead>\n",
       "  <tbody>\n",
       "    <tr>\n",
       "      <th>0</th>\n",
       "      <td>Binance</td>\n",
       "      <td>SHIB/USDT</td>\n",
       "      <td>$0.00002276</td>\n",
       "      <td>$505,033.29</td>\n",
       "      <td>$2,803,863.18</td>\n",
       "      <td>$5,709,829,040</td>\n",
       "      <td>28.79%</td>\n",
       "      <td>High</td>\n",
       "      <td>878</td>\n",
       "      <td>Recently</td>\n",
       "    </tr>\n",
       "    <tr>\n",
       "      <th>1</th>\n",
       "      <td>Coinbase Exchange</td>\n",
       "      <td>SHIB/USD</td>\n",
       "      <td>$0.00002275</td>\n",
       "      <td>$937,121.33</td>\n",
       "      <td>$1,302,705.04</td>\n",
       "      <td>$2,263,029,751</td>\n",
       "      <td>11.41%</td>\n",
       "      <td>Low</td>\n",
       "      <td>302</td>\n",
       "      <td>Recently</td>\n",
       "    </tr>\n",
       "    <tr>\n",
       "      <th>2</th>\n",
       "      <td>Huobi Global</td>\n",
       "      <td>SHIB/USDT</td>\n",
       "      <td>$0.00002288</td>\n",
       "      <td>$795,126.82</td>\n",
       "      <td>$698,577.67</td>\n",
       "      <td>$1,478,229,470</td>\n",
       "      <td>7.45%</td>\n",
       "      <td>Low</td>\n",
       "      <td>282</td>\n",
       "      <td>Recently</td>\n",
       "    </tr>\n",
       "    <tr>\n",
       "      <th>3</th>\n",
       "      <td>Binance</td>\n",
       "      <td>SHIB/BUSD</td>\n",
       "      <td>$0.00002278</td>\n",
       "      <td>$272,457.43</td>\n",
       "      <td>$803,690.53</td>\n",
       "      <td>$1,189,309,763</td>\n",
       "      <td>6.00%</td>\n",
       "      <td>High</td>\n",
       "      <td>507</td>\n",
       "      <td>Recently</td>\n",
       "    </tr>\n",
       "    <tr>\n",
       "      <th>4</th>\n",
       "      <td>Binance</td>\n",
       "      <td>SHIB/TRY</td>\n",
       "      <td>$0.00002267</td>\n",
       "      <td>$274,715.59</td>\n",
       "      <td>$110,324.85</td>\n",
       "      <td>$558,498,096</td>\n",
       "      <td>2.82%</td>\n",
       "      <td>High</td>\n",
       "      <td>715</td>\n",
       "      <td>Recently</td>\n",
       "    </tr>\n",
       "  </tbody>\n",
       "</table>\n",
       "</div>"
      ],
      "text/plain": [
       "              source      pairs        price plus_2_Depth  minus_2_Depth  \\\n",
       "0            Binance  SHIB/USDT  $0.00002276  $505,033.29  $2,803,863.18   \n",
       "1  Coinbase Exchange   SHIB/USD  $0.00002275  $937,121.33  $1,302,705.04   \n",
       "2       Huobi Global  SHIB/USDT  $0.00002288  $795,126.82    $698,577.67   \n",
       "3            Binance  SHIB/BUSD  $0.00002278  $272,457.43    $803,690.53   \n",
       "4            Binance   SHIB/TRY  $0.00002267  $274,715.59    $110,324.85   \n",
       "\n",
       "           volume volume_perc confidence liquidity   updated  \n",
       "0  $5,709,829,040      28.79%       High       878  Recently  \n",
       "1  $2,263,029,751      11.41%        Low       302  Recently  \n",
       "2  $1,478,229,470       7.45%        Low       282  Recently  \n",
       "3  $1,189,309,763       6.00%       High       507  Recently  \n",
       "4    $558,498,096       2.82%       High       715  Recently  "
      ]
     },
     "metadata": {},
     "output_type": "display_data"
    }
   ],
   "source": [
    "df20 = pd.DataFrame()\n",
    "df20['source'] = source\n",
    "df20['pairs'] = pairs\n",
    "df20['price'] = price\n",
    "df20['plus_2_Depth'] = plus_2_Depth\n",
    "df20['minus_2_Depth'] = minus_2_Depth\n",
    "df20['volume'] = volume\n",
    "df20['volume_perc'] = volume_perc\n",
    "df20['confidence'] = confidence\n",
    "df20['liquidity'] = liquidity\n",
    "df20['updated'] = updated\n",
    "\n",
    "display(df20.head())\n",
    "\n",
    "# saving the pandas dataframe locally as csv file format\n",
    "df20.to_csv(\"SHIBA_INU.csv\")"
   ]
  },
  {
   "cell_type": "markdown",
   "metadata": {},
   "source": [
    "# Thank you, next is [03_Section 2 and 3] Notebook"
   ]
  },
  {
   "cell_type": "code",
   "execution_count": null,
   "metadata": {},
   "outputs": [],
   "source": []
  }
 ],
 "metadata": {
  "kernelspec": {
   "display_name": "Python 3",
   "language": "python",
   "name": "python3"
  },
  "language_info": {
   "codemirror_mode": {
    "name": "ipython",
    "version": 3
   },
   "file_extension": ".py",
   "mimetype": "text/x-python",
   "name": "python",
   "nbconvert_exporter": "python",
   "pygments_lexer": "ipython3",
   "version": "3.7.6"
  }
 },
 "nbformat": 4,
 "nbformat_minor": 4
}
