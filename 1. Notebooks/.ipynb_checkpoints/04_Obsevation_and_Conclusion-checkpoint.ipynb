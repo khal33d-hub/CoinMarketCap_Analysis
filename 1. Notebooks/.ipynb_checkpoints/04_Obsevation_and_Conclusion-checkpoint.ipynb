{
 "cells": [
  {
   "cell_type": "markdown",
   "metadata": {},
   "source": [
    "# Observation & Conclusion\n",
    "---"
   ]
  },
  {
   "cell_type": "markdown",
   "metadata": {},
   "source": [
    "## Observation\n",
    "\n",
    "#### Webscraping is not a sure-fire method, APIs are more reliable. For a website with busy traffic like coinmarketcap that embeds other websites data and updates them in real-time, any of their underlying javascript could be interferring with the webscraping process. As a result, the data obtained from the website would be limited. However, coinmarket API paid subscriptions(professional and enterprise) could be more efficient in getting more data with ease."
   ]
  },
  {
   "cell_type": "markdown",
   "metadata": {},
   "source": [
    "## Conclusion\n",
    "\n",
    "#### In this project the data collection of top 20 coins on coinmarketcap website was carried out. This was done with Python's webscraping subsequently  visulizing for each tradingpair,  its five most liquid exchanges as measured by the Volume as a table by Python's Pandas Dataframe. Finally, corresponding plot for each asset by its quotes with Python's matplotlib."
   ]
  },
  {
   "cell_type": "markdown",
   "metadata": {},
   "source": [
    "# Thank You for this oppourtunity"
   ]
  }
 ],
 "metadata": {
  "kernelspec": {
   "display_name": "Python 3",
   "language": "python",
   "name": "python3"
  },
  "language_info": {
   "codemirror_mode": {
    "name": "ipython",
    "version": 3
   },
   "file_extension": ".py",
   "mimetype": "text/x-python",
   "name": "python",
   "nbconvert_exporter": "python",
   "pygments_lexer": "ipython3",
   "version": "3.7.6"
  }
 },
 "nbformat": 4,
 "nbformat_minor": 4
}
