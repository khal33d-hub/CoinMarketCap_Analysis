{
 "cells": [
  {
   "cell_type": "code",
   "execution_count": null,
   "metadata": {},
   "outputs": [],
   "source": [
    "import requests\n",
    "import pandas as pd\n",
    "import json\n",
    "from datetime import datetime"
   ]
  },
  {
   "cell_type": "code",
   "execution_count": null,
   "metadata": {},
   "outputs": [],
   "source": [
    "url = \"https://apidojo-yahoo-finance-v1.p.rapidapi.com/stock/v2/get-chart\"\n",
    "\n",
    "querystring = {\"symbol\":\"TSLA\",\"interval\":\"1d\",\"range\":\"10y\",\"region\":\"US\"}\n",
    "\n",
    "headers = {\n",
    "    'x-rapidapi-key': \"243ef897b3msh844988ee7a01b7fp192ddajsnbd64c87292e2\",\n",
    "    'x-rapidapi-host': \"apidojo-yahoo-finance-v1.p.rapidapi.com\"\n",
    "    }\n",
    "\n",
    "response = requests.request(\"GET\", url, headers=headers, params=querystring)"
   ]
  },
  {
   "cell_type": "code",
   "execution_count": 7,
   "metadata": {},
   "outputs": [
    {
     "name": "stdout",
     "output_type": "stream",
     "text": [
      "{'status': {'timestamp': '2021-10-06T17:47:23.748Z', 'error_code': 0, 'error_message': None, 'elapsed': 14, 'credit_count': 1, 'notice': None, 'total_count': 7056}, 'data': [{'id': 1, 'name': 'Bitcoin', 'symbol': 'BTC', 'slug': 'bitcoin', 'num_market_pairs': 8536, 'date_added': '2013-04-28T00:00:00.000Z', 'tags': ['mineable', 'pow', 'sha-256', 'store-of-value', 'state-channels', 'coinbase-ventures-portfolio', 'three-arrows-capital-portfolio', 'polychain-capital-portfolio', 'binance-labs-portfolio', 'arrington-xrp-capital', 'blockchain-capital-portfolio', 'boostvc-portfolio', 'cms-holdings-portfolio', 'dcg-portfolio', 'dragonfly-capital-portfolio', 'electric-capital-portfolio', 'fabric-ventures-portfolio', 'framework-ventures', 'galaxy-digital-portfolio', 'huobi-capital', 'alameda-research-portfolio', 'a16z-portfolio', '1confirmation-portfolio', 'winklevoss-capital', 'usv-portfolio', 'placeholder-ventures-portfolio', 'pantera-capital-portfolio', 'multicoin-capital-portfolio', 'paradigm-xzy-screener'], 'max_supply': 21000000, 'circulating_supply': 18836525, 'total_supply': 18836525, 'platform': None, 'cmc_rank': 1, 'last_updated': '2021-10-06T17:46:02.000Z', 'quote': {'USD': {'price': 54721.69072514129, 'volume_24h': 50555234370.52821, 'percent_change_1h': 0.03765728, 'percent_change_24h': 9.07129019, 'percent_change_7d': 32.27167786, 'percent_change_30d': 5.85166355, 'percent_change_60d': 25.90266689, 'percent_change_90d': 66.04758131, 'market_cap': 1030766495386.3921, 'market_cap_dominance': 44.8306, 'fully_diluted_market_cap': 1149155505227.97, 'last_updated': '2021-10-06T17:46:02.000Z'}}}, {'id': 1027, 'name': 'Ethereum', 'symbol': 'ETH', 'slug': 'ethereum', 'num_market_pairs': 5016, 'date_added': '2015-08-07T00:00:00.000Z', 'tags': ['mineable', 'pow', 'smart-contracts', 'ethereum', 'binance-smart-chain', 'coinbase-ventures-portfolio', 'three-arrows-capital-portfolio', 'polychain-capital-portfolio', 'binance-labs-portfolio', 'arrington-xrp-capital', 'blockchain-capital-portfolio', 'boostvc-portfolio', 'cms-holdings-portfolio', 'dcg-portfolio', 'dragonfly-capital-portfolio', 'electric-capital-portfolio', 'fabric-ventures-portfolio', 'framework-ventures', 'hashkey-capital-portfolio', 'kinetic-capital', 'huobi-capital', 'alameda-research-portfolio', 'a16z-portfolio', '1confirmation-portfolio', 'winklevoss-capital', 'usv-portfolio', 'placeholder-ventures-portfolio', 'pantera-capital-portfolio', 'multicoin-capital-portfolio', 'paradigm-xzy-screener'], 'max_supply': None, 'circulating_supply': 117818231.374, 'total_supply': 117818231.374, 'platform': None, 'cmc_rank': 2, 'last_updated': '2021-10-06T17:46:02.000Z', 'quote': {'USD': {'price': 3581.0743140521854, 'volume_24h': 22634545690.158638, 'percent_change_1h': -0.24873383, 'percent_change_24h': 4.1765137, 'percent_change_7d': 26.90187912, 'percent_change_30d': -8.97941584, 'percent_change_60d': 17.07669799, 'percent_change_90d': 65.43942213, 'market_cap': 421915842100.4887, 'market_cap_dominance': 18.3502, 'fully_diluted_market_cap': 421915842100.49, 'last_updated': '2021-10-06T17:46:02.000Z'}}}, {'id': 1839, 'name': 'Binance Coin', 'symbol': 'BNB', 'slug': 'binance-coin', 'num_market_pairs': 533, 'date_added': '2017-07-25T00:00:00.000Z', 'tags': ['marketplace', 'centralized-exchange', 'payments', 'binance-smart-chain', 'alameda-research-portfolio', 'multicoin-capital-portfolio'], 'max_supply': 168137036, 'circulating_supply': 168137036, 'total_supply': 168137036, 'platform': None, 'cmc_rank': 3, 'last_updated': '2021-10-06T17:45:20.000Z', 'quote': {'USD': {'price': 439.2889100895743, 'volume_24h': 1954413405.8324823, 'percent_change_1h': 0.16606973, 'percent_change_24h': 0.44055559, 'percent_change_7d': 20.08323937, 'percent_change_30d': -11.69883679, 'percent_change_60d': 25.50373143, 'percent_change_90d': 39.09158691, 'market_cap': 73860735290.13152, 'market_cap_dominance': 3.2124, 'fully_diluted_market_cap': 73860735290.13, 'last_updated': '2021-10-06T17:45:20.000Z'}}}, {'id': 2010, 'name': 'Cardano', 'symbol': 'ADA', 'slug': 'cardano', 'num_market_pairs': 310, 'date_added': '2017-10-01T00:00:00.000Z', 'tags': ['mineable', 'dpos', 'pos', 'platform', 'research', 'smart-contracts', 'staking', 'binance-smart-chain'], 'max_supply': 45000000000, 'circulating_supply': 32025787326.655, 'total_supply': 33117618880.453, 'platform': None, 'cmc_rank': 4, 'last_updated': '2021-10-06T17:45:20.000Z', 'quote': {'USD': {'price': 2.22997187438985, 'volume_24h': 2677495711.728139, 'percent_change_1h': -0.05891952, 'percent_change_24h': 1.47870937, 'percent_change_7d': 9.18678557, 'percent_change_30d': -21.50548162, 'percent_change_60d': 55.03607202, 'percent_change_90d': 62.5559281, 'market_cap': 71416604993.63155, 'market_cap_dominance': 3.1061, 'fully_diluted_market_cap': 100348734347.54, 'last_updated': '2021-10-06T17:45:20.000Z'}}}, {'id': 825, 'name': 'Tether', 'symbol': 'USDT', 'slug': 'tether', 'num_market_pairs': 18632, 'date_added': '2015-02-25T00:00:00.000Z', 'tags': ['payments', 'stablecoin', 'stablecoin-asset-backed', 'binance-smart-chain', 'avalanche-ecosystem', 'solana-ecosystem'], 'max_supply': None, 'circulating_supply': 68024069674.7408, 'total_supply': 71385677474.96931, 'platform': {'id': 1027, 'name': 'Ethereum', 'symbol': 'ETH', 'slug': 'ethereum', 'token_address': '0xdac17f958d2ee523a2206206994597c13d831ec7'}, 'cmc_rank': 5, 'last_updated': '2021-10-06T17:45:19.000Z', 'quote': {'USD': {'price': 0.99994164904226, 'volume_24h': 95735167311.64705, 'percent_change_1h': 0.01796216, 'percent_change_24h': -0.06988841, 'percent_change_7d': -0.03227295, 'percent_change_30d': -0.04453179, 'percent_change_60d': -0.05439938, 'percent_change_90d': 0.01151776, 'market_cap': 68020100405.12591, 'market_cap_dominance': 2.9584, 'fully_diluted_market_cap': 71381512052.32, 'last_updated': '2021-10-06T17:45:19.000Z'}}}, {'id': 52, 'name': 'XRP', 'symbol': 'XRP', 'slug': 'xrp', 'num_market_pairs': 644, 'date_added': '2013-08-04T00:00:00.000Z', 'tags': ['medium-of-exchange', 'enterprise-solutions', 'binance-chain', 'arrington-xrp-capital', 'galaxy-digital-portfolio', 'a16z-portfolio', 'pantera-capital-portfolio'], 'max_supply': 100000000000, 'circulating_supply': 46750439262, 'total_supply': 99990236671, 'platform': None, 'cmc_rank': 6, 'last_updated': '2021-10-06T17:46:03.000Z', 'quote': {'USD': {'price': 1.08866174535608, 'volume_24h': 3906931979.5300584, 'percent_change_1h': -0.1952176, 'percent_change_24h': 2.37822929, 'percent_change_7d': 17.3334473, 'percent_change_30d': -22.03168655, 'percent_change_60d': 37.00154728, 'percent_change_90d': 73.43441202, 'market_cap': 50895414803.13233, 'market_cap_dominance': 2.2136, 'fully_diluted_market_cap': 108866174535.61, 'last_updated': '2021-10-06T17:46:03.000Z'}}}, {'id': 5426, 'name': 'Solana', 'symbol': 'SOL', 'slug': 'solana', 'num_market_pairs': 156, 'date_added': '2020-04-10T00:00:00.000Z', 'tags': ['pos', 'platform', 'solana-ecosystem', 'cms-holdings-portfolio', 'kinetic-capital', 'alameda-research-portfolio', 'multicoin-capital-portfolio'], 'max_supply': None, 'circulating_supply': 297988649.86339283, 'total_supply': 505735257.6914792, 'platform': None, 'cmc_rank': 7, 'last_updated': '2021-10-06T17:46:05.000Z', 'quote': {'USD': {'price': 159.33399675855884, 'volume_24h': 3333389843.8882766, 'percent_change_1h': -0.49769854, 'percent_change_24h': -1.89751599, 'percent_change_7d': 19.30979964, 'percent_change_30d': 0.93008113, 'percent_change_60d': 320.44263235, 'percent_change_90d': 368.33237223, 'market_cap': 47479722571.42116, 'market_cap_dominance': 2.065, 'fully_diluted_market_cap': 80580819909.7, 'last_updated': '2021-10-06T17:46:05.000Z'}}}, {'id': 74, 'name': 'Dogecoin', 'symbol': 'DOGE', 'slug': 'dogecoin', 'num_market_pairs': 395, 'date_added': '2013-12-15T00:00:00.000Z', 'tags': ['mineable', 'pow', 'scrypt', 'medium-of-exchange', 'memes', 'payments', 'binance-smart-chain', 'doggone-doggerel'], 'max_supply': None, 'circulating_supply': 131583358258.56842, 'total_supply': 131583358258.56842, 'platform': None, 'cmc_rank': 8, 'last_updated': '2021-10-06T17:46:03.000Z', 'quote': {'USD': {'price': 0.25339612791499, 'volume_24h': 4783644099.158476, 'percent_change_1h': -1.31897459, 'percent_change_24h': -1.63353234, 'percent_change_7d': 27.76326321, 'percent_change_30d': -17.40923195, 'percent_change_60d': 4.24347476, 'percent_change_90d': 18.24975904, 'market_cap': 33342713480.77216, 'market_cap_dominance': 1.4502, 'fully_diluted_market_cap': 33342713480.77, 'last_updated': '2021-10-06T17:46:03.000Z'}}}, {'id': 3408, 'name': 'USD Coin', 'symbol': 'USDC', 'slug': 'usd-coin', 'num_market_pairs': 1632, 'date_added': '2018-10-08T00:00:00.000Z', 'tags': ['medium-of-exchange', 'stablecoin', 'stablecoin-asset-backed', 'binance-smart-chain', 'fantom-ecosystem'], 'max_supply': None, 'circulating_supply': 32424548744.008682, 'total_supply': 32424548744.008682, 'platform': {'id': 1027, 'name': 'Ethereum', 'symbol': 'ETH', 'slug': 'ethereum', 'token_address': '0xa0b86991c6218b36c1d19d4a2e9eb0ce3606eb48'}, 'cmc_rank': 9, 'last_updated': '2021-10-06T17:46:05.000Z', 'quote': {'USD': {'price': 0.99955274547624, 'volume_24h': 3405874121.3431253, 'percent_change_1h': 0.00152984, 'percent_change_24h': -0.06926161, 'percent_change_7d': -0.08009383, 'percent_change_30d': -0.04825689, 'percent_change_60d': -0.0258338, 'percent_change_90d': -0.03162933, 'market_cap': 32410046717.902046, 'market_cap_dominance': 1.4096, 'fully_diluted_market_cap': 32410046717.9, 'last_updated': '2021-10-06T17:46:05.000Z'}}}, {'id': 6636, 'name': 'Polkadot', 'symbol': 'DOT', 'slug': 'polkadot-new', 'num_market_pairs': 250, 'date_added': '2020-08-19T00:00:00.000Z', 'tags': ['substrate', 'polkadot', 'binance-chain', 'binance-smart-chain', 'polkadot-ecosystem', 'three-arrows-capital-portfolio', 'polychain-capital-portfolio', 'blockchain-capital-portfolio', 'boostvc-portfolio', 'cms-holdings-portfolio', 'coinfund-portfolio', 'fabric-ventures-portfolio', 'fenbushi-capital-portfolio', 'hashkey-capital-portfolio', 'kinetic-capital', '1confirmation-portfolio', 'placeholder-ventures-portfolio', 'pantera-capital-portfolio', 'exnetwork-capital-portfolio'], 'max_supply': None, 'circulating_supply': 987579314.957085, 'total_supply': 1103303471.382273, 'platform': None, 'cmc_rank': 10, 'last_updated': '2021-10-06T17:46:06.000Z', 'quote': {'USD': {'price': 32.19745278432338, 'volume_24h': 1857379324.3288026, 'percent_change_1h': -0.54368174, 'percent_change_24h': 4.08613541, 'percent_change_7d': 18.51528992, 'percent_change_30d': -6.10226674, 'percent_change_60d': 57.5991788, 'percent_change_90d': 106.74174478, 'market_cap': 31797538364.105175, 'market_cap_dominance': 1.383, 'fully_diluted_market_cap': 35523561426.61, 'last_updated': '2021-10-06T17:46:06.000Z'}}}, {'id': 4172, 'name': 'Terra', 'symbol': 'LUNA', 'slug': 'terra-luna', 'num_market_pairs': 90, 'date_added': '2019-07-26T00:00:00.000Z', 'tags': ['cosmos-ecosystem', 'store-of-value', 'defi', 'payments', 'coinbase-ventures-portfolio', 'binance-labs-portfolio', 'solana-ecosystem', 'arrington-xrp-capital', 'hashkey-capital-portfolio', 'kinetic-capital', 'huobi-capital', 'pantera-capital-portfolio', 'terra-ecosystem'], 'max_supply': None, 'circulating_supply': 402416753.44771236, 'total_supply': 971856167.673069, 'platform': None, 'cmc_rank': 11, 'last_updated': '2021-10-06T17:46:03.000Z', 'quote': {'USD': {'price': 43.9217350679411, 'volume_24h': 1546931388.9686227, 'percent_change_1h': -0.00876009, 'percent_change_24h': -0.89701416, 'percent_change_7d': 29.28437299, 'percent_change_30d': 34.73382241, 'percent_change_60d': 210.05764563, 'percent_change_90d': 523.23856687, 'market_cap': 17674842031.831394, 'market_cap_dominance': 0.7687, 'fully_diluted_market_cap': 42685609120.68, 'last_updated': '2021-10-06T17:46:03.000Z'}}}, {'id': 7083, 'name': 'Uniswap', 'symbol': 'UNI', 'slug': 'uniswap', 'num_market_pairs': 298, 'date_added': '2020-09-17T00:00:00.000Z', 'tags': ['decentralized-exchange', 'defi', 'dao', 'yield-farming', 'amm', 'binance-smart-chain', 'coinbase-ventures-portfolio', 'three-arrows-capital-portfolio', 'governance', 'blockchain-capital-portfolio', 'defiance-capital', 'alameda-research-portfolio', 'a16z-portfolio', 'pantera-capital-portfolio', 'parafi-capital', 'paradigm-xzy-screener'], 'max_supply': 1000000000, 'circulating_supply': 611643723.831094, 'total_supply': 1000000000, 'platform': {'id': 1027, 'name': 'Ethereum', 'symbol': 'ETH', 'slug': 'ethereum', 'token_address': '0x1f9840a85d5af5bf1d1762f925bdaddc4201f984'}, 'cmc_rank': 12, 'last_updated': '2021-10-06T17:45:20.000Z', 'quote': {'USD': {'price': 25.70240985373644, 'volume_24h': 494717928.138246, 'percent_change_1h': -0.81972307, 'percent_change_24h': 3.46537618, 'percent_change_7d': 11.15405533, 'percent_change_30d': -13.01305719, 'percent_change_60d': -7.26951238, 'percent_change_90d': 23.6305609, 'market_cap': 15720717674.372362, 'market_cap_dominance': 0.6837, 'fully_diluted_market_cap': 25702409853.74, 'last_updated': '2021-10-06T17:45:20.000Z'}}}, {'id': 5805, 'name': 'Avalanche', 'symbol': 'AVAX', 'slug': 'avalanche', 'num_market_pairs': 95, 'date_added': '2020-07-13T00:00:00.000Z', 'tags': ['defi', 'smart-contracts', 'binance-smart-chain', 'polychain-capital-portfolio', 'avalanche-ecosystem', 'cms-holdings-portfolio', 'dragonfly-capital-portfolio'], 'max_supply': 720000000, 'circulating_supply': 220286577.20755112, 'total_supply': 391128418.8675511, 'platform': None, 'cmc_rank': 13, 'last_updated': '2021-10-06T17:45:07.000Z', 'quote': {'USD': {'price': 62.13889234520645, 'volume_24h': 1005483484.921392, 'percent_change_1h': -0.51325669, 'percent_change_24h': -2.24992771, 'percent_change_7d': -4.31216171, 'percent_change_30d': 32.71286605, 'percent_change_60d': 318.10804128, 'percent_change_90d': 399.97813289, 'market_cap': 13688363906.194029, 'market_cap_dominance': 0.5953, 'fully_diluted_market_cap': 44740002488.55, 'last_updated': '2021-10-06T17:45:07.000Z'}}}, {'id': 4687, 'name': 'Binance USD', 'symbol': 'BUSD', 'slug': 'binance-usd', 'num_market_pairs': 1365, 'date_added': '2019-09-20T00:00:00.000Z', 'tags': ['stablecoin', 'stablecoin-asset-backed', 'binance-chain', 'binance-smart-chain'], 'max_supply': None, 'circulating_supply': 13059492391.44, 'total_supply': 13059492391.44, 'platform': {'id': 1839, 'name': 'Binance Chain (BEP2)', 'symbol': 'BNB', 'slug': 'binance-coin', 'token_address': 'BUSD-BD1'}, 'cmc_rank': 14, 'last_updated': '2021-10-06T17:46:07.000Z', 'quote': {'USD': {'price': 0.99964080130871, 'volume_24h': 7640089328.126691, 'percent_change_1h': 0.01950435, 'percent_change_24h': -0.06220168, 'percent_change_7d': -0.08866941, 'percent_change_30d': -0.03406465, 'percent_change_60d': -0.01699124, 'percent_change_90d': -0.01939193, 'market_cap': 13054801438.864084, 'market_cap_dominance': 0.5678, 'fully_diluted_market_cap': 13054801438.86, 'last_updated': '2021-10-06T17:46:07.000Z'}}}, {'id': 1975, 'name': 'Chainlink', 'symbol': 'LINK', 'slug': 'chainlink', 'num_market_pairs': 508, 'date_added': '2017-09-20T00:00:00.000Z', 'tags': ['platform', 'defi', 'oracles', 'smart-contracts', 'substrate', 'polkadot', 'binance-smart-chain', 'polkadot-ecosystem', 'avalanche-ecosystem', 'solana-ecosystem', 'framework-ventures', 'polygon-ecosystem', 'fantom-ecosystem'], 'max_supply': 1000000000, 'circulating_supply': 456509553.9174637, 'total_supply': 1000000000, 'platform': {'id': 1027, 'name': 'Ethereum', 'symbol': 'ETH', 'slug': 'ethereum', 'token_address': '0x514910771af9ca656af840dff83e8264ecf986ca'}, 'cmc_rank': 15, 'last_updated': '2021-10-06T17:45:21.000Z', 'quote': {'USD': {'price': 27.91742603102187, 'volume_24h': 1233642111.9721766, 'percent_change_1h': -0.09152119, 'percent_change_24h': 5.47151929, 'percent_change_7d': 22.53154059, 'percent_change_30d': -21.23276833, 'percent_change_60d': 15.78709993, 'percent_change_90d': 46.98149257, 'market_cap': 12744571703.945583, 'market_cap_dominance': 0.5543, 'fully_diluted_market_cap': 27917426031.02, 'last_updated': '2021-10-06T17:45:21.000Z'}}}, {'id': 2, 'name': 'Litecoin', 'symbol': 'LTC', 'slug': 'litecoin', 'num_market_pairs': 702, 'date_added': '2013-04-28T00:00:00.000Z', 'tags': ['mineable', 'pow', 'scrypt', 'medium-of-exchange', 'binance-chain', 'binance-smart-chain'], 'max_supply': 84000000, 'circulating_supply': 68690870.4967574, 'total_supply': 84000000, 'platform': None, 'cmc_rank': 16, 'last_updated': '2021-10-06T17:46:02.000Z', 'quote': {'USD': {'price': 181.32345331232528, 'volume_24h': 3375762071.3967023, 'percent_change_1h': -0.35365256, 'percent_change_24h': 7.19847183, 'percent_change_7d': 24.43844009, 'percent_change_30d': -18.36495689, 'percent_change_60d': 18.58071963, 'percent_change_90d': 36.92895775, 'market_cap': 12455265849.501774, 'market_cap_dominance': 0.5417, 'fully_diluted_market_cap': 15231170078.24, 'last_updated': '2021-10-06T17:46:02.000Z'}}}, {'id': 4030, 'name': 'Algorand', 'symbol': 'ALGO', 'slug': 'algorand', 'num_market_pairs': 156, 'date_added': '2019-06-20T00:00:00.000Z', 'tags': ['pos', 'platform', 'research', 'smart-contracts', 'arrington-xrp-capital', 'kinetic-capital', 'usv-portfolio', 'multicoin-capital-portfolio', 'exnetwork-capital-portfolio'], 'max_supply': 10000000000, 'circulating_supply': 6136889760.206656, 'total_supply': 6681426696.55143, 'platform': None, 'cmc_rank': 17, 'last_updated': '2021-10-06T17:45:21.000Z', 'quote': {'USD': {'price': 1.90122308401842, 'volume_24h': 690417944.2124336, 'percent_change_1h': -0.37467204, 'percent_change_24h': -1.66306531, 'percent_change_7d': 19.98824948, 'percent_change_30d': 32.69741641, 'percent_change_60d': 120.34324705, 'percent_change_90d': 116.50641196, 'market_cap': 11667596476.181162, 'market_cap_dominance': 0.5075, 'fully_diluted_market_cap': 19012230840.18, 'last_updated': '2021-10-06T17:45:21.000Z'}}}, {'id': 1831, 'name': 'Bitcoin Cash', 'symbol': 'BCH', 'slug': 'bitcoin-cash', 'num_market_pairs': 548, 'date_added': '2017-07-23T00:00:00.000Z', 'tags': ['mineable', 'pow', 'sha-256', 'marketplace', 'medium-of-exchange', 'store-of-value', 'enterprise-solutions', 'payments', 'binance-chain', 'binance-smart-chain'], 'max_supply': 21000000, 'circulating_supply': 18865318.75, 'total_supply': 18865318.75, 'platform': None, 'cmc_rank': 18, 'last_updated': '2021-10-06T17:45:19.000Z', 'quote': {'USD': {'price': 616.0118185046442, 'volume_24h': 1771566182.5523667, 'percent_change_1h': -0.33599671, 'percent_change_24h': 7.2606234, 'percent_change_7d': 27.73301846, 'percent_change_30d': -21.6190908, 'percent_change_60d': 6.72390981, 'percent_change_90d': 23.96585065, 'market_cap': 11621259309.857262, 'market_cap_dominance': 0.5054, 'fully_diluted_market_cap': 12936248188.6, 'last_updated': '2021-10-06T17:45:19.000Z'}}}, {'id': 3717, 'name': 'Wrapped Bitcoin', 'symbol': 'WBTC', 'slug': 'wrapped-bitcoin', 'num_market_pairs': 220, 'date_added': '2019-01-30T00:00:00.000Z', 'tags': ['medium-of-exchange', 'defi', 'wrapped-tokens', 'fantom-ecosystem'], 'max_supply': None, 'circulating_supply': 207269.57494263, 'total_supply': 207269.57494263, 'platform': {'id': 1027, 'name': 'Ethereum', 'symbol': 'ETH', 'slug': 'ethereum', 'token_address': '0x2260fac5e5542a773aa44fbcfedf7c193bc2c599'}, 'cmc_rank': 19, 'last_updated': '2021-10-06T17:46:07.000Z', 'quote': {'USD': {'price': 54718.96711004194, 'volume_24h': 417150682.6320753, 'percent_change_1h': 0.04273191, 'percent_change_24h': 9.06682927, 'percent_change_7d': 31.95755429, 'percent_change_30d': 5.92592913, 'percent_change_60d': 26.11486831, 'percent_change_90d': 66.22641724, 'market_cap': 11341577054.198143, 'market_cap_dominance': 0.4933, 'fully_diluted_market_cap': 11341577054.2, 'last_updated': '2021-10-06T17:46:07.000Z'}}}, {'id': 8916, 'name': 'Internet Computer', 'symbol': 'ICP', 'slug': 'internet-computer', 'num_market_pairs': 78, 'date_added': '2021-03-23T00:00:00.000Z', 'tags': ['platform', 'distributed-computing', 'polychain-capital-portfolio', 'exnetwork-capital-portfolio'], 'max_supply': None, 'circulating_supply': 167087413.27, 'total_supply': 473586758.845425, 'platform': None, 'cmc_rank': 20, 'last_updated': '2021-10-06T17:45:15.000Z', 'quote': {'USD': {'price': 55.5402359926671, 'volume_24h': 532202275.7281594, 'percent_change_1h': -1.02564523, 'percent_change_24h': 0.93565744, 'percent_change_7d': 28.35463305, 'percent_change_30d': -29.02360157, 'percent_change_60d': -11.62469252, 'percent_change_90d': 34.38374569, 'market_cap': 9280074364.420097, 'market_cap_dominance': 0.4036, 'fully_diluted_market_cap': 26303120349.28, 'last_updated': '2021-10-06T17:45:15.000Z'}}}]}\n"
     ]
    }
   ],
   "source": [
    "#This example uses Python 2.7 and the python-request library.\n",
    "\n",
    "from requests import Request, Session\n",
    "from requests.exceptions import ConnectionError, Timeout, TooManyRedirects\n",
    "import json\n",
    "\n",
    "url = 'https://pro-api.coinmarketcap.com/v1/cryptocurrency/listings/latest'\n",
    "parameters = {\n",
    "  'start':'1',\n",
    "  'limit':'20',\n",
    "  'convert':'USD'\n",
    "}\n",
    "headers = {\n",
    "  'Accepts': 'application/json',\n",
    "  'X-CMC_PRO_API_KEY': 'ccc76e80-9dc5-4770-8d33-19dd6fad3d74',\n",
    "}\n",
    "\n",
    "session = Session()\n",
    "session.headers.update(headers)\n",
    "\n",
    "try:\n",
    "    response = session.get(url, params=parameters)\n",
    "    data = json.loads(response.text)\n",
    "    print(data)\n",
    "except (ConnectionError, Timeout, TooManyRedirects) as e:\n",
    "    print(e)"
   ]
  },
  {
   "cell_type": "code",
   "execution_count": 5,
   "metadata": {},
   "outputs": [
    {
     "data": {
      "text/plain": [
       "{'id': 1,\n",
       " 'name': 'Bitcoin',\n",
       " 'symbol': 'BTC',\n",
       " 'slug': 'bitcoin',\n",
       " 'num_market_pairs': 8536,\n",
       " 'date_added': '2013-04-28T00:00:00.000Z',\n",
       " 'tags': ['mineable',\n",
       "  'pow',\n",
       "  'sha-256',\n",
       "  'store-of-value',\n",
       "  'state-channels',\n",
       "  'coinbase-ventures-portfolio',\n",
       "  'three-arrows-capital-portfolio',\n",
       "  'polychain-capital-portfolio',\n",
       "  'binance-labs-portfolio',\n",
       "  'arrington-xrp-capital',\n",
       "  'blockchain-capital-portfolio',\n",
       "  'boostvc-portfolio',\n",
       "  'cms-holdings-portfolio',\n",
       "  'dcg-portfolio',\n",
       "  'dragonfly-capital-portfolio',\n",
       "  'electric-capital-portfolio',\n",
       "  'fabric-ventures-portfolio',\n",
       "  'framework-ventures',\n",
       "  'galaxy-digital-portfolio',\n",
       "  'huobi-capital',\n",
       "  'alameda-research-portfolio',\n",
       "  'a16z-portfolio',\n",
       "  '1confirmation-portfolio',\n",
       "  'winklevoss-capital',\n",
       "  'usv-portfolio',\n",
       "  'placeholder-ventures-portfolio',\n",
       "  'pantera-capital-portfolio',\n",
       "  'multicoin-capital-portfolio',\n",
       "  'paradigm-xzy-screener'],\n",
       " 'max_supply': 21000000,\n",
       " 'circulating_supply': 18836525,\n",
       " 'total_supply': 18836525,\n",
       " 'platform': None,\n",
       " 'cmc_rank': 1,\n",
       " 'last_updated': '2021-10-06T17:19:02.000Z',\n",
       " 'quote': {'USD': {'price': 54584.856247138596,\n",
       "   'volume_24h': 50408114795.5347,\n",
       "   'percent_change_1h': -0.15119561,\n",
       "   'percent_change_24h': 8.86169048,\n",
       "   'percent_change_7d': 31.35281305,\n",
       "   'percent_change_30d': 5.65199199,\n",
       "   'percent_change_60d': 25.64253342,\n",
       "   'percent_change_90d': 66.39870164,\n",
       "   'market_cap': 1028189009320.6323,\n",
       "   'market_cap_dominance': 44.6502,\n",
       "   'fully_diluted_market_cap': 1146281981189.91,\n",
       "   'last_updated': '2021-10-06T17:19:02.000Z'}}}"
      ]
     },
     "execution_count": 5,
     "metadata": {},
     "output_type": "execute_result"
    }
   ],
   "source": [
    "data['data'][0]"
   ]
  },
  {
   "cell_type": "code",
   "execution_count": null,
   "metadata": {},
   "outputs": [],
   "source": []
  }
 ],
 "metadata": {
  "kernelspec": {
   "display_name": "Python 3",
   "language": "python",
   "name": "python3"
  },
  "language_info": {
   "codemirror_mode": {
    "name": "ipython",
    "version": 3
   },
   "file_extension": ".py",
   "mimetype": "text/x-python",
   "name": "python",
   "nbconvert_exporter": "python",
   "pygments_lexer": "ipython3",
   "version": "3.7.6"
  }
 },
 "nbformat": 4,
 "nbformat_minor": 4
}
