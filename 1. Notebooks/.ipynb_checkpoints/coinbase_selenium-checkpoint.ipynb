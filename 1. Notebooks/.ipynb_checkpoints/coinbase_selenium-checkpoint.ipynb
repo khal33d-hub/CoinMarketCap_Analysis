{
 "cells": [
  {
   "cell_type": "code",
   "execution_count": 195,
   "metadata": {},
   "outputs": [],
   "source": [
    "# Load selenium components\n",
    "from selenium import webdriver\n",
    "from selenium.webdriver.common.by import By\n",
    "from selenium.webdriver.support.ui import WebDriverWait, Select\n",
    "from selenium.webdriver.support import expected_conditions as EC\n",
    "from selenium.common.exceptions import TimeoutException"
   ]
  },
  {
   "cell_type": "code",
   "execution_count": 196,
   "metadata": {},
   "outputs": [],
   "source": [
    "# Establish chrome driver and go to report site URL\n",
    "url = 'https://coinmarketcap.com/currencies/bitcoin/markets/'\n",
    "driver = webdriver.Chrome()\n",
    "driver.get(url)"
   ]
  },
  {
   "cell_type": "code",
   "execution_count": 197,
   "metadata": {},
   "outputs": [],
   "source": [
    "rows = driver.find_element_by_xpath('//*[@id=\"__next\"]/div/div[1]/div[2]/div/div[3]/div/div[2]/div/table/tbody').find_elements_by_tag_name('tr')"
   ]
  },
  {
   "cell_type": "code",
   "execution_count": 100,
   "metadata": {},
   "outputs": [
    {
     "name": "stdout",
     "output_type": "stream",
     "text": [
      "['Binance', 'Coinbase Exchange', 'Huobi Global', 'FTX', 'Binance', 'KuCoin', 'Bitfinex', 'Binance', 'Gate.io', 'Kraken', 'FTX', 'Coincheck', 'bitFlyer', 'Bithumb', 'Kraken', 'Bitstamp', 'Gemini', 'FTX US', 'Liquid', 'Binance', 'Coinbase Exchange', 'Binance.US', 'Binance', 'Binance', 'Binance', 'Bitstamp', 'FTX US', 'Binance', 'Binance', 'Coinbase Exchange', 'Gate.io', 'Bitfinex', 'Binance', 'Binance', 'Coinbase Exchange', 'Huobi Global', 'Binance', 'Binance', 'Binance', 'Binance', 'Binance', 'Binance', 'Coinbase Exchange', 'Coinbase Exchange', 'Poloniex', 'Bitfinex', 'Binance', 'Kraken', 'Bitfinex', 'Binance', 'Binance', 'FTX', 'Binance', 'Bitfinex', 'Binance.US', 'Binance', 'Kraken', 'Binance', 'Binance', 'Coinbase Exchange', 'Binance', 'Huobi Global', 'FTX', 'Bittrex', 'KuCoin', 'Coinbase Exchange', 'Binance', 'Binance', 'Binance', 'Binance', 'Binance', 'Bitfinex', 'Poloniex', 'Huobi Global', 'FTX', 'bitFlyer', 'Binance', 'KuCoin', 'Coinbase Exchange', 'Huobi Global', 'FTX', 'Binance', 'Binance', 'Binance', 'Binance', 'Binance', 'Bitstamp', 'Kraken', 'Huobi Global', 'Binance', 'Binance', 'Bittrex', 'Binance', 'Binance', 'Kraken', 'Binance', 'Binance.US', 'Binance', 'Huobi Global', 'Binance']\n"
     ]
    }
   ],
   "source": [
    "source=[]\n",
    "\n",
    "for x in range(100):\n",
    "    #get name\n",
    "    source.append(rows[x].find_elements_by_tag_name('td')[1].text)\n",
    "\n",
    "print(source)"
   ]
  },
  {
   "cell_type": "code",
   "execution_count": 83,
   "metadata": {},
   "outputs": [
    {
     "name": "stdout",
     "output_type": "stream",
     "text": [
      "Binance\n"
     ]
    }
   ],
   "source": [
    "print(source[87])"
   ]
  },
  {
   "cell_type": "code",
   "execution_count": 198,
   "metadata": {
    "scrolled": true
   },
   "outputs": [
    {
     "name": "stdout",
     "output_type": "stream",
     "text": [
      "['BTC/USDT', 'BTC/USD', 'BTC/USD', 'BTC/USDT', 'BTC/BUSD', 'BTC/USDT', 'ETH/BTC', 'BTC/USDT', 'BTC/USD', 'BTC/USDT', 'BTC/JPY', 'XBT/USD', 'BTC/JPY', 'XBT/EUR', 'BTC/USD', 'BTC/KRW', '', '', '', '', '', '', '', '', '', '', '', '', '', '', '', '', '', '', '', '', '', '', '', '', '', '', '', '', '', '', '', '', '', '', '', '', '', '', '', '', '', '', '', '', '', '', '', '', '', '', '', '', '', '', '', '', '', '', '', '', '', '', '', '', '', '', '', '', '', '', '', '', '', '', '', '', '', '', '', '', '', '', '', '']\n"
     ]
    },
    {
     "data": {
      "text/plain": [
       "100"
      ]
     },
     "execution_count": 198,
     "metadata": {},
     "output_type": "execute_result"
    }
   ],
   "source": [
    "pairs=[]\n",
    "\n",
    "for x in range(100):\n",
    "\n",
    "    #get pairs\n",
    "    pairs.append(rows[x].find_elements_by_tag_name('td')[2].text)\n",
    "\n",
    "print(pairs)\n",
    "len(pairs)"
   ]
  },
  {
   "cell_type": "code",
   "execution_count": null,
   "metadata": {},
   "outputs": [],
   "source": [
    "#data=driver.find_element_by_xpath('//*[@id=\"__next\"]/div/div[1]/div[2]/div/div[3]/div/div[2]/div/table/tbody').find_elements_by_tag_name('td')\n",
    "\n",
    "rows = driver.find_element_by_xpath('//*[@id=\"__next\"]/div/div[1]/div[2]/div/div[3]/div/div[2]/div/table/tbody').find_elements_by_tag_name('tr')\n",
    "\n",
    "len(rows)\n",
    "rows[99].find_elements_by_tag_name('td')"
   ]
  },
  {
   "cell_type": "code",
   "execution_count": 167,
   "metadata": {},
   "outputs": [
    {
     "data": {
      "text/plain": [
       "<selenium.webdriver.remote.webelement.WebElement (session=\"536b0d3748c95d754330e742856ebb30\", element=\"42082a3c-c5be-4322-95e5-78eb0138634b\")>"
      ]
     },
     "execution_count": 167,
     "metadata": {},
     "output_type": "execute_result"
    }
   ],
   "source": [
    "#data=driver.find_element_by_xpath('//*[@id=\"__next\"]/div/div[1]/div[2]/div/div[3]/div/div[2]/div/table/tbody').find_elements_by_tag_name('td')\n",
    "for x in range(100):\n",
    "    rows2 = driver.find_element_by_xpath('//*[@id=\"__next\"]/div/div[1]/div[2]/div/div[3]/div/div[2]/div/table/tbody/tr[{}]'.format(x))\n",
    "\n",
    "rows2\n",
    "#rows[99].find_elements_by_tag_name('td')"
   ]
  },
  {
   "cell_type": "code",
   "execution_count": 193,
   "metadata": {},
   "outputs": [
    {
     "data": {
      "text/plain": [
       "''"
      ]
     },
     "execution_count": 193,
     "metadata": {},
     "output_type": "execute_result"
    }
   ],
   "source": [
    "pairs = driver.find_elements_by_xpath('//*[@id=\"__next\"]/div/div[1]/div[2]/div/div[3]/div/div[2]/div/table/tbody/tr[50]/td[3]')\n",
    "\n",
    "pairs[0].text"
   ]
  },
  {
   "cell_type": "code",
   "execution_count": 186,
   "metadata": {},
   "outputs": [
    {
     "data": {
      "text/plain": [
       "[<selenium.webdriver.remote.webelement.WebElement (session=\"536b0d3748c95d754330e742856ebb30\", element=\"42082a3c-c5be-4322-95e5-78eb0138634b\")>,\n",
       " <selenium.webdriver.remote.webelement.WebElement (session=\"536b0d3748c95d754330e742856ebb30\", element=\"33ca2161-906a-449a-b618-9e19a1354153\")>,\n",
       " <selenium.webdriver.remote.webelement.WebElement (session=\"536b0d3748c95d754330e742856ebb30\", element=\"724760eb-47fe-4ebd-8ffa-1739315497df\")>,\n",
       " <selenium.webdriver.remote.webelement.WebElement (session=\"536b0d3748c95d754330e742856ebb30\", element=\"6900fd05-f6c3-4cd9-857b-ad49b0642cc4\")>,\n",
       " <selenium.webdriver.remote.webelement.WebElement (session=\"536b0d3748c95d754330e742856ebb30\", element=\"de12efd4-e383-42a3-b16e-bbc4929e3494\")>,\n",
       " <selenium.webdriver.remote.webelement.WebElement (session=\"536b0d3748c95d754330e742856ebb30\", element=\"07e4a927-45de-4f03-9d2e-3c53463a8577\")>,\n",
       " <selenium.webdriver.remote.webelement.WebElement (session=\"536b0d3748c95d754330e742856ebb30\", element=\"279b8ec1-e58b-4113-b207-7b0ab2cddf38\")>,\n",
       " <selenium.webdriver.remote.webelement.WebElement (session=\"536b0d3748c95d754330e742856ebb30\", element=\"cb258344-d488-46c8-961b-8f81d066ddab\")>,\n",
       " <selenium.webdriver.remote.webelement.WebElement (session=\"536b0d3748c95d754330e742856ebb30\", element=\"94ead63e-7607-4eb5-b8b9-e521aae69efd\")>,\n",
       " <selenium.webdriver.remote.webelement.WebElement (session=\"536b0d3748c95d754330e742856ebb30\", element=\"8e39494f-dbe6-4cb5-a136-60005c5589f1\")>,\n",
       " <selenium.webdriver.remote.webelement.WebElement (session=\"536b0d3748c95d754330e742856ebb30\", element=\"cbe223e5-acc7-4d4c-9a81-e17ac1cdaa25\")>,\n",
       " <selenium.webdriver.remote.webelement.WebElement (session=\"536b0d3748c95d754330e742856ebb30\", element=\"2717d28b-e159-4005-aee3-d7d68e725898\")>,\n",
       " <selenium.webdriver.remote.webelement.WebElement (session=\"536b0d3748c95d754330e742856ebb30\", element=\"c03e1716-2285-4fdb-b60c-6ceb128cbf29\")>,\n",
       " <selenium.webdriver.remote.webelement.WebElement (session=\"536b0d3748c95d754330e742856ebb30\", element=\"7db13dff-3ca4-4167-8f9f-149e36e8a7be\")>,\n",
       " <selenium.webdriver.remote.webelement.WebElement (session=\"536b0d3748c95d754330e742856ebb30\", element=\"63d865f9-dd28-4d18-a6b3-0b01941bbd66\")>,\n",
       " <selenium.webdriver.remote.webelement.WebElement (session=\"536b0d3748c95d754330e742856ebb30\", element=\"084ee256-d222-4973-8b35-46fcc23bac49\")>,\n",
       " <selenium.webdriver.remote.webelement.WebElement (session=\"536b0d3748c95d754330e742856ebb30\", element=\"c5053fb9-6ce0-4e14-a7b8-4a84103b6c68\")>,\n",
       " <selenium.webdriver.remote.webelement.WebElement (session=\"536b0d3748c95d754330e742856ebb30\", element=\"234bfb5b-51e4-4e5b-80a5-36e13f9c5dee\")>,\n",
       " <selenium.webdriver.remote.webelement.WebElement (session=\"536b0d3748c95d754330e742856ebb30\", element=\"f02ff39b-9960-42ff-8910-300c50ee1047\")>,\n",
       " <selenium.webdriver.remote.webelement.WebElement (session=\"536b0d3748c95d754330e742856ebb30\", element=\"d53bb056-5ae1-4086-bdc6-a2c4b9aa5f2c\")>,\n",
       " <selenium.webdriver.remote.webelement.WebElement (session=\"536b0d3748c95d754330e742856ebb30\", element=\"482d8720-71ac-4c56-a08a-dcde8f0a9de4\")>,\n",
       " <selenium.webdriver.remote.webelement.WebElement (session=\"536b0d3748c95d754330e742856ebb30\", element=\"f2b2f851-68e6-4f23-8c56-fecebf46dbfa\")>,\n",
       " <selenium.webdriver.remote.webelement.WebElement (session=\"536b0d3748c95d754330e742856ebb30\", element=\"ba2ee176-7503-45ec-bba0-e66d5d98c7a8\")>,\n",
       " <selenium.webdriver.remote.webelement.WebElement (session=\"536b0d3748c95d754330e742856ebb30\", element=\"e5c14706-5298-4004-b930-dd5f5f8bb0be\")>,\n",
       " <selenium.webdriver.remote.webelement.WebElement (session=\"536b0d3748c95d754330e742856ebb30\", element=\"94ec3f59-5fd2-47dc-99ad-c991e055692c\")>,\n",
       " <selenium.webdriver.remote.webelement.WebElement (session=\"536b0d3748c95d754330e742856ebb30\", element=\"cd0a6fa2-8b61-4589-a5f5-0dab29145dd5\")>,\n",
       " <selenium.webdriver.remote.webelement.WebElement (session=\"536b0d3748c95d754330e742856ebb30\", element=\"0bb2323a-788c-43d1-b7b5-c1b9da367a8f\")>,\n",
       " <selenium.webdriver.remote.webelement.WebElement (session=\"536b0d3748c95d754330e742856ebb30\", element=\"1be5a657-57ea-45b6-812e-16ba4ef7cbdc\")>,\n",
       " <selenium.webdriver.remote.webelement.WebElement (session=\"536b0d3748c95d754330e742856ebb30\", element=\"5c20f71c-853b-48f6-8766-c2b53aad78ba\")>,\n",
       " <selenium.webdriver.remote.webelement.WebElement (session=\"536b0d3748c95d754330e742856ebb30\", element=\"b3bf1f9f-5a74-4235-aa38-d0eebff2dba8\")>,\n",
       " <selenium.webdriver.remote.webelement.WebElement (session=\"536b0d3748c95d754330e742856ebb30\", element=\"0d0c2c14-a98a-4774-a3e9-8e0414fc9dd5\")>,\n",
       " <selenium.webdriver.remote.webelement.WebElement (session=\"536b0d3748c95d754330e742856ebb30\", element=\"37bd71d9-0dc0-41a1-a0b9-525c0aabfa3d\")>,\n",
       " <selenium.webdriver.remote.webelement.WebElement (session=\"536b0d3748c95d754330e742856ebb30\", element=\"15429854-45de-4516-b4c4-6316982488fc\")>,\n",
       " <selenium.webdriver.remote.webelement.WebElement (session=\"536b0d3748c95d754330e742856ebb30\", element=\"358dc5ca-63a8-42f3-af18-1993bee27c00\")>,\n",
       " <selenium.webdriver.remote.webelement.WebElement (session=\"536b0d3748c95d754330e742856ebb30\", element=\"17810bff-eb43-4087-b0c5-3228f23238a8\")>,\n",
       " <selenium.webdriver.remote.webelement.WebElement (session=\"536b0d3748c95d754330e742856ebb30\", element=\"fe1b959d-49f2-4388-83ec-be0b1dbc9710\")>,\n",
       " <selenium.webdriver.remote.webelement.WebElement (session=\"536b0d3748c95d754330e742856ebb30\", element=\"f8536a5c-5158-43e3-a3a0-0e3b61419f01\")>,\n",
       " <selenium.webdriver.remote.webelement.WebElement (session=\"536b0d3748c95d754330e742856ebb30\", element=\"8900118d-8754-4978-8eb7-3c8e48ded9dd\")>,\n",
       " <selenium.webdriver.remote.webelement.WebElement (session=\"536b0d3748c95d754330e742856ebb30\", element=\"093b0c50-26e2-41ac-bb9e-7e4802174653\")>,\n",
       " <selenium.webdriver.remote.webelement.WebElement (session=\"536b0d3748c95d754330e742856ebb30\", element=\"546796e8-be8e-4407-b359-305460e25e4c\")>,\n",
       " <selenium.webdriver.remote.webelement.WebElement (session=\"536b0d3748c95d754330e742856ebb30\", element=\"e4fa6c4b-8a78-434a-af97-812362b42ed2\")>,\n",
       " <selenium.webdriver.remote.webelement.WebElement (session=\"536b0d3748c95d754330e742856ebb30\", element=\"974125d6-a007-4ee2-8634-77d73451bde6\")>,\n",
       " <selenium.webdriver.remote.webelement.WebElement (session=\"536b0d3748c95d754330e742856ebb30\", element=\"eeb8b869-a99f-41f9-83c7-9dcf03223988\")>,\n",
       " <selenium.webdriver.remote.webelement.WebElement (session=\"536b0d3748c95d754330e742856ebb30\", element=\"e6a252ba-915f-4fd6-9865-fb6917e0b9cf\")>,\n",
       " <selenium.webdriver.remote.webelement.WebElement (session=\"536b0d3748c95d754330e742856ebb30\", element=\"f9459784-6f2b-4978-994f-950689b71eef\")>,\n",
       " <selenium.webdriver.remote.webelement.WebElement (session=\"536b0d3748c95d754330e742856ebb30\", element=\"897557cd-ffff-4b6a-81d6-0aa9c8bb17e3\")>,\n",
       " <selenium.webdriver.remote.webelement.WebElement (session=\"536b0d3748c95d754330e742856ebb30\", element=\"aa77f182-08ff-4cdb-a5fd-07b939083d93\")>,\n",
       " <selenium.webdriver.remote.webelement.WebElement (session=\"536b0d3748c95d754330e742856ebb30\", element=\"ef0b4856-cabc-4f56-b6d4-ee6ac795227c\")>,\n",
       " <selenium.webdriver.remote.webelement.WebElement (session=\"536b0d3748c95d754330e742856ebb30\", element=\"20211aa1-41c3-41ab-8cba-83ef4d3452dc\")>,\n",
       " <selenium.webdriver.remote.webelement.WebElement (session=\"536b0d3748c95d754330e742856ebb30\", element=\"7eef6082-5a37-4f3d-8e39-c161560bb8c0\")>,\n",
       " <selenium.webdriver.remote.webelement.WebElement (session=\"536b0d3748c95d754330e742856ebb30\", element=\"d035ed99-7650-410f-a1e9-b48dcb9bfbad\")>,\n",
       " <selenium.webdriver.remote.webelement.WebElement (session=\"536b0d3748c95d754330e742856ebb30\", element=\"eda6c98d-6154-4120-b6af-b24fb863716a\")>,\n",
       " <selenium.webdriver.remote.webelement.WebElement (session=\"536b0d3748c95d754330e742856ebb30\", element=\"da937d4f-1d16-4253-a9c5-3030d58cac46\")>,\n",
       " <selenium.webdriver.remote.webelement.WebElement (session=\"536b0d3748c95d754330e742856ebb30\", element=\"293da59f-258c-4d24-9b08-53e1b76de64c\")>,\n",
       " <selenium.webdriver.remote.webelement.WebElement (session=\"536b0d3748c95d754330e742856ebb30\", element=\"d1fa6adb-89b7-45c5-a8ec-b533389d1e92\")>,\n",
       " <selenium.webdriver.remote.webelement.WebElement (session=\"536b0d3748c95d754330e742856ebb30\", element=\"cf2a0350-96e7-42d1-b22f-b1c7c896fa5f\")>,\n",
       " <selenium.webdriver.remote.webelement.WebElement (session=\"536b0d3748c95d754330e742856ebb30\", element=\"50e76f8f-4dd7-4d04-a229-0750d57f00ff\")>,\n",
       " <selenium.webdriver.remote.webelement.WebElement (session=\"536b0d3748c95d754330e742856ebb30\", element=\"b27d5651-9bd7-435f-8048-9eee86926ffa\")>,\n",
       " <selenium.webdriver.remote.webelement.WebElement (session=\"536b0d3748c95d754330e742856ebb30\", element=\"9c93fa5f-a2fd-4b10-b155-8e58ce6ba798\")>,\n",
       " <selenium.webdriver.remote.webelement.WebElement (session=\"536b0d3748c95d754330e742856ebb30\", element=\"5c498a66-25b1-4856-9349-c2089f173eec\")>,\n",
       " <selenium.webdriver.remote.webelement.WebElement (session=\"536b0d3748c95d754330e742856ebb30\", element=\"5bd875d9-2ad2-4cf6-a6fa-5fb1cdb78251\")>,\n",
       " <selenium.webdriver.remote.webelement.WebElement (session=\"536b0d3748c95d754330e742856ebb30\", element=\"f22278f3-ef76-4f21-834c-f4699964abfd\")>,\n",
       " <selenium.webdriver.remote.webelement.WebElement (session=\"536b0d3748c95d754330e742856ebb30\", element=\"29c3b49f-2929-4b28-990a-3d03bf8488c2\")>,\n",
       " <selenium.webdriver.remote.webelement.WebElement (session=\"536b0d3748c95d754330e742856ebb30\", element=\"fb5cc0c9-4d10-4959-9fd6-20f32bd25841\")>,\n",
       " <selenium.webdriver.remote.webelement.WebElement (session=\"536b0d3748c95d754330e742856ebb30\", element=\"fab0f064-3673-42a0-95b2-1d5d30aae888\")>,\n",
       " <selenium.webdriver.remote.webelement.WebElement (session=\"536b0d3748c95d754330e742856ebb30\", element=\"79e94614-d2f0-40ed-a48c-1611551e7aab\")>,\n",
       " <selenium.webdriver.remote.webelement.WebElement (session=\"536b0d3748c95d754330e742856ebb30\", element=\"e48637e1-1633-4a77-8d2a-a15c923a0655\")>,\n",
       " <selenium.webdriver.remote.webelement.WebElement (session=\"536b0d3748c95d754330e742856ebb30\", element=\"482757ad-f919-4bfa-b252-c013722fa70c\")>,\n",
       " <selenium.webdriver.remote.webelement.WebElement (session=\"536b0d3748c95d754330e742856ebb30\", element=\"f8c5e652-a677-42c2-995a-4a706c2dea70\")>,\n",
       " <selenium.webdriver.remote.webelement.WebElement (session=\"536b0d3748c95d754330e742856ebb30\", element=\"242332f9-d772-482d-a447-62b219952610\")>,\n",
       " <selenium.webdriver.remote.webelement.WebElement (session=\"536b0d3748c95d754330e742856ebb30\", element=\"01bff58c-43b4-4877-8091-f1cae5e17269\")>,\n",
       " <selenium.webdriver.remote.webelement.WebElement (session=\"536b0d3748c95d754330e742856ebb30\", element=\"eb8b6b23-07a2-40eb-86aa-25f31f004109\")>,\n",
       " <selenium.webdriver.remote.webelement.WebElement (session=\"536b0d3748c95d754330e742856ebb30\", element=\"3e1a5c34-c8da-444b-a5d1-a5d22a37af09\")>,\n",
       " <selenium.webdriver.remote.webelement.WebElement (session=\"536b0d3748c95d754330e742856ebb30\", element=\"fb130e46-899b-43e2-9765-f3d635c78517\")>,\n",
       " <selenium.webdriver.remote.webelement.WebElement (session=\"536b0d3748c95d754330e742856ebb30\", element=\"8bc2b723-ac45-4c35-97cf-1c5e749f789d\")>,\n",
       " <selenium.webdriver.remote.webelement.WebElement (session=\"536b0d3748c95d754330e742856ebb30\", element=\"b3710d5b-c322-49e2-af57-2d45a18fb9d8\")>,\n",
       " <selenium.webdriver.remote.webelement.WebElement (session=\"536b0d3748c95d754330e742856ebb30\", element=\"dfefdad6-ab30-4a4e-ae87-5c13143d2582\")>,\n",
       " <selenium.webdriver.remote.webelement.WebElement (session=\"536b0d3748c95d754330e742856ebb30\", element=\"1d4d5486-18a4-4179-b462-3eecf2492eb2\")>,\n",
       " <selenium.webdriver.remote.webelement.WebElement (session=\"536b0d3748c95d754330e742856ebb30\", element=\"2b1907fc-e46c-4eb6-8c1c-717bcfa8fb84\")>,\n",
       " <selenium.webdriver.remote.webelement.WebElement (session=\"536b0d3748c95d754330e742856ebb30\", element=\"7d2bfdcc-65dc-4533-93b7-be36e7424391\")>,\n",
       " <selenium.webdriver.remote.webelement.WebElement (session=\"536b0d3748c95d754330e742856ebb30\", element=\"5bf365a0-a755-4cda-a4db-23c1804b57a7\")>,\n",
       " <selenium.webdriver.remote.webelement.WebElement (session=\"536b0d3748c95d754330e742856ebb30\", element=\"a74d16cf-8438-4d0a-9e81-c3e49451d606\")>,\n",
       " <selenium.webdriver.remote.webelement.WebElement (session=\"536b0d3748c95d754330e742856ebb30\", element=\"d9f04468-c746-4f08-99a2-163fe1c09f9b\")>,\n",
       " <selenium.webdriver.remote.webelement.WebElement (session=\"536b0d3748c95d754330e742856ebb30\", element=\"b4ee0c5d-a983-4d50-b655-50c9d2ce51d3\")>,\n",
       " <selenium.webdriver.remote.webelement.WebElement (session=\"536b0d3748c95d754330e742856ebb30\", element=\"f0311ed0-f0af-486a-8ea6-68956968c303\")>,\n",
       " <selenium.webdriver.remote.webelement.WebElement (session=\"536b0d3748c95d754330e742856ebb30\", element=\"2592adf2-187e-490e-8abc-8a0f7efd3f23\")>,\n",
       " <selenium.webdriver.remote.webelement.WebElement (session=\"536b0d3748c95d754330e742856ebb30\", element=\"d83c0e15-f46b-40b2-832b-703d773ef9eb\")>,\n",
       " <selenium.webdriver.remote.webelement.WebElement (session=\"536b0d3748c95d754330e742856ebb30\", element=\"bbe10f6a-7415-4cbd-a102-6ea2b74123e1\")>,\n",
       " <selenium.webdriver.remote.webelement.WebElement (session=\"536b0d3748c95d754330e742856ebb30\", element=\"9b4f85ab-5d0a-4454-b6f6-cbad2e109802\")>,\n",
       " <selenium.webdriver.remote.webelement.WebElement (session=\"536b0d3748c95d754330e742856ebb30\", element=\"68cdfc0c-402c-4aac-9855-bb94a93afe5b\")>,\n",
       " <selenium.webdriver.remote.webelement.WebElement (session=\"536b0d3748c95d754330e742856ebb30\", element=\"28a1a06b-37ea-4620-8618-fd732aede65b\")>,\n",
       " <selenium.webdriver.remote.webelement.WebElement (session=\"536b0d3748c95d754330e742856ebb30\", element=\"4e9515a3-a307-4be3-8a68-33f696a364ed\")>,\n",
       " <selenium.webdriver.remote.webelement.WebElement (session=\"536b0d3748c95d754330e742856ebb30\", element=\"49115c07-ef7e-4a17-9ccf-1991744d09c9\")>,\n",
       " <selenium.webdriver.remote.webelement.WebElement (session=\"536b0d3748c95d754330e742856ebb30\", element=\"065e5745-8eeb-4bbb-aeab-6c69041acb8b\")>,\n",
       " <selenium.webdriver.remote.webelement.WebElement (session=\"536b0d3748c95d754330e742856ebb30\", element=\"4d127905-eabe-46ae-a210-b18128731d3a\")>,\n",
       " <selenium.webdriver.remote.webelement.WebElement (session=\"536b0d3748c95d754330e742856ebb30\", element=\"d5510cfe-aaf8-4de0-8019-e8a1930dcb41\")>,\n",
       " <selenium.webdriver.remote.webelement.WebElement (session=\"536b0d3748c95d754330e742856ebb30\", element=\"2287c3c4-94c8-4dea-bac6-2ba6ef1a2f34\")>,\n",
       " <selenium.webdriver.remote.webelement.WebElement (session=\"536b0d3748c95d754330e742856ebb30\", element=\"ca26c26b-0355-467f-81e8-256dfd0ba026\")>,\n",
       " <selenium.webdriver.remote.webelement.WebElement (session=\"536b0d3748c95d754330e742856ebb30\", element=\"2c30f3db-7d19-48a7-b57a-9587c537d999\")>,\n",
       " <selenium.webdriver.remote.webelement.WebElement (session=\"536b0d3748c95d754330e742856ebb30\", element=\"519b3c3b-d264-4fad-b087-ed3bc0408ad2\")>]"
      ]
     },
     "execution_count": 186,
     "metadata": {},
     "output_type": "execute_result"
    }
   ],
   "source": [
    "rows50 = driver.find_elements_by_xpath('//*[@id=\"__next\"]/div/div[1]/div[2]/div/div[3]/div/div[2]/div/table/tbody/tr')\n",
    "                                      \n",
    "rows50"
   ]
  },
  {
   "cell_type": "code",
   "execution_count": null,
   "metadata": {},
   "outputs": [],
   "source": [
    "ids = driver.find_elements_by_xpath(\"//*[contains(@id,'Comment_')]\")\n",
    "        comment_ids = []\n",
    "for i in ids:\n",
    "    comment_ids.append(i.get_attribute('id'))"
   ]
  },
  {
   "cell_type": "code",
   "execution_count": 150,
   "metadata": {
    "scrolled": true
   },
   "outputs": [
    {
     "name": "stdout",
     "output_type": "stream",
     "text": [
      "__class__\n",
      "__delattr__\n",
      "__dict__\n",
      "__dir__\n",
      "__doc__\n",
      "__eq__\n",
      "__format__\n",
      "__ge__\n",
      "__getattribute__\n",
      "__gt__\n",
      "__hash__\n",
      "__init__\n",
      "__init_subclass__\n",
      "__le__\n",
      "__lt__\n",
      "__module__\n",
      "__ne__\n",
      "__new__\n",
      "__reduce__\n",
      "__reduce_ex__\n",
      "__repr__\n",
      "__setattr__\n",
      "__sizeof__\n",
      "__str__\n",
      "__subclasshook__\n",
      "__weakref__\n",
      "_execute\n",
      "_id\n",
      "_parent\n",
      "_upload\n",
      "_w3c\n",
      "clear\n",
      "click\n",
      "find_element\n",
      "find_element_by_class_name\n",
      "find_element_by_css_selector\n",
      "find_element_by_id\n",
      "find_element_by_link_text\n",
      "find_element_by_name\n",
      "find_element_by_partial_link_text\n",
      "find_element_by_tag_name\n",
      "find_element_by_xpath\n",
      "find_elements\n",
      "find_elements_by_class_name\n",
      "find_elements_by_css_selector\n",
      "find_elements_by_id\n",
      "find_elements_by_link_text\n",
      "find_elements_by_name\n",
      "find_elements_by_partial_link_text\n",
      "find_elements_by_tag_name\n",
      "find_elements_by_xpath\n",
      "get_attribute\n",
      "get_property\n",
      "id\n",
      "is_displayed\n",
      "is_enabled\n",
      "is_selected\n",
      "location\n",
      "location_once_scrolled_into_view\n",
      "parent\n",
      "rect\n",
      "screenshot\n",
      "screenshot_as_base64\n",
      "screenshot_as_png\n",
      "send_keys\n",
      "size\n",
      "submit\n",
      "tag_name\n",
      "text\n",
      "value_of_css_property\n"
     ]
    }
   ],
   "source": [
    "for x in dir(rows[50]):\n",
    "    print(x)"
   ]
  },
  {
   "cell_type": "code",
   "execution_count": 84,
   "metadata": {},
   "outputs": [
    {
     "data": {
      "text/plain": [
       "'Binance'"
      ]
     },
     "execution_count": 84,
     "metadata": {},
     "output_type": "execute_result"
    }
   ],
   "source": [
    "rows = driver.find_element_by_xpath('//*[@id=\"__next\"]/div/div[1]/div[2]/div/div[3]/div/div[2]/div/table/tbody').find_elements_by_tag_name('tr')\n",
    "\n",
    "#get pairs\n",
    "rows[87].find_elements_by_tag_name('td')[1].text"
   ]
  },
  {
   "cell_type": "code",
   "execution_count": 109,
   "metadata": {},
   "outputs": [
    {
     "name": "stdout",
     "output_type": "stream",
     "text": [
      "['BTC/USDT', 'BTC/USD', 'BTC/USDT', 'BTC/USD', 'BTC/BUSD', 'BTC/USDT', 'BTC/USD', 'ETH/BTC', 'BTC/USDT', 'XBT/USD', 'BTC/USDT', 'BTC/JPY', 'BTC/JPY', 'BTC/KRW', 'XBT/EUR', 'BTC/USD', 'BTC/USD', 'BTC/USD', 'BTC/JPY', 'BTC/EUR', 'BTC/EUR', 'BTC/USD', 'BTC/USDC', 'SOL/BTC', 'ADA/BTC', 'BTC/EUR', '', '', '', '', '', '', '', '', '', '', '', '', '', '', '', '', '', '', '', '', '', '', '', '', '', '', '', '', '', '', '', '', '', '', '', '', '', '', '', '', '', '', '', '', '', '', '', '', '', '', '', '', '', '', '', '', '', '', '', '', '', '', '', '', '', '', '', '', '', '', '', '', '', '']\n"
     ]
    }
   ],
   "source": [
    "price=[]\n",
    "\n",
    "for x in range(100):\n",
    "\n",
    "    #get pairs\n",
    "    price.append(rows[x].find_elements_by_tag_name('td')[2].text)\n",
    "\n",
    "print(price)"
   ]
  },
  {
   "cell_type": "code",
   "execution_count": 96,
   "metadata": {},
   "outputs": [
    {
     "ename": "IndexError",
     "evalue": "list index out of range",
     "output_type": "error",
     "traceback": [
      "\u001b[1;31m---------------------------------------------------------------------------\u001b[0m",
      "\u001b[1;31mIndexError\u001b[0m                                Traceback (most recent call last)",
      "\u001b[1;32m<ipython-input-96-2be0fea0d318>\u001b[0m in \u001b[0;36m<module>\u001b[1;34m\u001b[0m\n\u001b[0;32m      2\u001b[0m \u001b[1;33m\u001b[0m\u001b[0m\n\u001b[0;32m      3\u001b[0m \u001b[1;31m#get price\u001b[0m\u001b[1;33m\u001b[0m\u001b[1;33m\u001b[0m\u001b[1;33m\u001b[0m\u001b[0m\n\u001b[1;32m----> 4\u001b[1;33m \u001b[0mrows\u001b[0m\u001b[1;33m[\u001b[0m\u001b[1;36m20\u001b[0m\u001b[1;33m]\u001b[0m\u001b[1;33m.\u001b[0m\u001b[0mfind_elements_by_tag_name\u001b[0m\u001b[1;33m(\u001b[0m\u001b[1;34m'td'\u001b[0m\u001b[1;33m)\u001b[0m\u001b[1;33m[\u001b[0m\u001b[1;36m3\u001b[0m\u001b[1;33m]\u001b[0m\u001b[1;33m.\u001b[0m\u001b[0mtext\u001b[0m\u001b[1;33m\u001b[0m\u001b[1;33m\u001b[0m\u001b[0m\n\u001b[0m",
      "\u001b[1;31mIndexError\u001b[0m: list index out of range"
     ]
    }
   ],
   "source": [
    "# rows = driver.find_element_by_xpath('//*[@id=\"__next\"]/div/div[1]/div[2]/div/div[3]/div/div[2]/div/table/tbody').find_elements_by_tag_name('tr')\n",
    "\n",
    "#get price\n",
    "rows[20].find_elements_by_tag_name('td')[3].text"
   ]
  },
  {
   "cell_type": "code",
   "execution_count": 65,
   "metadata": {},
   "outputs": [
    {
     "data": {
      "text/plain": [
       "'$25,067,905.22'"
      ]
     },
     "execution_count": 65,
     "metadata": {},
     "output_type": "execute_result"
    }
   ],
   "source": [
    "rows = driver.find_element_by_xpath('//*[@id=\"__next\"]/div/div[1]/div[2]/div/div[3]/div/div[2]/div/table/tbody').find_elements_by_tag_name('tr')\n",
    "\n",
    "#get +2% Depth\n",
    "rows[0].find_elements_by_tag_name('td')[4].text"
   ]
  },
  {
   "cell_type": "code",
   "execution_count": 63,
   "metadata": {},
   "outputs": [
    {
     "data": {
      "text/plain": [
       "'$19,899,244.43'"
      ]
     },
     "execution_count": 63,
     "metadata": {},
     "output_type": "execute_result"
    }
   ],
   "source": [
    "rows = driver.find_element_by_xpath('//*[@id=\"__next\"]/div/div[1]/div[2]/div/div[3]/div/div[2]/div/table/tbody').find_elements_by_tag_name('tr')\n",
    "\n",
    "#get -2% Depth\n",
    "rows[0].find_elements_by_tag_name('td')[5].text"
   ]
  },
  {
   "cell_type": "code",
   "execution_count": 66,
   "metadata": {},
   "outputs": [
    {
     "data": {
      "text/plain": [
       "'$4,315,698,390'"
      ]
     },
     "execution_count": 66,
     "metadata": {},
     "output_type": "execute_result"
    }
   ],
   "source": [
    "rows = driver.find_element_by_xpath('//*[@id=\"__next\"]/div/div[1]/div[2]/div/div[3]/div/div[2]/div/table/tbody').find_elements_by_tag_name('tr')\n",
    "\n",
    "#get volume\n",
    "rows[0].find_elements_by_tag_name('td')[6].text"
   ]
  },
  {
   "cell_type": "code",
   "execution_count": 67,
   "metadata": {},
   "outputs": [
    {
     "data": {
      "text/plain": [
       "'8.94%'"
      ]
     },
     "execution_count": 67,
     "metadata": {},
     "output_type": "execute_result"
    }
   ],
   "source": [
    "rows = driver.find_element_by_xpath('//*[@id=\"__next\"]/div/div[1]/div[2]/div/div[3]/div/div[2]/div/table/tbody').find_elements_by_tag_name('tr')\n",
    "\n",
    "#get volume%\n",
    "rows[0].find_elements_by_tag_name('td')[7].text"
   ]
  },
  {
   "cell_type": "code",
   "execution_count": 68,
   "metadata": {},
   "outputs": [
    {
     "data": {
      "text/plain": [
       "'High'"
      ]
     },
     "execution_count": 68,
     "metadata": {},
     "output_type": "execute_result"
    }
   ],
   "source": [
    "rows = driver.find_element_by_xpath('//*[@id=\"__next\"]/div/div[1]/div[2]/div/div[3]/div/div[2]/div/table/tbody').find_elements_by_tag_name('tr')\n",
    "\n",
    "#get confidence\n",
    "rows[0].find_elements_by_tag_name('td')[8].text"
   ]
  },
  {
   "cell_type": "code",
   "execution_count": 69,
   "metadata": {},
   "outputs": [
    {
     "data": {
      "text/plain": [
       "'902'"
      ]
     },
     "execution_count": 69,
     "metadata": {},
     "output_type": "execute_result"
    }
   ],
   "source": [
    "rows = driver.find_element_by_xpath('//*[@id=\"__next\"]/div/div[1]/div[2]/div/div[3]/div/div[2]/div/table/tbody').find_elements_by_tag_name('tr')\n",
    "\n",
    "#get liquidity\n",
    "rows[0].find_elements_by_tag_name('td')[9].text"
   ]
  },
  {
   "cell_type": "code",
   "execution_count": 70,
   "metadata": {},
   "outputs": [
    {
     "data": {
      "text/plain": [
       "'Recently'"
      ]
     },
     "execution_count": 70,
     "metadata": {},
     "output_type": "execute_result"
    }
   ],
   "source": [
    "rows = driver.find_element_by_xpath('//*[@id=\"__next\"]/div/div[1]/div[2]/div/div[3]/div/div[2]/div/table/tbody').find_elements_by_tag_name('tr')\n",
    "\n",
    "#get updated\n",
    "rows[0].find_elements_by_tag_name('td')[10].text"
   ]
  },
  {
   "cell_type": "code",
   "execution_count": null,
   "metadata": {},
   "outputs": [],
   "source": [
    "## load more button\n",
    "button = driver.find_element_by_xpath('//*[@id=\"__next\"]/div/div[1]/div[2]/div/div[3]/div/div[4]/button')\n",
    "button.click()"
   ]
  },
  {
   "cell_type": "code",
   "execution_count": null,
   "metadata": {},
   "outputs": [],
   "source": []
  },
  {
   "cell_type": "code",
   "execution_count": null,
   "metadata": {},
   "outputs": [],
   "source": []
  },
  {
   "cell_type": "code",
   "execution_count": null,
   "metadata": {},
   "outputs": [],
   "source": []
  },
  {
   "cell_type": "code",
   "execution_count": null,
   "metadata": {},
   "outputs": [],
   "source": []
  },
  {
   "cell_type": "code",
   "execution_count": null,
   "metadata": {},
   "outputs": [],
   "source": []
  },
  {
   "cell_type": "code",
   "execution_count": null,
   "metadata": {},
   "outputs": [],
   "source": []
  },
  {
   "cell_type": "code",
   "execution_count": null,
   "metadata": {},
   "outputs": [],
   "source": [
    "row = driver.find_element_by_xpath('//*[@id=\"__next\"]/div/div[1]/div[2]/div/div[3]/div/div[2]/div/table/tbody')\n",
    "\n",
    "for ii in row:\n",
    "    #print ii.tag_name\n",
    "    print ii.get_attribute('id')    # id name as string"
   ]
  },
  {
   "cell_type": "code",
   "execution_count": 53,
   "metadata": {},
   "outputs": [
    {
     "name": "stdout",
     "output_type": "stream",
     "text": [
      "<selenium.webdriver.remote.webelement.WebElement (session=\"854e409319a0f3f1b8d950dffedad049\", element=\"7173338d-4669-4241-b085-442543e5b5c6\")>\n"
     ]
    }
   ],
   "source": [
    "for x in range(1, 2):\n",
    "    rows=(driver.find_element_by_xpath('//*[@id=\"__next\"]/div/div[1]/div[2]/div/div[3]/div/div[2]/div/table/tbody/tr[{}]'.format(x)))\n",
    "    print(rows)\n",
    "\n",
    "# print(table.text)"
   ]
  },
  {
   "cell_type": "code",
   "execution_count": null,
   "metadata": {},
   "outputs": [],
   "source": []
  },
  {
   "cell_type": "code",
   "execution_count": 35,
   "metadata": {},
   "outputs": [
    {
     "name": "stdout",
     "output_type": "stream",
     "text": [
      "__class__\n",
      "__delattr__\n",
      "__dict__\n",
      "__dir__\n",
      "__doc__\n",
      "__eq__\n",
      "__format__\n",
      "__ge__\n",
      "__getattribute__\n",
      "__gt__\n",
      "__hash__\n",
      "__init__\n",
      "__init_subclass__\n",
      "__le__\n",
      "__lt__\n",
      "__module__\n",
      "__ne__\n",
      "__new__\n",
      "__reduce__\n",
      "__reduce_ex__\n",
      "__repr__\n",
      "__setattr__\n",
      "__sizeof__\n",
      "__str__\n",
      "__subclasshook__\n",
      "__weakref__\n",
      "_execute\n",
      "_id\n",
      "_parent\n",
      "_upload\n",
      "_w3c\n",
      "clear\n",
      "click\n",
      "find_element\n",
      "find_element_by_class_name\n",
      "find_element_by_css_selector\n",
      "find_element_by_id\n",
      "find_element_by_link_text\n",
      "find_element_by_name\n",
      "find_element_by_partial_link_text\n",
      "find_element_by_tag_name\n",
      "find_element_by_xpath\n",
      "find_elements\n",
      "find_elements_by_class_name\n",
      "find_elements_by_css_selector\n",
      "find_elements_by_id\n",
      "find_elements_by_link_text\n",
      "find_elements_by_name\n",
      "find_elements_by_partial_link_text\n",
      "find_elements_by_tag_name\n",
      "find_elements_by_xpath\n",
      "get_attribute\n",
      "get_property\n",
      "id\n",
      "is_displayed\n",
      "is_enabled\n",
      "is_selected\n",
      "location\n",
      "location_once_scrolled_into_view\n",
      "parent\n",
      "rect\n",
      "screenshot\n",
      "screenshot_as_base64\n",
      "screenshot_as_png\n",
      "send_keys\n",
      "size\n",
      "submit\n",
      "tag_name\n",
      "text\n",
      "value_of_css_property\n"
     ]
    }
   ],
   "source": [
    "for x in dir(table):\n",
    "    print(x)"
   ]
  },
  {
   "cell_type": "code",
   "execution_count": null,
   "metadata": {},
   "outputs": [],
   "source": []
  }
 ],
 "metadata": {
  "kernelspec": {
   "display_name": "Python 3",
   "language": "python",
   "name": "python3"
  },
  "language_info": {
   "codemirror_mode": {
    "name": "ipython",
    "version": 3
   },
   "file_extension": ".py",
   "mimetype": "text/x-python",
   "name": "python",
   "nbconvert_exporter": "python",
   "pygments_lexer": "ipython3",
   "version": "3.7.6"
  }
 },
 "nbformat": 4,
 "nbformat_minor": 4
}
